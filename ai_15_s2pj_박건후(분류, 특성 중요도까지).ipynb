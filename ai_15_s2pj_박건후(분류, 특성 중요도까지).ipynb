{
  "cells": [
    {
      "cell_type": "markdown",
      "metadata": {
        "id": "view-in-github",
        "colab_type": "text"
      },
      "source": [
        "<a href=\"https://colab.research.google.com/github/sbzkdl/AIB-Section2-Project/blob/main/ai_15_s2pj_%EB%B0%95%EA%B1%B4%ED%9B%84(%EB%B6%84%EB%A5%98%2C%20%ED%8A%B9%EC%84%B1%20%EC%A4%91%EC%9A%94%EB%8F%84%EA%B9%8C%EC%A7%80).ipynb\" target=\"_parent\"><img src=\"https://colab.research.google.com/assets/colab-badge.svg\" alt=\"Open In Colab\"/></a>"
      ]
    },
    {
      "cell_type": "code",
      "execution_count": null,
      "metadata": {
        "id": "sXdoQ6egrqYg"
      },
      "outputs": [],
      "source": [
        "import pandas as pd\n",
        "import numpy as np\n",
        "import matplotlib.pyplot as plt\n",
        "import seaborn as sns"
      ]
    },
    {
      "cell_type": "code",
      "execution_count": null,
      "metadata": {
        "id": "bZAmwWyV0U0R"
      },
      "outputs": [],
      "source": [
        "# # 구글 드라이브와 연동\n",
        "# import sys\n",
        "\n",
        "# if \"google.colab\" in sys.modules:\n",
        "#     from google.colab import drive\n",
        "#     drive.mount('/content/drive')"
      ]
    },
    {
      "cell_type": "markdown",
      "metadata": {
        "id": "NRinK3ASs6dp"
      },
      "source": [
        "## 1. 데이터 선정 이유 및 문제 정의"
      ]
    },
    {
      "cell_type": "markdown",
      "metadata": {
        "id": "EtlQhC3lzvX7"
      },
      "source": [
        "### 1. 문제 정의"
      ]
    },
    {
      "cell_type": "markdown",
      "metadata": {
        "id": "olJxtmswVdK4"
      },
      "source": [
        "한국 음악 시장이 글로벌해짐에 따라 의뢰인은 어떤 음악이 세계적으로 성공할 수 있는지 분석을 의뢰하였습니다. 대중적으로 성공적인 음악(인기도가 높은 음악)을 출시하기 위해서는 어떤 특성을 가져야할까요?\n",
        "\n",
        "\n",
        "1. 가장 인기 있는 장르는 어떤 것일까요?\n",
        "2. 재생시간은 어느 정도가 적당할까요? 재생시간이 인기도에 영향을 줄까요?\n",
        "3. 인기도에 가장 영향을 많이 주는 요소는 무엇일까요?\n",
        "4. genre에 따라 danceability가 예측에 영향을 주는 정도가 다를까요?\n",
        "\n"
      ]
    },
    {
      "cell_type": "markdown",
      "metadata": {
        "id": "QiG7PfrkzmaT"
      },
      "source": [
        "### 2. 데이터 설명"
      ]
    },
    {
      "cell_type": "markdown",
      "metadata": {
        "id": "yXH72JnJAuuz"
      },
      "source": [
        "※ 데이터셋 특성 설명  \n",
        "https://developer.spotify.com/documentation/web-api/reference/#/operations/get-several-audio-features"
      ]
    },
    {
      "cell_type": "markdown",
      "metadata": {
        "id": "VH8MTZjbz2QG"
      },
      "source": [
        "\n",
        "Features\n",
        "- genre : 음악 장르\n",
        "- artist_name : 아티스트 이름\n",
        "- track_name : 트랙 이름\n",
        "- track_id : 트랙에 대한 데이터 출처 사이트(Spotify)의 ID\n",
        "- popularity : 트랙이 인기가 있는지에 대한 0 ~ 100까지의 수치이며, 값이 클수록 인기가 많은 트랙이다.\n",
        "- acousticness : 트랙이 어쿠스틱한지에 대한 0.0 ~ 1.0의 측정 값이며, 값이 클수록 어쿠스틱하다.\n",
        "- danceability : 템포, 리듬 안정성, 박자의 힘, 전체적인 규칙성을 포함한 음악적 요소들의 조합에 기초하여 트랙이 얼마나 춤에 적합한지를 설명. 값이 클수록 춤을 추기에 적합하다.\n",
        "- duration_ms : million seconds 단위의 재생시간\n",
        "- energy : 트랙의 강도와 액티비티함에 대한 0.0 ~ 1.0의 측정 값이며, 값이 클수록 빠르고 시끄럽다.\n",
        "- instrumentalness - 트랙에 보컬이 없는지에 대한 예측 값이며, 값이 클수록 트랙에 보컬이 없을 가능성이 커진다. \n",
        "- key : 트랙의 키; 음의 높낮이.\n",
        "- liveness : 청중의 존재를 탐지한다. 값이 클수록 라이브 확률이 높아집니다. 특히, 0.8보다 클 때 라이브일 가능성이 더 높습니다.\n",
        "- loudness : 트랙의 전체 음량(dB). 음량 값은 전체 트랙에서 평균화되어 트랙의 상대적 음량을 비교하는 데 유용하다. 일반적으로 값은 -60에서 0db 사이다.\n",
        "- mode : 트랙의 형식(Major 또는 Minor)을 나타낸다.\n",
        "- speechiness : 트랙에서 음성 단어의 존재를 감지한다. 녹음(예: 토크쇼, 오디오북, 시)과 같은 음성 전용일수록 속성 값은 1.0에 가깝다. 0.66 이상의 값은 전적으로 음성 단어로 구성된 트랙일 가능성이 높다. 0.33 미만의 값은 음악 및 기타 비음성 트랙을 나타낼 가능성이 높습니다.\n",
        "- tempo : 트랙의 전체 추정 속도(분당 비트 수)입니다. 음악 용어에서 템포(tempo)는 주어진 곡의 속도 또는 속도를 말하며 평균 박자 지속 시간에서 직접 파생된다.\n",
        "- time_signature : 트랙의 박자; 각 막대(또는 측정값)에 얼마나 많은 박자가 있는지 지정하는 표기법.\n",
        "- valence : 트랙에 의해 전달되는 음악적 긍정성을 설명하는 0.0 ~ 1.0의 측정값. 값이 높은 트랙은 더 긍정적으로 들리고(예: 행복, 쾌활, 행복), 낮은 트랙은 더 부정적으로 들린다(예: 슬픔, 우울, 화)."
      ]
    },
    {
      "cell_type": "markdown",
      "metadata": {
        "id": "jszBrTik_RMu"
      },
      "source": [
        "### 3. 가설"
      ]
    },
    {
      "cell_type": "markdown",
      "metadata": {
        "id": "OtFiPCqp_dCo"
      },
      "source": [
        "\n",
        "\n",
        "1. 가장 인기 있는 장르는 Pop일 것이다.  \n",
        "2. 재생시간은 인기도에 영향을 주지 않을 것이다.  \n",
        "3. 인기도에 가장 영향을 많이 주는 요소는 energy일 것이다.  \n",
        "4. genre에 따라 danceability가 예측에 영향을 주는 정도가 다를 것이다.\n",
        "\n"
      ]
    },
    {
      "cell_type": "markdown",
      "metadata": {
        "id": "4PoDAkhHtGbt"
      },
      "source": [
        "## 2. 데이터 전처리, EDA, 시각화"
      ]
    },
    {
      "cell_type": "markdown",
      "metadata": {
        "id": "IxstOcX3Y51e"
      },
      "source": [
        "### 1. 데이터 전처리 및 EDA"
      ]
    },
    {
      "cell_type": "code",
      "execution_count": null,
      "metadata": {
        "colab": {
          "base_uri": "https://localhost:8080/",
          "height": 461
        },
        "id": "v6NQj_9fykKM",
        "outputId": "9b03272a-7c96-458c-dc20-0e6aa59b9a34"
      },
      "outputs": [
        {
          "data": {
            "text/html": [
              "<div>\n",
              "<style scoped>\n",
              "    .dataframe tbody tr th:only-of-type {\n",
              "        vertical-align: middle;\n",
              "    }\n",
              "\n",
              "    .dataframe tbody tr th {\n",
              "        vertical-align: top;\n",
              "    }\n",
              "\n",
              "    .dataframe thead th {\n",
              "        text-align: right;\n",
              "    }\n",
              "</style>\n",
              "<table border=\"1\" class=\"dataframe\">\n",
              "  <thead>\n",
              "    <tr style=\"text-align: right;\">\n",
              "      <th></th>\n",
              "      <th>genre</th>\n",
              "      <th>artist_name</th>\n",
              "      <th>track_name</th>\n",
              "      <th>track_id</th>\n",
              "      <th>popularity</th>\n",
              "      <th>acousticness</th>\n",
              "      <th>danceability</th>\n",
              "      <th>duration_ms</th>\n",
              "      <th>energy</th>\n",
              "      <th>instrumentalness</th>\n",
              "      <th>key</th>\n",
              "      <th>liveness</th>\n",
              "      <th>loudness</th>\n",
              "      <th>mode</th>\n",
              "      <th>speechiness</th>\n",
              "      <th>tempo</th>\n",
              "      <th>time_signature</th>\n",
              "      <th>valence</th>\n",
              "    </tr>\n",
              "  </thead>\n",
              "  <tbody>\n",
              "    <tr>\n",
              "      <th>0</th>\n",
              "      <td>Movie</td>\n",
              "      <td>Henri Salvador</td>\n",
              "      <td>C'est beau de faire un Show</td>\n",
              "      <td>0BRjO6ga9RKCKjfDqeFgWV</td>\n",
              "      <td>0</td>\n",
              "      <td>0.611</td>\n",
              "      <td>0.389</td>\n",
              "      <td>99373</td>\n",
              "      <td>0.910</td>\n",
              "      <td>0.000</td>\n",
              "      <td>C#</td>\n",
              "      <td>0.3460</td>\n",
              "      <td>-1.828</td>\n",
              "      <td>Major</td>\n",
              "      <td>0.0525</td>\n",
              "      <td>166.969</td>\n",
              "      <td>4/4</td>\n",
              "      <td>0.814</td>\n",
              "    </tr>\n",
              "    <tr>\n",
              "      <th>1</th>\n",
              "      <td>Movie</td>\n",
              "      <td>Martin &amp; les fées</td>\n",
              "      <td>Perdu d'avance (par Gad Elmaleh)</td>\n",
              "      <td>0BjC1NfoEOOusryehmNudP</td>\n",
              "      <td>1</td>\n",
              "      <td>0.246</td>\n",
              "      <td>0.590</td>\n",
              "      <td>137373</td>\n",
              "      <td>0.737</td>\n",
              "      <td>0.000</td>\n",
              "      <td>F#</td>\n",
              "      <td>0.1510</td>\n",
              "      <td>-5.559</td>\n",
              "      <td>Minor</td>\n",
              "      <td>0.0868</td>\n",
              "      <td>174.003</td>\n",
              "      <td>4/4</td>\n",
              "      <td>0.816</td>\n",
              "    </tr>\n",
              "    <tr>\n",
              "      <th>2</th>\n",
              "      <td>Movie</td>\n",
              "      <td>Joseph Williams</td>\n",
              "      <td>Don't Let Me Be Lonely Tonight</td>\n",
              "      <td>0CoSDzoNIKCRs124s9uTVy</td>\n",
              "      <td>3</td>\n",
              "      <td>0.952</td>\n",
              "      <td>0.663</td>\n",
              "      <td>170267</td>\n",
              "      <td>0.131</td>\n",
              "      <td>0.000</td>\n",
              "      <td>C</td>\n",
              "      <td>0.1030</td>\n",
              "      <td>-13.879</td>\n",
              "      <td>Minor</td>\n",
              "      <td>0.0362</td>\n",
              "      <td>99.488</td>\n",
              "      <td>5/4</td>\n",
              "      <td>0.368</td>\n",
              "    </tr>\n",
              "    <tr>\n",
              "      <th>3</th>\n",
              "      <td>Movie</td>\n",
              "      <td>Henri Salvador</td>\n",
              "      <td>Dis-moi Monsieur Gordon Cooper</td>\n",
              "      <td>0Gc6TVm52BwZD07Ki6tIvf</td>\n",
              "      <td>0</td>\n",
              "      <td>0.703</td>\n",
              "      <td>0.240</td>\n",
              "      <td>152427</td>\n",
              "      <td>0.326</td>\n",
              "      <td>0.000</td>\n",
              "      <td>C#</td>\n",
              "      <td>0.0985</td>\n",
              "      <td>-12.178</td>\n",
              "      <td>Major</td>\n",
              "      <td>0.0395</td>\n",
              "      <td>171.758</td>\n",
              "      <td>4/4</td>\n",
              "      <td>0.227</td>\n",
              "    </tr>\n",
              "    <tr>\n",
              "      <th>4</th>\n",
              "      <td>Movie</td>\n",
              "      <td>Fabien Nataf</td>\n",
              "      <td>Ouverture</td>\n",
              "      <td>0IuslXpMROHdEPvSl1fTQK</td>\n",
              "      <td>4</td>\n",
              "      <td>0.950</td>\n",
              "      <td>0.331</td>\n",
              "      <td>82625</td>\n",
              "      <td>0.225</td>\n",
              "      <td>0.123</td>\n",
              "      <td>F</td>\n",
              "      <td>0.2020</td>\n",
              "      <td>-21.150</td>\n",
              "      <td>Major</td>\n",
              "      <td>0.0456</td>\n",
              "      <td>140.576</td>\n",
              "      <td>4/4</td>\n",
              "      <td>0.390</td>\n",
              "    </tr>\n",
              "  </tbody>\n",
              "</table>\n",
              "</div>"
            ],
            "text/plain": [
              "   genre        artist_name                        track_name  \\\n",
              "0  Movie     Henri Salvador       C'est beau de faire un Show   \n",
              "1  Movie  Martin & les fées  Perdu d'avance (par Gad Elmaleh)   \n",
              "2  Movie    Joseph Williams    Don't Let Me Be Lonely Tonight   \n",
              "3  Movie     Henri Salvador    Dis-moi Monsieur Gordon Cooper   \n",
              "4  Movie       Fabien Nataf                         Ouverture   \n",
              "\n",
              "                 track_id  popularity  acousticness  danceability  \\\n",
              "0  0BRjO6ga9RKCKjfDqeFgWV           0         0.611         0.389   \n",
              "1  0BjC1NfoEOOusryehmNudP           1         0.246         0.590   \n",
              "2  0CoSDzoNIKCRs124s9uTVy           3         0.952         0.663   \n",
              "3  0Gc6TVm52BwZD07Ki6tIvf           0         0.703         0.240   \n",
              "4  0IuslXpMROHdEPvSl1fTQK           4         0.950         0.331   \n",
              "\n",
              "   duration_ms  energy  instrumentalness key  liveness  loudness   mode  \\\n",
              "0        99373   0.910             0.000  C#    0.3460    -1.828  Major   \n",
              "1       137373   0.737             0.000  F#    0.1510    -5.559  Minor   \n",
              "2       170267   0.131             0.000   C    0.1030   -13.879  Minor   \n",
              "3       152427   0.326             0.000  C#    0.0985   -12.178  Major   \n",
              "4        82625   0.225             0.123   F    0.2020   -21.150  Major   \n",
              "\n",
              "   speechiness    tempo time_signature  valence  \n",
              "0       0.0525  166.969            4/4    0.814  \n",
              "1       0.0868  174.003            4/4    0.816  \n",
              "2       0.0362   99.488            5/4    0.368  \n",
              "3       0.0395  171.758            4/4    0.227  \n",
              "4       0.0456  140.576            4/4    0.390  "
            ]
          },
          "execution_count": 3,
          "metadata": {},
          "output_type": "execute_result"
        }
      ],
      "source": [
        "# 드라이브에 있는 데이터 가져오기 및 데이터 형태 확인\n",
        "target = 'popularity'\n",
        "# origin_df = pd.read_csv('/content/drive/MyDrive/데이터/s2pj/Spotify Tracks DB/SpotifyFeatures.csv')\n",
        "origin_df = pd.read_csv('SpotifyFeatures.csv')\n",
        "df = origin_df.copy()\n",
        "df.head()"
      ]
    },
    {
      "cell_type": "code",
      "execution_count": null,
      "metadata": {
        "colab": {
          "base_uri": "https://localhost:8080/"
        },
        "id": "EDZrrzmuCFZy",
        "outputId": "2c09cb8a-9bbb-4097-8492-0a742339baab"
      },
      "outputs": [
        {
          "name": "stdout",
          "output_type": "stream",
          "text": [
            "<class 'pandas.core.frame.DataFrame'>\n",
            "RangeIndex: 232725 entries, 0 to 232724\n",
            "Data columns (total 18 columns):\n",
            " #   Column            Non-Null Count   Dtype  \n",
            "---  ------            --------------   -----  \n",
            " 0   genre             232725 non-null  object \n",
            " 1   artist_name       232725 non-null  object \n",
            " 2   track_name        232725 non-null  object \n",
            " 3   track_id          232725 non-null  object \n",
            " 4   popularity        232725 non-null  int64  \n",
            " 5   acousticness      232725 non-null  float64\n",
            " 6   danceability      232725 non-null  float64\n",
            " 7   duration_ms       232725 non-null  int64  \n",
            " 8   energy            232725 non-null  float64\n",
            " 9   instrumentalness  232725 non-null  float64\n",
            " 10  key               232725 non-null  object \n",
            " 11  liveness          232725 non-null  float64\n",
            " 12  loudness          232725 non-null  float64\n",
            " 13  mode              232725 non-null  object \n",
            " 14  speechiness       232725 non-null  float64\n",
            " 15  tempo             232725 non-null  float64\n",
            " 16  time_signature    232725 non-null  object \n",
            " 17  valence           232725 non-null  float64\n",
            "dtypes: float64(9), int64(2), object(7)\n",
            "memory usage: 32.0+ MB\n"
          ]
        }
      ],
      "source": [
        "# 데이터 정보 확인\n",
        "df.info()"
      ]
    },
    {
      "cell_type": "code",
      "execution_count": null,
      "metadata": {
        "colab": {
          "base_uri": "https://localhost:8080/"
        },
        "id": "rrxElW6tCJM0",
        "outputId": "760c8fa5-e4ce-4980-d48a-727691263e6a"
      },
      "outputs": [
        {
          "data": {
            "text/plain": [
              "genre               0\n",
              "artist_name         0\n",
              "track_name          0\n",
              "track_id            0\n",
              "popularity          0\n",
              "acousticness        0\n",
              "danceability        0\n",
              "duration_ms         0\n",
              "energy              0\n",
              "instrumentalness    0\n",
              "key                 0\n",
              "liveness            0\n",
              "loudness            0\n",
              "mode                0\n",
              "speechiness         0\n",
              "tempo               0\n",
              "time_signature      0\n",
              "valence             0\n",
              "dtype: int64"
            ]
          },
          "execution_count": 5,
          "metadata": {},
          "output_type": "execute_result"
        }
      ],
      "source": [
        "# 결측치 확인\n",
        "df.isna().sum()"
      ]
    },
    {
      "cell_type": "markdown",
      "metadata": {
        "id": "kfZYadcm_5HR"
      },
      "source": [
        "> 확인 결과, 결측치 없음"
      ]
    },
    {
      "cell_type": "markdown",
      "metadata": {
        "id": "KVt_5MZcaMZZ"
      },
      "source": [
        "---\n",
        "\n"
      ]
    },
    {
      "cell_type": "markdown",
      "metadata": {
        "tags": [],
        "id": "kyqUEgPqrgBQ"
      },
      "source": [
        "#### target 전처리"
      ]
    },
    {
      "cell_type": "markdown",
      "metadata": {
        "id": "APbt6WEFaTig"
      },
      "source": [
        "> 분류 문제를 풀기 위해서 target 값인 'popularity'의 수치를 '0(인기 없음)', '1(인기 있음)'으로 치환한다. 0과 1로 나누는 척도는 1998~2020년도의 Top 100의 popularity 값의 평균 이상의 값들을 '인기 있음'으로 분류한다."
      ]
    },
    {
      "cell_type": "code",
      "execution_count": null,
      "metadata": {
        "colab": {
          "base_uri": "https://localhost:8080/",
          "height": 392
        },
        "id": "6AXaVZTObkJP",
        "outputId": "f6891c84-7142-488e-d2b3-0110b3604e7f"
      },
      "outputs": [
        {
          "data": {
            "text/html": [
              "<div>\n",
              "<style scoped>\n",
              "    .dataframe tbody tr th:only-of-type {\n",
              "        vertical-align: middle;\n",
              "    }\n",
              "\n",
              "    .dataframe tbody tr th {\n",
              "        vertical-align: top;\n",
              "    }\n",
              "\n",
              "    .dataframe thead th {\n",
              "        text-align: right;\n",
              "    }\n",
              "</style>\n",
              "<table border=\"1\" class=\"dataframe\">\n",
              "  <thead>\n",
              "    <tr style=\"text-align: right;\">\n",
              "      <th></th>\n",
              "      <th>artist</th>\n",
              "      <th>song</th>\n",
              "      <th>duration_ms</th>\n",
              "      <th>explicit</th>\n",
              "      <th>year</th>\n",
              "      <th>popularity</th>\n",
              "      <th>danceability</th>\n",
              "      <th>energy</th>\n",
              "      <th>key</th>\n",
              "      <th>loudness</th>\n",
              "      <th>mode</th>\n",
              "      <th>speechiness</th>\n",
              "      <th>acousticness</th>\n",
              "      <th>instrumentalness</th>\n",
              "      <th>liveness</th>\n",
              "      <th>valence</th>\n",
              "      <th>tempo</th>\n",
              "      <th>genre</th>\n",
              "    </tr>\n",
              "  </thead>\n",
              "  <tbody>\n",
              "    <tr>\n",
              "      <th>0</th>\n",
              "      <td>Britney Spears</td>\n",
              "      <td>Oops!...I Did It Again</td>\n",
              "      <td>211160</td>\n",
              "      <td>False</td>\n",
              "      <td>2000</td>\n",
              "      <td>77</td>\n",
              "      <td>0.751</td>\n",
              "      <td>0.834</td>\n",
              "      <td>1</td>\n",
              "      <td>-5.444</td>\n",
              "      <td>0</td>\n",
              "      <td>0.0437</td>\n",
              "      <td>0.3000</td>\n",
              "      <td>0.000018</td>\n",
              "      <td>0.3550</td>\n",
              "      <td>0.894</td>\n",
              "      <td>95.053</td>\n",
              "      <td>pop</td>\n",
              "    </tr>\n",
              "    <tr>\n",
              "      <th>1</th>\n",
              "      <td>blink-182</td>\n",
              "      <td>All The Small Things</td>\n",
              "      <td>167066</td>\n",
              "      <td>False</td>\n",
              "      <td>1999</td>\n",
              "      <td>79</td>\n",
              "      <td>0.434</td>\n",
              "      <td>0.897</td>\n",
              "      <td>0</td>\n",
              "      <td>-4.918</td>\n",
              "      <td>1</td>\n",
              "      <td>0.0488</td>\n",
              "      <td>0.0103</td>\n",
              "      <td>0.000000</td>\n",
              "      <td>0.6120</td>\n",
              "      <td>0.684</td>\n",
              "      <td>148.726</td>\n",
              "      <td>rock, pop</td>\n",
              "    </tr>\n",
              "    <tr>\n",
              "      <th>2</th>\n",
              "      <td>Faith Hill</td>\n",
              "      <td>Breathe</td>\n",
              "      <td>250546</td>\n",
              "      <td>False</td>\n",
              "      <td>1999</td>\n",
              "      <td>66</td>\n",
              "      <td>0.529</td>\n",
              "      <td>0.496</td>\n",
              "      <td>7</td>\n",
              "      <td>-9.007</td>\n",
              "      <td>1</td>\n",
              "      <td>0.0290</td>\n",
              "      <td>0.1730</td>\n",
              "      <td>0.000000</td>\n",
              "      <td>0.2510</td>\n",
              "      <td>0.278</td>\n",
              "      <td>136.859</td>\n",
              "      <td>pop, country</td>\n",
              "    </tr>\n",
              "    <tr>\n",
              "      <th>3</th>\n",
              "      <td>Bon Jovi</td>\n",
              "      <td>It's My Life</td>\n",
              "      <td>224493</td>\n",
              "      <td>False</td>\n",
              "      <td>2000</td>\n",
              "      <td>78</td>\n",
              "      <td>0.551</td>\n",
              "      <td>0.913</td>\n",
              "      <td>0</td>\n",
              "      <td>-4.063</td>\n",
              "      <td>0</td>\n",
              "      <td>0.0466</td>\n",
              "      <td>0.0263</td>\n",
              "      <td>0.000014</td>\n",
              "      <td>0.3470</td>\n",
              "      <td>0.544</td>\n",
              "      <td>119.992</td>\n",
              "      <td>rock, metal</td>\n",
              "    </tr>\n",
              "    <tr>\n",
              "      <th>4</th>\n",
              "      <td>*NSYNC</td>\n",
              "      <td>Bye Bye Bye</td>\n",
              "      <td>200560</td>\n",
              "      <td>False</td>\n",
              "      <td>2000</td>\n",
              "      <td>65</td>\n",
              "      <td>0.614</td>\n",
              "      <td>0.928</td>\n",
              "      <td>8</td>\n",
              "      <td>-4.806</td>\n",
              "      <td>0</td>\n",
              "      <td>0.0516</td>\n",
              "      <td>0.0408</td>\n",
              "      <td>0.001040</td>\n",
              "      <td>0.0845</td>\n",
              "      <td>0.879</td>\n",
              "      <td>172.656</td>\n",
              "      <td>pop</td>\n",
              "    </tr>\n",
              "  </tbody>\n",
              "</table>\n",
              "</div>"
            ],
            "text/plain": [
              "           artist                    song  duration_ms  explicit  year  \\\n",
              "0  Britney Spears  Oops!...I Did It Again       211160     False  2000   \n",
              "1       blink-182    All The Small Things       167066     False  1999   \n",
              "2      Faith Hill                 Breathe       250546     False  1999   \n",
              "3        Bon Jovi            It's My Life       224493     False  2000   \n",
              "4          *NSYNC             Bye Bye Bye       200560     False  2000   \n",
              "\n",
              "   popularity  danceability  energy  key  loudness  mode  speechiness  \\\n",
              "0          77         0.751   0.834    1    -5.444     0       0.0437   \n",
              "1          79         0.434   0.897    0    -4.918     1       0.0488   \n",
              "2          66         0.529   0.496    7    -9.007     1       0.0290   \n",
              "3          78         0.551   0.913    0    -4.063     0       0.0466   \n",
              "4          65         0.614   0.928    8    -4.806     0       0.0516   \n",
              "\n",
              "   acousticness  instrumentalness  liveness  valence    tempo         genre  \n",
              "0        0.3000          0.000018    0.3550    0.894   95.053           pop  \n",
              "1        0.0103          0.000000    0.6120    0.684  148.726     rock, pop  \n",
              "2        0.1730          0.000000    0.2510    0.278  136.859  pop, country  \n",
              "3        0.0263          0.000014    0.3470    0.544  119.992   rock, metal  \n",
              "4        0.0408          0.001040    0.0845    0.879  172.656           pop  "
            ]
          },
          "execution_count": 6,
          "metadata": {},
          "output_type": "execute_result"
        }
      ],
      "source": [
        "# top_100s = pd.read_csv('/content/drive/MyDrive/데이터/s2pj/Top Hits Spotify from 1998-2020/songs_normalize.csv')\n",
        "top_100s = pd.read_csv('songs_normalize.csv')\n",
        "top_100s.head()"
      ]
    },
    {
      "cell_type": "code",
      "execution_count": null,
      "metadata": {
        "id": "sxXm3cDKcf3m"
      },
      "outputs": [],
      "source": [
        "# 평균 값을 구하고, 그 값을 기준으로 0과 1로 치환\n",
        "cutline = top_100s.popularity.mean()\n",
        "\n",
        "df[target] = df[target]>=cutline\n",
        "\n",
        "df[target] = df[target].replace([False, True], [0, 1])"
      ]
    },
    {
      "cell_type": "code",
      "execution_count": null,
      "metadata": {
        "colab": {
          "base_uri": "https://localhost:8080/"
        },
        "id": "zH2ZJ5lpfjCG",
        "outputId": "a84898e2-5519-4e7a-f8c2-549e86518de7"
      },
      "outputs": [
        {
          "data": {
            "text/plain": [
              "array([0, 1], dtype=int64)"
            ]
          },
          "execution_count": 8,
          "metadata": {},
          "output_type": "execute_result"
        }
      ],
      "source": [
        "# 잘 바뀌었는지 확인\n",
        "df[target].unique()"
      ]
    },
    {
      "cell_type": "markdown",
      "metadata": {
        "id": "jlKHi36_bjNH"
      },
      "source": [
        "---"
      ]
    },
    {
      "cell_type": "markdown",
      "metadata": {
        "id": "qj6s_79XrgBR"
      },
      "source": [
        "#### 문자형 칼럼 EDA"
      ]
    },
    {
      "cell_type": "code",
      "execution_count": null,
      "metadata": {
        "colab": {
          "base_uri": "https://localhost:8080/"
        },
        "id": "DUhcY7DjH-CO",
        "outputId": "9773b153-8195-4d55-e703-bfa18e9f3858"
      },
      "outputs": [
        {
          "data": {
            "text/plain": [
              "track_id          176774\n",
              "track_name        148615\n",
              "artist_name        14564\n",
              "genre                 27\n",
              "key                   12\n",
              "time_signature         5\n",
              "mode                   2\n",
              "dtype: int64"
            ]
          },
          "execution_count": 9,
          "metadata": {},
          "output_type": "execute_result"
        }
      ],
      "source": [
        "# 문자형 칼럼 카디널리티 확인\n",
        "obj = df.dtypes[df.dtypes == 'object'].index\n",
        "df[obj].nunique().sort_values(ascending=False)"
      ]
    },
    {
      "cell_type": "markdown",
      "metadata": {
        "id": "GFQvDHKt__0b"
      },
      "source": [
        "> 확인 결과, id와 name이 들어간 칼럼이 카디널리티가 높은 것을 확인. 또한, 모델이 학습할 때 필요없는 private한 데이터이므로 데이터 정보를 더 수집 후 삭제."
      ]
    },
    {
      "cell_type": "code",
      "execution_count": null,
      "metadata": {
        "colab": {
          "base_uri": "https://localhost:8080/"
        },
        "id": "yDd40ipQJGyu",
        "outputId": "1446e973-cd2d-4707-fe18-7d94da505da6"
      },
      "outputs": [
        {
          "data": {
            "text/plain": [
              "array(['Movie', 'R&B', 'A Capella', 'Alternative', 'Country', 'Dance',\n",
              "       'Electronic', 'Anime', 'Folk', 'Blues', 'Opera', 'Hip-Hop',\n",
              "       \"Children's Music\", 'Children’s Music', 'Rap', 'Indie',\n",
              "       'Classical', 'Pop', 'Reggae', 'Reggaeton', 'Jazz', 'Rock', 'Ska',\n",
              "       'Comedy', 'Soul', 'Soundtrack', 'World'], dtype=object)"
            ]
          },
          "execution_count": 10,
          "metadata": {},
          "output_type": "execute_result"
        }
      ],
      "source": [
        "# 문자형 칼럼 데이터 상세 확인\n",
        "df.genre.unique()"
      ]
    },
    {
      "cell_type": "markdown",
      "metadata": {
        "id": "hFPY44mlJXz5"
      },
      "source": [
        "> * 확인 결과, \"Children's Music\", 'Children’s Music'를 동일한 문자로 통일해야함을 확인.\n",
        "* 다른 문자형 칼럼은 문제 없음을 확인."
      ]
    },
    {
      "cell_type": "code",
      "execution_count": null,
      "metadata": {
        "id": "qadzxma5TB4V"
      },
      "outputs": [],
      "source": [
        "# 'Children’s Music'를 \"Children's Music\"로 교체\n",
        "df['genre'] = df['genre'].replace(\"Children’s Music\", \"Children's Music\")"
      ]
    },
    {
      "cell_type": "code",
      "execution_count": null,
      "metadata": {
        "colab": {
          "base_uri": "https://localhost:8080/"
        },
        "id": "5arWc0egTYSt",
        "outputId": "e054c542-10f0-424d-d1f2-043bd8225cf1"
      },
      "outputs": [
        {
          "data": {
            "text/plain": [
              "array(['Movie', 'R&B', 'A Capella', 'Alternative', 'Country', 'Dance',\n",
              "       'Electronic', 'Anime', 'Folk', 'Blues', 'Opera', 'Hip-Hop',\n",
              "       \"Children's Music\", 'Rap', 'Indie', 'Classical', 'Pop', 'Reggae',\n",
              "       'Reggaeton', 'Jazz', 'Rock', 'Ska', 'Comedy', 'Soul', 'Soundtrack',\n",
              "       'World'], dtype=object)"
            ]
          },
          "execution_count": 12,
          "metadata": {},
          "output_type": "execute_result"
        }
      ],
      "source": [
        "# 잘 바뀌었나 확인 결과, 바뀌었음을 확인.\n",
        "df.genre.unique()"
      ]
    },
    {
      "cell_type": "markdown",
      "metadata": {
        "id": "FeGjFkoyboXx"
      },
      "source": [
        "---"
      ]
    },
    {
      "cell_type": "markdown",
      "metadata": {
        "id": "hDa-xkJcrgBS"
      },
      "source": [
        "#### 수치형 칼럼 EDA"
      ]
    },
    {
      "cell_type": "code",
      "execution_count": null,
      "metadata": {
        "id": "2ZGF2jFbXMQ-"
      },
      "outputs": [],
      "source": [
        "# 'duration_ms' 칼럼 단위 변경\n",
        "df['duration_ms'] = round(df['duration_ms'] / 1000 / 60, 2)\n",
        "df.rename(columns={'duration_ms' : 'duration_m'}, inplace=True)"
      ]
    },
    {
      "cell_type": "markdown",
      "metadata": {
        "id": "nDnWAVHpAew4"
      },
      "source": [
        "> 재생시간 단위가 micro seconds임을 확인하고, 편하게 보고자 minutes 단위로 변경."
      ]
    },
    {
      "cell_type": "code",
      "execution_count": null,
      "metadata": {
        "colab": {
          "base_uri": "https://localhost:8080/",
          "height": 817
        },
        "id": "D1cPO0ZZOEXa",
        "outputId": "50ba5b49-db83-414a-e6eb-0f9769ab3f6b"
      },
      "outputs": [
        {
          "data": {
            "image/png": "[encoded data removed]",
            "text/plain": [
              "<Figure size 1152x2304 with 11 Axes>"
            ]
          },
          "metadata": {
            "needs_background": "light"
          },
          "output_type": "display_data"
        }
      ],
      "source": [
        "# 수치형 데이터 이상치 확인\n",
        "import matplotlib.pyplot as plt\n",
        "import seaborn as sns\n",
        "\n",
        "num = df.dtypes[df.dtypes != 'object'].index\n",
        "fig = plt.figure(figsize=(16, 32))\n",
        "i = 1\n",
        "for f in num :\n",
        "    plt.subplot(9,3,i)\n",
        "    sns.boxplot(data=df, x=f,palette='muted')\n",
        "    i += 1"
      ]
    },
    {
      "cell_type": "markdown",
      "metadata": {
        "id": "-vbAyDCGAoLJ"
      },
      "source": [
        "> * 확인 결과, 'duration_m'이 이상하다는 것을 확인.  \n",
        "* 다른 이상치가 있어보이는 칼럼('instrumentalness', 'liveness')은 원래 0~1.0까지 분포.  \n",
        "* 'tempo' 같은 경우 200이상의 장르도 존재 ex) 하드코어 테크노, 스피드코어 등"
      ]
    },
    {
      "cell_type": "code",
      "execution_count": null,
      "metadata": {
        "colab": {
          "base_uri": "https://localhost:8080/"
        },
        "id": "wJlUxfMaZNrB",
        "outputId": "c1ef4977-f3be-48d5-fdcf-52c0a683341a"
      },
      "outputs": [
        {
          "data": {
            "text/plain": [
              "count    232725.000000\n",
              "mean          3.918707\n",
              "std           1.982264\n",
              "min           0.260000\n",
              "25%           3.050000\n",
              "50%           3.670000\n",
              "75%           4.430000\n",
              "max          92.550000\n",
              "Name: duration_m, dtype: float64"
            ]
          },
          "execution_count": 15,
          "metadata": {},
          "output_type": "execute_result"
        }
      ],
      "source": [
        "# 'duration_m' 특성 더 자세히 확인\n",
        "df.duration_m.describe()"
      ]
    },
    {
      "cell_type": "markdown",
      "metadata": {
        "id": "nlaukWcWBkNL"
      },
      "source": [
        "> 확인 결과, 75%이상의 수치에서 이상치가 있음을 확인."
      ]
    },
    {
      "cell_type": "code",
      "execution_count": null,
      "metadata": {
        "colab": {
          "base_uri": "https://localhost:8080/",
          "height": 818
        },
        "id": "MuO5El0BZxQM",
        "outputId": "a9380352-c5d6-4f88-d6db-851151fe4105"
      },
      "outputs": [
        {
          "data": {
            "text/html": [
              "<div>\n",
              "<style scoped>\n",
              "    .dataframe tbody tr th:only-of-type {\n",
              "        vertical-align: middle;\n",
              "    }\n",
              "\n",
              "    .dataframe tbody tr th {\n",
              "        vertical-align: top;\n",
              "    }\n",
              "\n",
              "    .dataframe thead th {\n",
              "        text-align: right;\n",
              "    }\n",
              "</style>\n",
              "<table border=\"1\" class=\"dataframe\">\n",
              "  <thead>\n",
              "    <tr style=\"text-align: right;\">\n",
              "      <th></th>\n",
              "      <th>genre</th>\n",
              "      <th>artist_name</th>\n",
              "      <th>track_name</th>\n",
              "      <th>track_id</th>\n",
              "      <th>popularity</th>\n",
              "      <th>acousticness</th>\n",
              "      <th>danceability</th>\n",
              "      <th>duration_m</th>\n",
              "      <th>energy</th>\n",
              "      <th>instrumentalness</th>\n",
              "      <th>key</th>\n",
              "      <th>liveness</th>\n",
              "      <th>loudness</th>\n",
              "      <th>mode</th>\n",
              "      <th>speechiness</th>\n",
              "      <th>tempo</th>\n",
              "      <th>time_signature</th>\n",
              "      <th>valence</th>\n",
              "    </tr>\n",
              "  </thead>\n",
              "  <tbody>\n",
              "    <tr>\n",
              "      <th>212083</th>\n",
              "      <td>Comedy</td>\n",
              "      <td>La Mesa Reñoña</td>\n",
              "      <td>Episodio 15 (Lady Orinoco, Políticas De Youtub...</td>\n",
              "      <td>76vVk4HCOLP5r7hA53SyXg</td>\n",
              "      <td>0</td>\n",
              "      <td>0.84600</td>\n",
              "      <td>0.468</td>\n",
              "      <td>92.55</td>\n",
              "      <td>0.5800</td>\n",
              "      <td>0.00000</td>\n",
              "      <td>C</td>\n",
              "      <td>0.1380</td>\n",
              "      <td>-11.615</td>\n",
              "      <td>Major</td>\n",
              "      <td>0.4120</td>\n",
              "      <td>72.690</td>\n",
              "      <td>3/4</td>\n",
              "      <td>0.8010</td>\n",
              "    </tr>\n",
              "    <tr>\n",
              "      <th>162671</th>\n",
              "      <td>Reggaeton</td>\n",
              "      <td>DJ Luigi</td>\n",
              "      <td>6 : 00 Am</td>\n",
              "      <td>5p44BE1eYof6B2HSj3LTfQ</td>\n",
              "      <td>0</td>\n",
              "      <td>0.07840</td>\n",
              "      <td>0.513</td>\n",
              "      <td>91.47</td>\n",
              "      <td>0.8510</td>\n",
              "      <td>0.00000</td>\n",
              "      <td>B</td>\n",
              "      <td>0.2210</td>\n",
              "      <td>-3.982</td>\n",
              "      <td>Minor</td>\n",
              "      <td>0.0803</td>\n",
              "      <td>100.503</td>\n",
              "      <td>4/4</td>\n",
              "      <td>0.7020</td>\n",
              "    </tr>\n",
              "    <tr>\n",
              "      <th>211969</th>\n",
              "      <td>Comedy</td>\n",
              "      <td>La Mesa Reñoña</td>\n",
              "      <td>Episodio 14 (Machismo, Juanga, Bebé a Bordo)</td>\n",
              "      <td>3Y800wAK7yLS2vckDD4WCz</td>\n",
              "      <td>0</td>\n",
              "      <td>0.85000</td>\n",
              "      <td>0.392</td>\n",
              "      <td>80.51</td>\n",
              "      <td>0.6220</td>\n",
              "      <td>0.00000</td>\n",
              "      <td>A</td>\n",
              "      <td>0.3520</td>\n",
              "      <td>-10.526</td>\n",
              "      <td>Major</td>\n",
              "      <td>0.3660</td>\n",
              "      <td>58.163</td>\n",
              "      <td>4/4</td>\n",
              "      <td>0.7750</td>\n",
              "    </tr>\n",
              "    <tr>\n",
              "      <th>23593</th>\n",
              "      <td>Electronic</td>\n",
              "      <td>Excision</td>\n",
              "      <td>Lost Lands 2017 Mix</td>\n",
              "      <td>40lBktIvVS4tBpGHm8W44C</td>\n",
              "      <td>0</td>\n",
              "      <td>0.00164</td>\n",
              "      <td>0.467</td>\n",
              "      <td>80.51</td>\n",
              "      <td>0.9480</td>\n",
              "      <td>0.01030</td>\n",
              "      <td>C#</td>\n",
              "      <td>0.4050</td>\n",
              "      <td>-1.929</td>\n",
              "      <td>Major</td>\n",
              "      <td>0.2990</td>\n",
              "      <td>148.898</td>\n",
              "      <td>4/4</td>\n",
              "      <td>0.3170</td>\n",
              "    </tr>\n",
              "    <tr>\n",
              "      <th>219057</th>\n",
              "      <td>World</td>\n",
              "      <td>Jamie Llewellyn</td>\n",
              "      <td>Nature Sounds for Sleep: Crackling Log Fire wi...</td>\n",
              "      <td>40duG6erWyOVizxE9P8KqV</td>\n",
              "      <td>0</td>\n",
              "      <td>0.15000</td>\n",
              "      <td>0.316</td>\n",
              "      <td>80.07</td>\n",
              "      <td>0.2390</td>\n",
              "      <td>0.93700</td>\n",
              "      <td>B</td>\n",
              "      <td>0.1450</td>\n",
              "      <td>-23.395</td>\n",
              "      <td>Minor</td>\n",
              "      <td>0.0600</td>\n",
              "      <td>126.988</td>\n",
              "      <td>1/4</td>\n",
              "      <td>0.3210</td>\n",
              "    </tr>\n",
              "    <tr>\n",
              "      <th>...</th>\n",
              "      <td>...</td>\n",
              "      <td>...</td>\n",
              "      <td>...</td>\n",
              "      <td>...</td>\n",
              "      <td>...</td>\n",
              "      <td>...</td>\n",
              "      <td>...</td>\n",
              "      <td>...</td>\n",
              "      <td>...</td>\n",
              "      <td>...</td>\n",
              "      <td>...</td>\n",
              "      <td>...</td>\n",
              "      <td>...</td>\n",
              "      <td>...</td>\n",
              "      <td>...</td>\n",
              "      <td>...</td>\n",
              "      <td>...</td>\n",
              "      <td>...</td>\n",
              "    </tr>\n",
              "    <tr>\n",
              "      <th>223974</th>\n",
              "      <td>Rock</td>\n",
              "      <td>Boston</td>\n",
              "      <td>Don't Look Back</td>\n",
              "      <td>4QySZtWymRGNgrwxZOODKF</td>\n",
              "      <td>0</td>\n",
              "      <td>0.01500</td>\n",
              "      <td>0.359</td>\n",
              "      <td>6.01</td>\n",
              "      <td>0.7170</td>\n",
              "      <td>0.00365</td>\n",
              "      <td>D</td>\n",
              "      <td>0.3600</td>\n",
              "      <td>-10.309</td>\n",
              "      <td>Major</td>\n",
              "      <td>0.0405</td>\n",
              "      <td>121.878</td>\n",
              "      <td>4/4</td>\n",
              "      <td>0.4700</td>\n",
              "    </tr>\n",
              "    <tr>\n",
              "      <th>35157</th>\n",
              "      <td>Anime</td>\n",
              "      <td>Aimer</td>\n",
              "      <td>Fuyu No Diamond</td>\n",
              "      <td>0MqvvUNqrOmHizqPNvc11K</td>\n",
              "      <td>0</td>\n",
              "      <td>0.64200</td>\n",
              "      <td>0.501</td>\n",
              "      <td>6.01</td>\n",
              "      <td>0.5570</td>\n",
              "      <td>0.00000</td>\n",
              "      <td>F#</td>\n",
              "      <td>0.0868</td>\n",
              "      <td>-4.804</td>\n",
              "      <td>Major</td>\n",
              "      <td>0.0258</td>\n",
              "      <td>75.989</td>\n",
              "      <td>4/4</td>\n",
              "      <td>0.4020</td>\n",
              "    </tr>\n",
              "    <tr>\n",
              "      <th>207479</th>\n",
              "      <td>World</td>\n",
              "      <td>Trygve Seim</td>\n",
              "      <td>Ciaccona per Embrik</td>\n",
              "      <td>4rznhkoOr1AYneKuWBef4V</td>\n",
              "      <td>1</td>\n",
              "      <td>0.97400</td>\n",
              "      <td>0.302</td>\n",
              "      <td>6.01</td>\n",
              "      <td>0.0166</td>\n",
              "      <td>0.07140</td>\n",
              "      <td>G</td>\n",
              "      <td>0.0737</td>\n",
              "      <td>-23.504</td>\n",
              "      <td>Major</td>\n",
              "      <td>0.0475</td>\n",
              "      <td>69.904</td>\n",
              "      <td>3/4</td>\n",
              "      <td>0.2350</td>\n",
              "    </tr>\n",
              "    <tr>\n",
              "      <th>48873</th>\n",
              "      <td>Blues</td>\n",
              "      <td>Graveyard</td>\n",
              "      <td>The Siren</td>\n",
              "      <td>02Jh0orUaFfiVEDt01BolR</td>\n",
              "      <td>0</td>\n",
              "      <td>0.27300</td>\n",
              "      <td>0.408</td>\n",
              "      <td>6.01</td>\n",
              "      <td>0.4710</td>\n",
              "      <td>0.00119</td>\n",
              "      <td>G</td>\n",
              "      <td>0.1370</td>\n",
              "      <td>-6.969</td>\n",
              "      <td>Minor</td>\n",
              "      <td>0.0446</td>\n",
              "      <td>122.537</td>\n",
              "      <td>3/4</td>\n",
              "      <td>0.3020</td>\n",
              "    </tr>\n",
              "    <tr>\n",
              "      <th>204924</th>\n",
              "      <td>Soundtrack</td>\n",
              "      <td>The City of Prague Philharmonic Orchestra</td>\n",
              "      <td>Suite (From \"Jurassic Park\")</td>\n",
              "      <td>3JlVZURC2GBxNl6VeG25KD</td>\n",
              "      <td>0</td>\n",
              "      <td>0.82400</td>\n",
              "      <td>0.146</td>\n",
              "      <td>6.01</td>\n",
              "      <td>0.2530</td>\n",
              "      <td>0.48500</td>\n",
              "      <td>A#</td>\n",
              "      <td>0.1360</td>\n",
              "      <td>-11.588</td>\n",
              "      <td>Major</td>\n",
              "      <td>0.0342</td>\n",
              "      <td>78.647</td>\n",
              "      <td>4/4</td>\n",
              "      <td>0.0909</td>\n",
              "    </tr>\n",
              "  </tbody>\n",
              "</table>\n",
              "<p>16453 rows × 18 columns</p>\n",
              "</div>"
            ],
            "text/plain": [
              "             genre                                artist_name  \\\n",
              "212083      Comedy                             La Mesa Reñoña   \n",
              "162671   Reggaeton                                   DJ Luigi   \n",
              "211969      Comedy                             La Mesa Reñoña   \n",
              "23593   Electronic                                   Excision   \n",
              "219057       World                            Jamie Llewellyn   \n",
              "...            ...                                        ...   \n",
              "223974        Rock                                     Boston   \n",
              "35157        Anime                                      Aimer   \n",
              "207479       World                                Trygve Seim   \n",
              "48873        Blues                                  Graveyard   \n",
              "204924  Soundtrack  The City of Prague Philharmonic Orchestra   \n",
              "\n",
              "                                               track_name  \\\n",
              "212083  Episodio 15 (Lady Orinoco, Políticas De Youtub...   \n",
              "162671                                          6 : 00 Am   \n",
              "211969       Episodio 14 (Machismo, Juanga, Bebé a Bordo)   \n",
              "23593                                 Lost Lands 2017 Mix   \n",
              "219057  Nature Sounds for Sleep: Crackling Log Fire wi...   \n",
              "...                                                   ...   \n",
              "223974                                    Don't Look Back   \n",
              "35157                                     Fuyu No Diamond   \n",
              "207479                                Ciaccona per Embrik   \n",
              "48873                                           The Siren   \n",
              "204924                       Suite (From \"Jurassic Park\")   \n",
              "\n",
              "                      track_id  popularity  acousticness  danceability  \\\n",
              "212083  76vVk4HCOLP5r7hA53SyXg           0       0.84600         0.468   \n",
              "162671  5p44BE1eYof6B2HSj3LTfQ           0       0.07840         0.513   \n",
              "211969  3Y800wAK7yLS2vckDD4WCz           0       0.85000         0.392   \n",
              "23593   40lBktIvVS4tBpGHm8W44C           0       0.00164         0.467   \n",
              "219057  40duG6erWyOVizxE9P8KqV           0       0.15000         0.316   \n",
              "...                        ...         ...           ...           ...   \n",
              "223974  4QySZtWymRGNgrwxZOODKF           0       0.01500         0.359   \n",
              "35157   0MqvvUNqrOmHizqPNvc11K           0       0.64200         0.501   \n",
              "207479  4rznhkoOr1AYneKuWBef4V           1       0.97400         0.302   \n",
              "48873   02Jh0orUaFfiVEDt01BolR           0       0.27300         0.408   \n",
              "204924  3JlVZURC2GBxNl6VeG25KD           0       0.82400         0.146   \n",
              "\n",
              "        duration_m  energy  instrumentalness key  liveness  loudness   mode  \\\n",
              "212083       92.55  0.5800           0.00000   C    0.1380   -11.615  Major   \n",
              "162671       91.47  0.8510           0.00000   B    0.2210    -3.982  Minor   \n",
              "211969       80.51  0.6220           0.00000   A    0.3520   -10.526  Major   \n",
              "23593        80.51  0.9480           0.01030  C#    0.4050    -1.929  Major   \n",
              "219057       80.07  0.2390           0.93700   B    0.1450   -23.395  Minor   \n",
              "...            ...     ...               ...  ..       ...       ...    ...   \n",
              "223974        6.01  0.7170           0.00365   D    0.3600   -10.309  Major   \n",
              "35157         6.01  0.5570           0.00000  F#    0.0868    -4.804  Major   \n",
              "207479        6.01  0.0166           0.07140   G    0.0737   -23.504  Major   \n",
              "48873         6.01  0.4710           0.00119   G    0.1370    -6.969  Minor   \n",
              "204924        6.01  0.2530           0.48500  A#    0.1360   -11.588  Major   \n",
              "\n",
              "        speechiness    tempo time_signature  valence  \n",
              "212083       0.4120   72.690            3/4   0.8010  \n",
              "162671       0.0803  100.503            4/4   0.7020  \n",
              "211969       0.3660   58.163            4/4   0.7750  \n",
              "23593        0.2990  148.898            4/4   0.3170  \n",
              "219057       0.0600  126.988            1/4   0.3210  \n",
              "...             ...      ...            ...      ...  \n",
              "223974       0.0405  121.878            4/4   0.4700  \n",
              "35157        0.0258   75.989            4/4   0.4020  \n",
              "207479       0.0475   69.904            3/4   0.2350  \n",
              "48873        0.0446  122.537            3/4   0.3020  \n",
              "204924       0.0342   78.647            4/4   0.0909  \n",
              "\n",
              "[16453 rows x 18 columns]"
            ]
          },
          "execution_count": 16,
          "metadata": {},
          "output_type": "execute_result"
        }
      ],
      "source": [
        "# 재생시간이 6분이 넘어가는 데이터 추출 후 확인\n",
        "df.query('duration_m>6').sort_values(by='duration_m', ascending=False)"
      ]
    },
    {
      "cell_type": "markdown",
      "metadata": {
        "id": "jp7S3N1PCB27"
      },
      "source": [
        "> * 보통 노래 재생시간이 3~4분이고, 최대 5분임. 그리고 그 중 필자가 아는 노래 중에 가장 긴 노래(Queen - Bohemian Rhapsody)가 6분이므로 기준점을 6분으로 잡았다.\n",
        "* 40분, 80분, 90분 등등 노래 서칭 결과, 실제로 재생시간이 그러함을 확인."
      ]
    },
    {
      "cell_type": "markdown",
      "metadata": {
        "id": "QjckwxAebqtC"
      },
      "source": [
        "---"
      ]
    },
    {
      "cell_type": "markdown",
      "metadata": {
        "id": "Ad0OLGS4rgBT"
      },
      "source": [
        "#### 중간 점검"
      ]
    },
    {
      "cell_type": "markdown",
      "metadata": {
        "id": "sZfvmNz6bZX8",
        "tags": []
      },
      "source": [
        "> 아래 사항은 train set과 test set을 나눈 후에 train set에만 적용한다.\n",
        "\n",
        "1. 필자가 원하는 음악은 6분 이하의 음원이므로 넉넉히 7분 이상의 음원은 삭제한다.\n",
        "2.  또한, 'Movie', 'Comedy'와 같은 장르는 음악이 아닌 음원이 추출된 형식이 존재한다. 그 중에서도 'speechiness가 0.66 이상인 값은 전적으로 음성으로 만들어진 트랙을 나타내므로(데이터 특성 설명 페이지 참고) 필자가 원하는 데이터가 아니므로 삭제해야한다.\n",
        "3. 그러나, 위 두 장르는 대중적인 음악과 방향이 먼 삭제해야할 장르에 포함되므로, 한 번에 삭제한다.\n",
        " - 'Anime', 'Comedy', 'Opera', 'Movie', 'A Capella', 'Classical', \"Children's Music\"\n",
        "- 즉, 1번과 3번만 시행하도록 한다.\n"
      ]
    },
    {
      "cell_type": "markdown",
      "metadata": {
        "id": "MlEe7l5Ibrjn"
      },
      "source": [
        "---"
      ]
    },
    {
      "cell_type": "markdown",
      "metadata": {
        "id": "JuaQrSU1rgBU"
      },
      "source": [
        "#### 남은 EDA"
      ]
    },
    {
      "cell_type": "code",
      "execution_count": null,
      "metadata": {
        "id": "hGk49dPPDgxD"
      },
      "outputs": [],
      "source": [
        "# 모델 학습에 필요없는 특성 삭제\n",
        "delete = ['artist_name', 'track_name', 'track_id']\n",
        "df = df.drop(delete, axis=1)"
      ]
    },
    {
      "cell_type": "code",
      "execution_count": null,
      "metadata": {
        "colab": {
          "base_uri": "https://localhost:8080/"
        },
        "id": "fct71awwlVUR",
        "outputId": "0e52c600-630c-44ea-a88a-afaae99bce13"
      },
      "outputs": [
        {
          "data": {
            "text/plain": [
              "521"
            ]
          },
          "execution_count": 18,
          "metadata": {},
          "output_type": "execute_result"
        }
      ],
      "source": [
        "# 중복값 확인\n",
        "df.duplicated().sum()"
      ]
    },
    {
      "cell_type": "code",
      "execution_count": null,
      "metadata": {
        "id": "QcqNcP2ilgZi"
      },
      "outputs": [],
      "source": [
        "# 중복값 삭제 및 인덱스 재정렬\n",
        "df = df.drop_duplicates()\n",
        "df = df.reset_index(drop=True)"
      ]
    },
    {
      "cell_type": "code",
      "execution_count": null,
      "metadata": {
        "colab": {
          "base_uri": "https://localhost:8080/",
          "height": 488
        },
        "id": "nzHegMClmVZP",
        "outputId": "597c0d13-df4a-4118-aa0b-f241444ba313"
      },
      "outputs": [
        {
          "data": {
            "text/html": [
              "<div>\n",
              "<style scoped>\n",
              "    .dataframe tbody tr th:only-of-type {\n",
              "        vertical-align: middle;\n",
              "    }\n",
              "\n",
              "    .dataframe tbody tr th {\n",
              "        vertical-align: top;\n",
              "    }\n",
              "\n",
              "    .dataframe thead th {\n",
              "        text-align: right;\n",
              "    }\n",
              "</style>\n",
              "<table border=\"1\" class=\"dataframe\">\n",
              "  <thead>\n",
              "    <tr style=\"text-align: right;\">\n",
              "      <th></th>\n",
              "      <th>genre</th>\n",
              "      <th>popularity</th>\n",
              "      <th>acousticness</th>\n",
              "      <th>danceability</th>\n",
              "      <th>duration_m</th>\n",
              "      <th>energy</th>\n",
              "      <th>instrumentalness</th>\n",
              "      <th>key</th>\n",
              "      <th>liveness</th>\n",
              "      <th>loudness</th>\n",
              "      <th>mode</th>\n",
              "      <th>speechiness</th>\n",
              "      <th>tempo</th>\n",
              "      <th>time_signature</th>\n",
              "      <th>valence</th>\n",
              "    </tr>\n",
              "  </thead>\n",
              "  <tbody>\n",
              "    <tr>\n",
              "      <th>0</th>\n",
              "      <td>Movie</td>\n",
              "      <td>0</td>\n",
              "      <td>0.61100</td>\n",
              "      <td>0.389</td>\n",
              "      <td>1.66</td>\n",
              "      <td>0.910</td>\n",
              "      <td>0.000000</td>\n",
              "      <td>C#</td>\n",
              "      <td>0.3460</td>\n",
              "      <td>-1.828</td>\n",
              "      <td>Major</td>\n",
              "      <td>0.0525</td>\n",
              "      <td>166.969</td>\n",
              "      <td>4/4</td>\n",
              "      <td>0.814</td>\n",
              "    </tr>\n",
              "    <tr>\n",
              "      <th>1</th>\n",
              "      <td>Movie</td>\n",
              "      <td>0</td>\n",
              "      <td>0.24600</td>\n",
              "      <td>0.590</td>\n",
              "      <td>2.29</td>\n",
              "      <td>0.737</td>\n",
              "      <td>0.000000</td>\n",
              "      <td>F#</td>\n",
              "      <td>0.1510</td>\n",
              "      <td>-5.559</td>\n",
              "      <td>Minor</td>\n",
              "      <td>0.0868</td>\n",
              "      <td>174.003</td>\n",
              "      <td>4/4</td>\n",
              "      <td>0.816</td>\n",
              "    </tr>\n",
              "    <tr>\n",
              "      <th>2</th>\n",
              "      <td>Movie</td>\n",
              "      <td>0</td>\n",
              "      <td>0.95200</td>\n",
              "      <td>0.663</td>\n",
              "      <td>2.84</td>\n",
              "      <td>0.131</td>\n",
              "      <td>0.000000</td>\n",
              "      <td>C</td>\n",
              "      <td>0.1030</td>\n",
              "      <td>-13.879</td>\n",
              "      <td>Minor</td>\n",
              "      <td>0.0362</td>\n",
              "      <td>99.488</td>\n",
              "      <td>5/4</td>\n",
              "      <td>0.368</td>\n",
              "    </tr>\n",
              "    <tr>\n",
              "      <th>3</th>\n",
              "      <td>Movie</td>\n",
              "      <td>0</td>\n",
              "      <td>0.70300</td>\n",
              "      <td>0.240</td>\n",
              "      <td>2.54</td>\n",
              "      <td>0.326</td>\n",
              "      <td>0.000000</td>\n",
              "      <td>C#</td>\n",
              "      <td>0.0985</td>\n",
              "      <td>-12.178</td>\n",
              "      <td>Major</td>\n",
              "      <td>0.0395</td>\n",
              "      <td>171.758</td>\n",
              "      <td>4/4</td>\n",
              "      <td>0.227</td>\n",
              "    </tr>\n",
              "    <tr>\n",
              "      <th>4</th>\n",
              "      <td>Movie</td>\n",
              "      <td>0</td>\n",
              "      <td>0.95000</td>\n",
              "      <td>0.331</td>\n",
              "      <td>1.38</td>\n",
              "      <td>0.225</td>\n",
              "      <td>0.123000</td>\n",
              "      <td>F</td>\n",
              "      <td>0.2020</td>\n",
              "      <td>-21.150</td>\n",
              "      <td>Major</td>\n",
              "      <td>0.0456</td>\n",
              "      <td>140.576</td>\n",
              "      <td>4/4</td>\n",
              "      <td>0.390</td>\n",
              "    </tr>\n",
              "    <tr>\n",
              "      <th>...</th>\n",
              "      <td>...</td>\n",
              "      <td>...</td>\n",
              "      <td>...</td>\n",
              "      <td>...</td>\n",
              "      <td>...</td>\n",
              "      <td>...</td>\n",
              "      <td>...</td>\n",
              "      <td>...</td>\n",
              "      <td>...</td>\n",
              "      <td>...</td>\n",
              "      <td>...</td>\n",
              "      <td>...</td>\n",
              "      <td>...</td>\n",
              "      <td>...</td>\n",
              "      <td>...</td>\n",
              "    </tr>\n",
              "    <tr>\n",
              "      <th>232199</th>\n",
              "      <td>Soul</td>\n",
              "      <td>0</td>\n",
              "      <td>0.00384</td>\n",
              "      <td>0.687</td>\n",
              "      <td>5.44</td>\n",
              "      <td>0.714</td>\n",
              "      <td>0.544000</td>\n",
              "      <td>D</td>\n",
              "      <td>0.0845</td>\n",
              "      <td>-10.626</td>\n",
              "      <td>Major</td>\n",
              "      <td>0.0316</td>\n",
              "      <td>115.542</td>\n",
              "      <td>4/4</td>\n",
              "      <td>0.962</td>\n",
              "    </tr>\n",
              "    <tr>\n",
              "      <th>232200</th>\n",
              "      <td>Soul</td>\n",
              "      <td>0</td>\n",
              "      <td>0.03290</td>\n",
              "      <td>0.785</td>\n",
              "      <td>4.71</td>\n",
              "      <td>0.683</td>\n",
              "      <td>0.000880</td>\n",
              "      <td>E</td>\n",
              "      <td>0.2370</td>\n",
              "      <td>-6.944</td>\n",
              "      <td>Minor</td>\n",
              "      <td>0.0337</td>\n",
              "      <td>113.830</td>\n",
              "      <td>4/4</td>\n",
              "      <td>0.969</td>\n",
              "    </tr>\n",
              "    <tr>\n",
              "      <th>232201</th>\n",
              "      <td>Soul</td>\n",
              "      <td>0</td>\n",
              "      <td>0.90100</td>\n",
              "      <td>0.517</td>\n",
              "      <td>2.78</td>\n",
              "      <td>0.419</td>\n",
              "      <td>0.000000</td>\n",
              "      <td>D</td>\n",
              "      <td>0.0945</td>\n",
              "      <td>-8.282</td>\n",
              "      <td>Major</td>\n",
              "      <td>0.1480</td>\n",
              "      <td>84.135</td>\n",
              "      <td>4/4</td>\n",
              "      <td>0.813</td>\n",
              "    </tr>\n",
              "    <tr>\n",
              "      <th>232202</th>\n",
              "      <td>Soul</td>\n",
              "      <td>0</td>\n",
              "      <td>0.26200</td>\n",
              "      <td>0.745</td>\n",
              "      <td>3.71</td>\n",
              "      <td>0.704</td>\n",
              "      <td>0.000000</td>\n",
              "      <td>A</td>\n",
              "      <td>0.3330</td>\n",
              "      <td>-7.137</td>\n",
              "      <td>Major</td>\n",
              "      <td>0.1460</td>\n",
              "      <td>100.031</td>\n",
              "      <td>4/4</td>\n",
              "      <td>0.489</td>\n",
              "    </tr>\n",
              "    <tr>\n",
              "      <th>232203</th>\n",
              "      <td>Soul</td>\n",
              "      <td>0</td>\n",
              "      <td>0.09730</td>\n",
              "      <td>0.758</td>\n",
              "      <td>5.38</td>\n",
              "      <td>0.470</td>\n",
              "      <td>0.000049</td>\n",
              "      <td>G#</td>\n",
              "      <td>0.0836</td>\n",
              "      <td>-6.708</td>\n",
              "      <td>Minor</td>\n",
              "      <td>0.0287</td>\n",
              "      <td>113.897</td>\n",
              "      <td>4/4</td>\n",
              "      <td>0.479</td>\n",
              "    </tr>\n",
              "  </tbody>\n",
              "</table>\n",
              "<p>232204 rows × 15 columns</p>\n",
              "</div>"
            ],
            "text/plain": [
              "        genre  popularity  acousticness  danceability  duration_m  energy  \\\n",
              "0       Movie           0       0.61100         0.389        1.66   0.910   \n",
              "1       Movie           0       0.24600         0.590        2.29   0.737   \n",
              "2       Movie           0       0.95200         0.663        2.84   0.131   \n",
              "3       Movie           0       0.70300         0.240        2.54   0.326   \n",
              "4       Movie           0       0.95000         0.331        1.38   0.225   \n",
              "...       ...         ...           ...           ...         ...     ...   \n",
              "232199   Soul           0       0.00384         0.687        5.44   0.714   \n",
              "232200   Soul           0       0.03290         0.785        4.71   0.683   \n",
              "232201   Soul           0       0.90100         0.517        2.78   0.419   \n",
              "232202   Soul           0       0.26200         0.745        3.71   0.704   \n",
              "232203   Soul           0       0.09730         0.758        5.38   0.470   \n",
              "\n",
              "        instrumentalness key  liveness  loudness   mode  speechiness    tempo  \\\n",
              "0               0.000000  C#    0.3460    -1.828  Major       0.0525  166.969   \n",
              "1               0.000000  F#    0.1510    -5.559  Minor       0.0868  174.003   \n",
              "2               0.000000   C    0.1030   -13.879  Minor       0.0362   99.488   \n",
              "3               0.000000  C#    0.0985   -12.178  Major       0.0395  171.758   \n",
              "4               0.123000   F    0.2020   -21.150  Major       0.0456  140.576   \n",
              "...                  ...  ..       ...       ...    ...          ...      ...   \n",
              "232199          0.544000   D    0.0845   -10.626  Major       0.0316  115.542   \n",
              "232200          0.000880   E    0.2370    -6.944  Minor       0.0337  113.830   \n",
              "232201          0.000000   D    0.0945    -8.282  Major       0.1480   84.135   \n",
              "232202          0.000000   A    0.3330    -7.137  Major       0.1460  100.031   \n",
              "232203          0.000049  G#    0.0836    -6.708  Minor       0.0287  113.897   \n",
              "\n",
              "       time_signature  valence  \n",
              "0                 4/4    0.814  \n",
              "1                 4/4    0.816  \n",
              "2                 5/4    0.368  \n",
              "3                 4/4    0.227  \n",
              "4                 4/4    0.390  \n",
              "...               ...      ...  \n",
              "232199            4/4    0.962  \n",
              "232200            4/4    0.969  \n",
              "232201            4/4    0.813  \n",
              "232202            4/4    0.489  \n",
              "232203            4/4    0.479  \n",
              "\n",
              "[232204 rows x 15 columns]"
            ]
          },
          "execution_count": 20,
          "metadata": {},
          "output_type": "execute_result"
        }
      ],
      "source": [
        "# 전처리 확인\n",
        "df"
      ]
    },
    {
      "cell_type": "markdown",
      "metadata": {
        "id": "QTHXeRmWbtbp"
      },
      "source": [
        "---"
      ]
    },
    {
      "cell_type": "markdown",
      "metadata": {
        "id": "rXlqdNxprgBU"
      },
      "source": [
        "### 2. 시각화"
      ]
    },
    {
      "cell_type": "markdown",
      "metadata": {
        "id": "o07582y5Ypt3"
      },
      "source": [
        "#### 문제 정의 1. 가장 인기 있는 장르는 어떤 것일까요?"
      ]
    },
    {
      "cell_type": "code",
      "execution_count": null,
      "metadata": {
        "colab": {
          "base_uri": "https://localhost:8080/",
          "height": 450
        },
        "id": "wNn9W7X0S2Bp",
        "outputId": "3711d946-1507-45f6-b7c9-58a36f3abc02"
      },
      "outputs": [
        {
          "data": {
            "image/png": "[encoded data removed]",
            "text/plain": [
              "<Figure size 576x360 with 1 Axes>"
            ]
          },
          "metadata": {
            "needs_background": "light"
          },
          "output_type": "display_data"
        }
      ],
      "source": [
        "# 출시된 장르의 수를 확인\n",
        "count_top10_genre = df.genre.value_counts().to_frame().head(10).T\n",
        "\n",
        "plt.figure(figsize=(8,5))\n",
        "sns.barplot(data=count_top10_genre, palette=\"hls\")\n",
        "plt.title('Counts by Genre', fontsize=20, pad=15)\n",
        "plt.xlabel('Genre', fontsize=15)\n",
        "plt.ylabel('Counts', fontsize=15)\n",
        "plt.xticks(fontsize=12,  rotation=60)\n",
        "plt.yticks(fontsize=12)\n",
        "plt.show()"
      ]
    },
    {
      "cell_type": "code",
      "execution_count": null,
      "metadata": {
        "colab": {
          "base_uri": "https://localhost:8080/",
          "height": 437
        },
        "id": "Hni78HYrKSlE",
        "outputId": "8393b8a1-dbe7-46f0-8a1a-dae85cb0ad35"
      },
      "outputs": [
        {
          "data": {
            "image/png": "[encoded data removed]",
            "text/plain": [
              "<Figure size 576x360 with 1 Axes>"
            ]
          },
          "metadata": {
            "needs_background": "light"
          },
          "output_type": "display_data"
        }
      ],
      "source": [
        "# 인기도가 높은 Top 10 장르를 확인\n",
        "top10_genre = df.groupby('genre')['popularity'].mean().sort_values(ascending=False).to_frame().head(10).T\n",
        "\n",
        "plt.figure(figsize=(8,5))\n",
        "sns.barplot(data=top10_genre, palette=\"husl\")\n",
        "plt.title('Popularity by Genre', fontsize=20, pad=15)\n",
        "plt.xlabel('Genre', fontsize=15)\n",
        "plt.ylabel('Popularity', fontsize=15)\n",
        "plt.xticks(fontsize=12, rotation=45)\n",
        "plt.yticks(fontsize=12)\n",
        "plt.show()"
      ]
    },
    {
      "cell_type": "markdown",
      "metadata": {
        "id": "QqoHogkePJXM"
      },
      "source": [
        "> - 가설 1. 가장 인기 있는 장르는 Pop일 것이다. == True\n",
        "    - 또한, 출시되는 갯수가 많다고 인기를 차지하는 비중이 높지 않다는 것을 알 수 있다.\n",
        "\n"
      ]
    },
    {
      "cell_type": "markdown",
      "metadata": {
        "id": "pdgwCd3Sg6Uw"
      },
      "source": [
        "---"
      ]
    },
    {
      "cell_type": "markdown",
      "metadata": {
        "id": "vexLdfJcYwy2"
      },
      "source": [
        "#### 문제 정의 2. 재생시간은 어느 정도가 적당할까요? 재생시간이 인기도에 영향을 줄까요?"
      ]
    },
    {
      "cell_type": "code",
      "execution_count": null,
      "metadata": {
        "colab": {
          "base_uri": "https://localhost:8080/",
          "height": 585
        },
        "id": "Z19AnbNkqhfa",
        "outputId": "160f1046-887f-438a-9008-db6764df88be"
      },
      "outputs": [
        {
          "data": {
            "image/png": "[encoded data removed]",
            "text/plain": [
              "<Figure size 576x576 with 3 Axes>"
            ]
          },
          "metadata": {
            "needs_background": "light"
          },
          "output_type": "display_data"
        }
      ],
      "source": [
        "# 분포 확인\n",
        "hex_df = origin_df.copy()\n",
        "hex_df['duration_ms'] = round(hex_df['duration_ms'] / 1000 / 60, 2)\n",
        "hex_df.rename(columns={'duration_ms' : 'duration_m'}, inplace=True)\n",
        "\n",
        "sns.jointplot(data=hex_df, x='duration_m', y='popularity', kind='hex', height=8)\n",
        "plt.show()"
      ]
    },
    {
      "cell_type": "markdown",
      "metadata": {
        "id": "cfz9ElsGxf8i"
      },
      "source": [
        "> 확인 결과, 데이터가 몰려있음을 볼 수 있다."
      ]
    },
    {
      "cell_type": "code",
      "execution_count": null,
      "metadata": {
        "colab": {
          "base_uri": "https://localhost:8080/",
          "height": 585
        },
        "id": "KsarB-sjvtnM",
        "outputId": "286a5098-ba72-48eb-d34f-f246dcb06ba7"
      },
      "outputs": [
        {
          "data": {
            "image/png": "[encoded data removed]",
            "text/plain": [
              "<Figure size 576x576 with 3 Axes>"
            ]
          },
          "metadata": {
            "needs_background": "light"
          },
          "output_type": "display_data"
        }
      ],
      "source": [
        "# 재생시간이 7분을 초과하는 데이터를 삭제 후 확인\n",
        "long_dur_df = hex_df.query(\"duration_m>7\").index\n",
        "droped_df = hex_df.drop(long_dur_df)\n",
        "\n",
        "sns.jointplot(data=droped_df, x='duration_m', y='popularity', kind='hex', height=8)\n",
        "plt.show()"
      ]
    },
    {
      "cell_type": "markdown",
      "metadata": {
        "id": "4EscyDFXyNwP"
      },
      "source": [
        "> 3~4분 사이의 음원에서 인기도가 높음을 알 수 있다."
      ]
    },
    {
      "cell_type": "code",
      "execution_count": null,
      "metadata": {
        "colab": {
          "base_uri": "https://localhost:8080/",
          "height": 498
        },
        "id": "qhIN5IBnwj42",
        "outputId": "be961302-9168-4ffc-a47d-1f8f668c2489"
      },
      "outputs": [
        {
          "data": {
            "image/png": "[encoded data removed]",
            "text/plain": [
              "<Figure size 720x576 with 1 Axes>"
            ]
          },
          "metadata": {
            "needs_background": "light"
          },
          "output_type": "display_data"
        }
      ],
      "source": [
        "# 더 확실히 보기위해 선 그래프로 확인\n",
        "plt.figure(figsize=(10,8))\n",
        "sns.lineplot(data=droped_df, x='duration_m', y='popularity')\n",
        "plt.show()"
      ]
    },
    {
      "cell_type": "markdown",
      "metadata": {
        "id": "IxcDtVHKy8GV"
      },
      "source": [
        "> 확인 결과, 특정 구간의 재생시간이 넘어가면 재생시간이 길어질수록 인기도는 하락한다."
      ]
    },
    {
      "cell_type": "markdown",
      "metadata": {
        "id": "wYOLO5KsUVeh"
      },
      "source": [
        "> 가설 2. 재생시간은 인기도에 영향을 주지 않을 것이다. == False"
      ]
    },
    {
      "cell_type": "markdown",
      "metadata": {
        "id": "cCuHew3NhAuq"
      },
      "source": [
        "---"
      ]
    },
    {
      "cell_type": "markdown",
      "metadata": {
        "id": "9WreoBpFtKBH",
        "tags": []
      },
      "source": [
        "## 3. 모델링 및 모델 해석"
      ]
    },
    {
      "cell_type": "markdown",
      "metadata": {
        "id": "uzXfXmDO7aKR",
        "tags": []
      },
      "source": [
        "### Install & Import"
      ]
    },
    {
      "cell_type": "code",
      "execution_count": null,
      "metadata": {
        "id": "2tPojhaV3Py-"
      },
      "outputs": [],
      "source": [
        "# !pip install category_encoders==2.*\n",
        "# !pip install xgboost --upgrade\n",
        "# !pip install lightgbm \n",
        "# !pip3 install hyperopt\n",
        "# !pip3 install eli5\n",
        "# !pip3 install pdpbox\n",
        "\n",
        "# import warnings\n",
        "\n",
        "# warnings.filterwarnings(\"ignore\")"
      ]
    },
    {
      "cell_type": "code",
      "execution_count": null,
      "metadata": {
        "id": "vC0VgqvA3o8_"
      },
      "outputs": [],
      "source": [
        "from sklearn.model_selection import train_test_split\n",
        "from sklearn.model_selection import cross_val_score\n",
        "from sklearn.preprocessing import StandardScaler\n",
        "from sklearn.datasets import make_classification\n",
        "from sklearn.linear_model import LogisticRegression, LogisticRegressionCV\n",
        "from sklearn.model_selection import RandomizedSearchCV\n",
        "from sklearn.preprocessing import LabelEncoder\n",
        "from sklearn.impute import SimpleImputer\n",
        "from sklearn.metrics import plot_confusion_matrix\n",
        "from sklearn.pipeline import make_pipeline\n",
        "from category_encoders import OneHotEncoder, OrdinalEncoder\n",
        "from sklearn.feature_selection import f_regression, SelectKBest\n",
        "from sklearn.ensemble import RandomForestClassifier\n",
        "from xgboost import XGBClassifier\n",
        "from lightgbm import LGBMClassifier\n",
        "from sklearn.metrics import classification_report, recall_score, precision_score, accuracy_score, roc_auc_score, f1_score\n",
        "from sklearn.metrics import roc_curve\n",
        "from hyperopt import hp\n",
        "from hyperopt import fmin, tpe, Trials, STATUS_OK\n",
        "import eli5\n",
        "from eli5.sklearn import PermutationImportance\n",
        "from pdpbox.pdp import pdp_isolate, pdp_plot\n",
        "from pdpbox.pdp import pdp_interact, pdp_interact_plot"
      ]
    },
    {
      "cell_type": "markdown",
      "metadata": {
        "id": "fUzudXHvhCnz"
      },
      "source": [
        "---"
      ]
    },
    {
      "cell_type": "markdown",
      "metadata": {
        "id": "weufREuAuHz0",
        "jp-MarkdownHeadingCollapsed": true,
        "tags": []
      },
      "source": [
        "### train set EDA"
      ]
    },
    {
      "cell_type": "markdown",
      "metadata": {
        "id": "72tdFQuXcdBW"
      },
      "source": [
        "중간 점검 때 체크했던 사항을 시행한다.  \n",
        "1. 재생시간이 7분 초과의 트랙을 삭제한다.\n",
        "2. 대중 음악과 동떨어지는 장르를 삭제한다.\n",
        " - 'Anime', 'Comedy', 'Opera', 'Movie', 'A Capella', 'Classical', \"Children's Music\""
      ]
    },
    {
      "cell_type": "code",
      "execution_count": null,
      "metadata": {
        "colab": {
          "base_uri": "https://localhost:8080/"
        },
        "id": "Ney2E4ycxKO5",
        "outputId": "67a984be-327c-47a5-b316-540bdffce88b"
      },
      "outputs": [
        {
          "name": "stdout",
          "output_type": "stream",
          "text": [
            "train set :  (185763, 15)\n",
            "test set :  (46441, 15)\n"
          ]
        }
      ],
      "source": [
        "# train, validation, test으로 데이터를 분할\n",
        "train, test = train_test_split(df, test_size=0.2, random_state=42)\n",
        "\n",
        "# 각 데이터 세트의 shape 확인\n",
        "print(\"train set : \",train.shape)\n",
        "print(\"test set : \",test.shape)"
      ]
    },
    {
      "cell_type": "code",
      "execution_count": null,
      "metadata": {
        "colab": {
          "base_uri": "https://localhost:8080/"
        },
        "id": "FCmHpZeshtOB",
        "outputId": "8423f062-2caf-4f88-a167-38604b938229"
      },
      "outputs": [
        {
          "data": {
            "text/plain": [
              "(178427, 15)"
            ]
          },
          "execution_count": 29,
          "metadata": {},
          "output_type": "execute_result"
        }
      ],
      "source": [
        "# 재생시간이 7분 초과인 트랙 삭제\n",
        "long_dur = train.query(\"duration_m>7\").index\n",
        "train = train.drop(long_dur)\n",
        "train.shape"
      ]
    },
    {
      "cell_type": "code",
      "execution_count": null,
      "metadata": {
        "colab": {
          "base_uri": "https://localhost:8080/"
        },
        "id": "_kPZ9wMEyBCh",
        "outputId": "ac4370e7-3308-4c1f-bc9e-f8565c2b5df5"
      },
      "outputs": [
        {
          "data": {
            "text/plain": [
              "(135042, 15)"
            ]
          },
          "execution_count": 30,
          "metadata": {},
          "output_type": "execute_result"
        }
      ],
      "source": [
        "# 장르 삭제\n",
        "delete = ['Anime', 'Comedy', 'Opera', 'Movie', 'A Capella', 'Classical', \"Children's Music\"]\n",
        "train = train[~train.genre.isin(delete)]\n",
        "train.shape"
      ]
    },
    {
      "cell_type": "code",
      "execution_count": null,
      "metadata": {
        "colab": {
          "base_uri": "https://localhost:8080/",
          "height": 352
        },
        "id": "YjzgiNZHf5wn",
        "outputId": "9acdb405-d83f-4637-a0cf-e5e624cc753a"
      },
      "outputs": [
        {
          "name": "stdout",
          "output_type": "stream",
          "text": [
            "타겟데이터의 비율\n",
            " 0    0.800588\n",
            "1    0.199412\n",
            "Name: popularity, dtype: float64\n"
          ]
        },
        {
          "data": {
            "image/png": "[encoded data removed]",
            "text/plain": [
              "<Figure size 432x288 with 1 Axes>"
            ]
          },
          "metadata": {
            "needs_background": "light"
          },
          "output_type": "display_data"
        }
      ],
      "source": [
        "# target 값 비율 확인\n",
        "import seaborn as sns\n",
        "\n",
        "print(\"타겟데이터의 비율\\n\",train[target].value_counts(normalize=True))\n",
        "\n",
        "%matplotlib inline\n",
        "sns.countplot(x=train[target]);"
      ]
    },
    {
      "cell_type": "markdown",
      "metadata": {
        "id": "Q9yoOljihEPf"
      },
      "source": [
        "---"
      ]
    },
    {
      "cell_type": "markdown",
      "metadata": {
        "id": "r2G1_ss9zRow"
      },
      "source": [
        "### 모델링"
      ]
    },
    {
      "cell_type": "markdown",
      "metadata": {
        "jp-MarkdownHeadingCollapsed": true,
        "tags": [],
        "id": "ViqfNJFIrgBX"
      },
      "source": [
        "#### X, y 나누기 및 기준 모델 설정"
      ]
    },
    {
      "cell_type": "code",
      "execution_count": null,
      "metadata": {
        "id": "zey4rnWDxo7w"
      },
      "outputs": [],
      "source": [
        "features = df.drop(target, axis=1).columns\n",
        "\n",
        "# X와 y를 나누는 함수 만들기\n",
        "def x_y_split(df) :\n",
        "    X = df[features]\n",
        "    y = df[target]\n",
        "    return X, y\n",
        "\n",
        "# 각 데이터 세트를 X와 y로 분할\n",
        "X_train, y_train = x_y_split(train)\n",
        "X_test, y_test = x_y_split(test)"
      ]
    },
    {
      "cell_type": "code",
      "execution_count": null,
      "metadata": {
        "colab": {
          "base_uri": "https://localhost:8080/"
        },
        "id": "lwviyaaAzj99",
        "outputId": "e252cdb3-e29a-419c-a182-b592a2d155a2"
      },
      "outputs": [
        {
          "name": "stdout",
          "output_type": "stream",
          "text": [
            "X_train: (135042, 14), y_train: (135042,)\n",
            "X_test: (46441, 14), y_test: (46441,)\n"
          ]
        }
      ],
      "source": [
        "# 데이터가 잘 나눠졌는지 shape을 확인\n",
        "print(f'X_train: {X_train.shape}, y_train: {y_train.shape}')\n",
        "print(f'X_test: {X_test.shape}, y_test: {y_test.shape}')"
      ]
    },
    {
      "cell_type": "code",
      "execution_count": null,
      "metadata": {
        "id": "GmZ0f_J1mJG7"
      },
      "outputs": [],
      "source": [
        "def score(y, y_pred) :\n",
        "    accuracy = accuracy_score(y, y_pred).round(3)\n",
        "    precision = precision_score(y, y_pred).round(3)\n",
        "    recall = recall_score(y, y_pred).round(3)\n",
        "    f1 = f1_score(y, y_pred).round(3)\n",
        "    return accuracy, precision, recall, f1"
      ]
    },
    {
      "cell_type": "code",
      "execution_count": null,
      "metadata": {
        "id": "EDJCaAOMq75o"
      },
      "outputs": [],
      "source": [
        "def auc(y, y_pred_proba) :\n",
        "    auc = roc_auc_score(y, y_pred_proba).round(3)\n",
        "\n",
        "    return auc"
      ]
    },
    {
      "cell_type": "code",
      "execution_count": null,
      "metadata": {
        "id": "BeNBZko5u0-v"
      },
      "outputs": [],
      "source": [
        "# 기준모델 설정\n",
        "base = y_train.mode()[0]\n",
        "baseline = len(y_train) * [base]\n",
        "\n",
        "baseline_accuracy, baseline_precision, baseline_recall, baseline_f1 = score(y_train, baseline)\n",
        "baseline_auc = auc(y_train, baseline)"
      ]
    },
    {
      "cell_type": "code",
      "execution_count": null,
      "metadata": {
        "id": "tCXyili-rgBY",
        "outputId": "5b2ef90e-da16-44e8-c8fb-bb695ef92d83"
      },
      "outputs": [
        {
          "name": "stdout",
          "output_type": "stream",
          "text": [
            "BaseLine Accuracy : 0.801\n",
            "BaseLine Precision Score : 0.0\n",
            "BaseLine Recall Score : 0.0\n",
            "BaseLine F1 Score : 0.0\n",
            "BaseLine AUC : 0.5\n"
          ]
        }
      ],
      "source": [
        "print(\"BaseLine Accuracy :\", baseline_accuracy)\n",
        "print(\"BaseLine Precision Score :\", baseline_precision)\n",
        "print(\"BaseLine Recall Score :\", baseline_recall)\n",
        "print(\"BaseLine F1 Score :\", baseline_f1)\n",
        "print(\"BaseLine AUC :\", baseline_auc)"
      ]
    },
    {
      "cell_type": "markdown",
      "metadata": {
        "id": "5AFAgeG_hKNg"
      },
      "source": [
        "---"
      ]
    },
    {
      "cell_type": "markdown",
      "metadata": {
        "id": "lQrRi_sDvaLF",
        "tags": []
      },
      "source": [
        "#### Logistic Regression\n",
        "> 아래는 로지스틱회귀 모델을 위한 전처리"
      ]
    },
    {
      "cell_type": "code",
      "execution_count": null,
      "metadata": {
        "colab": {
          "base_uri": "https://localhost:8080/",
          "height": 270
        },
        "id": "YFX9i_Sj8HK1",
        "outputId": "7762c2c8-fef0-44a7-8505-1bea7cf0dfaf"
      },
      "outputs": [
        {
          "data": {
            "text/html": [
              "<div>\n",
              "<style scoped>\n",
              "    .dataframe tbody tr th:only-of-type {\n",
              "        vertical-align: middle;\n",
              "    }\n",
              "\n",
              "    .dataframe tbody tr th {\n",
              "        vertical-align: top;\n",
              "    }\n",
              "\n",
              "    .dataframe thead th {\n",
              "        text-align: right;\n",
              "    }\n",
              "</style>\n",
              "<table border=\"1\" class=\"dataframe\">\n",
              "  <thead>\n",
              "    <tr style=\"text-align: right;\">\n",
              "      <th></th>\n",
              "      <th>genre</th>\n",
              "      <th>acousticness</th>\n",
              "      <th>danceability</th>\n",
              "      <th>duration_m</th>\n",
              "      <th>energy</th>\n",
              "      <th>instrumentalness</th>\n",
              "      <th>key</th>\n",
              "      <th>liveness</th>\n",
              "      <th>loudness</th>\n",
              "      <th>mode</th>\n",
              "      <th>speechiness</th>\n",
              "      <th>tempo</th>\n",
              "      <th>time_signature</th>\n",
              "      <th>valence</th>\n",
              "    </tr>\n",
              "  </thead>\n",
              "  <tbody>\n",
              "    <tr>\n",
              "      <th>115817</th>\n",
              "      <td>Rap</td>\n",
              "      <td>-0.383739</td>\n",
              "      <td>-0.111908</td>\n",
              "      <td>1.568377</td>\n",
              "      <td>-1.297373</td>\n",
              "      <td>-0.440287</td>\n",
              "      <td>G#</td>\n",
              "      <td>-0.438568</td>\n",
              "      <td>-1.267374</td>\n",
              "      <td>Major</td>\n",
              "      <td>3.030656</td>\n",
              "      <td>-1.802842</td>\n",
              "      <td>4/4</td>\n",
              "      <td>0.112039</td>\n",
              "    </tr>\n",
              "    <tr>\n",
              "      <th>15293</th>\n",
              "      <td>Dance</td>\n",
              "      <td>-0.188639</td>\n",
              "      <td>0.520059</td>\n",
              "      <td>2.708544</td>\n",
              "      <td>1.044840</td>\n",
              "      <td>-0.440143</td>\n",
              "      <td>F</td>\n",
              "      <td>-0.812120</td>\n",
              "      <td>-0.544916</td>\n",
              "      <td>Major</td>\n",
              "      <td>-0.493648</td>\n",
              "      <td>-0.922471</td>\n",
              "      <td>4/4</td>\n",
              "      <td>1.771480</td>\n",
              "    </tr>\n",
              "    <tr>\n",
              "      <th>8959</th>\n",
              "      <td>Country</td>\n",
              "      <td>-0.830483</td>\n",
              "      <td>-0.203830</td>\n",
              "      <td>-0.023925</td>\n",
              "      <td>1.290708</td>\n",
              "      <td>-0.440287</td>\n",
              "      <td>A</td>\n",
              "      <td>-0.043405</td>\n",
              "      <td>0.619352</td>\n",
              "      <td>Major</td>\n",
              "      <td>-0.427308</td>\n",
              "      <td>-0.021419</td>\n",
              "      <td>4/4</td>\n",
              "      <td>0.309123</td>\n",
              "    </tr>\n",
              "    <tr>\n",
              "      <th>25858</th>\n",
              "      <td>Electronic</td>\n",
              "      <td>-0.931806</td>\n",
              "      <td>-0.473853</td>\n",
              "      <td>-0.259821</td>\n",
              "      <td>1.415799</td>\n",
              "      <td>-0.413417</td>\n",
              "      <td>F</td>\n",
              "      <td>0.709875</td>\n",
              "      <td>0.902552</td>\n",
              "      <td>Minor</td>\n",
              "      <td>1.123386</td>\n",
              "      <td>-1.472794</td>\n",
              "      <td>4/4</td>\n",
              "      <td>-1.038927</td>\n",
              "    </tr>\n",
              "    <tr>\n",
              "      <th>70955</th>\n",
              "      <td>Blues</td>\n",
              "      <td>-0.208480</td>\n",
              "      <td>0.393666</td>\n",
              "      <td>-0.692298</td>\n",
              "      <td>-0.387231</td>\n",
              "      <td>-0.439000</td>\n",
              "      <td>G</td>\n",
              "      <td>-0.506487</td>\n",
              "      <td>-0.637615</td>\n",
              "      <td>Major</td>\n",
              "      <td>-0.681265</td>\n",
              "      <td>-0.002920</td>\n",
              "      <td>4/4</td>\n",
              "      <td>0.029264</td>\n",
              "    </tr>\n",
              "  </tbody>\n",
              "</table>\n",
              "</div>"
            ],
            "text/plain": [
              "             genre  acousticness  danceability  duration_m    energy  \\\n",
              "115817         Rap     -0.383739     -0.111908    1.568377 -1.297373   \n",
              "15293        Dance     -0.188639      0.520059    2.708544  1.044840   \n",
              "8959       Country     -0.830483     -0.203830   -0.023925  1.290708   \n",
              "25858   Electronic     -0.931806     -0.473853   -0.259821  1.415799   \n",
              "70955        Blues     -0.208480      0.393666   -0.692298 -0.387231   \n",
              "\n",
              "        instrumentalness key  liveness  loudness   mode  speechiness  \\\n",
              "115817         -0.440287  G# -0.438568 -1.267374  Major     3.030656   \n",
              "15293          -0.440143   F -0.812120 -0.544916  Major    -0.493648   \n",
              "8959           -0.440287   A -0.043405  0.619352  Major    -0.427308   \n",
              "25858          -0.413417   F  0.709875  0.902552  Minor     1.123386   \n",
              "70955          -0.439000   G -0.506487 -0.637615  Major    -0.681265   \n",
              "\n",
              "           tempo time_signature   valence  \n",
              "115817 -1.802842            4/4  0.112039  \n",
              "15293  -0.922471            4/4  1.771480  \n",
              "8959   -0.021419            4/4  0.309123  \n",
              "25858  -1.472794            4/4 -1.038927  \n",
              "70955  -0.002920            4/4  0.029264  "
            ]
          },
          "execution_count": 61,
          "metadata": {},
          "output_type": "execute_result"
        }
      ],
      "source": [
        "# 수치형 데이터 스케일링\n",
        "scaler = StandardScaler()\n",
        "need_scale = X_train.dtypes[X_train.dtypes != 'object'].index\n",
        "\n",
        "X_train_scaled = X_train.copy()\n",
        "X_test_scaled = X_test.copy()\n",
        "\n",
        "for i in need_scale :\n",
        "    X_train_scaled[i] = scaler.fit_transform(X_train[i].values.reshape(-1, 1))\n",
        "    X_test_scaled[i] = scaler.transform(X_test[i].values.reshape(-1, 1))\n",
        "\n",
        "X_train_scaled.head()"
      ]
    },
    {
      "cell_type": "code",
      "execution_count": null,
      "metadata": {
        "colab": {
          "base_uri": "https://localhost:8080/"
        },
        "id": "V5hGiSju_TBS",
        "outputId": "912c4709-9341-440e-abda-66598c890631"
      },
      "outputs": [
        {
          "name": "stdout",
          "output_type": "stream",
          "text": [
            "(135042, 48) (46441, 48)\n"
          ]
        }
      ],
      "source": [
        "# 문자형 데이터 인코딩\n",
        "ohe = OneHotEncoder(use_cat_names=True)\n",
        "\n",
        "X_train_encoded = ohe.fit_transform(X_train_scaled)\n",
        "X_test_encoded = ohe.transform(X_test_scaled)\n",
        "\n",
        "print(X_train_encoded.shape, X_test_encoded.shape)"
      ]
    },
    {
      "cell_type": "code",
      "execution_count": null,
      "metadata": {
        "id": "4Nuq_iUi4mia",
        "tags": []
      },
      "outputs": [],
      "source": [
        "# 로지스틱회귀 모델\n",
        "logistic = LogisticRegressionCV(class_weight='balanced')\n",
        "logistic.fit(X_train_encoded, y_train)\n",
        "y_log_pred = logistic.predict(X_test_encoded)\n",
        "y_log_pred_proba = logistic.predict_proba(X_test_encoded)[:,1]\n",
        "\n",
        "log_test_accuracy, log_test_precision, log_test_recall, log_test_f1 = score(y_test, y_log_pred)\n",
        "log_test_auc = auc(y_test, y_log_pred_proba)"
      ]
    },
    {
      "cell_type": "code",
      "execution_count": null,
      "metadata": {
        "id": "yYog0geRrgBZ",
        "outputId": "17fb406c-0483-4a77-d708-572e09bfacd0"
      },
      "outputs": [
        {
          "name": "stdout",
          "output_type": "stream",
          "text": [
            "Logistic Test Accuracy : 0.822\n",
            "Logistic Test Precision Score : 0.463\n",
            "Logistic Test Recall Score : 0.744\n",
            "Logistic Test F1 Score : 0.571\n",
            "Logistic Test AUC : 0.863\n"
          ]
        }
      ],
      "source": [
        "print(\"Logistic Test Accuracy :\", log_test_accuracy)\n",
        "print(\"Logistic Test Precision Score :\", log_test_precision)\n",
        "print(\"Logistic Test Recall Score :\", log_test_recall)\n",
        "print(\"Logistic Test F1 Score :\", log_test_f1)\n",
        "print(\"Logistic Test AUC :\", log_test_auc)"
      ]
    },
    {
      "cell_type": "markdown",
      "metadata": {
        "id": "PbWOMuG7hRdO"
      },
      "source": [
        "---"
      ]
    },
    {
      "cell_type": "markdown",
      "metadata": {
        "id": "h3iiy-qxum58",
        "jp-MarkdownHeadingCollapsed": true,
        "tags": []
      },
      "source": [
        "#### Random Forest Classifier"
      ]
    },
    {
      "cell_type": "code",
      "execution_count": null,
      "metadata": {
        "id": "LWatAs5hxDFN"
      },
      "outputs": [],
      "source": [
        "# 하이퍼파라미터 서치에 사용할 값 범위 설정\n",
        "params = {\n",
        "    \"randomforestclassifier__n_estimators\": hp.quniform(\"n_estimators\", 100, 2500, 100),\n",
        "    # \"randomforestclassifier__min_samples_split\": hp.choice(\"min_samples_split\", [2, 3, 5, 7, 9]),\n",
        "    \"randomforestclassifier__max_depth\": hp.choice(\"max_depth\", [1, 2, 3, 4, 5, 10 ,20, 30]),\n",
        "    # \"randomforestclassifier__max_leaf_nodes\": hp.quniform(\"max_leaf_nodes\", 1, 5, 1),\n",
        "    # \"randomforestclassifier__oob_score\": hp.choice(\"oob_score\", [True, False]),\n",
        "    # \"randomforestclassifier__max_features\": hp.choice(\"max_features\", ['auto', 'squrt', 'log2']),\n",
        "    # \"randomforestclassifier__criterion\": hp.choice(\"criterion\", ['gini', 'entropy']),\n",
        "}"
      ]
    },
    {
      "cell_type": "code",
      "execution_count": null,
      "metadata": {
        "colab": {
          "base_uri": "https://localhost:8080/",
          "height": 400
        },
        "id": "968ZJwdGxQ3Z",
        "outputId": "6cd26375-4787-4ba6-d4ec-b61ee060ecfd"
      },
      "outputs": [
        {
          "name": "stdout",
          "output_type": "stream",
          "text": [
            "100%|████████████████████████████████████████████████| 30/30 [32:10<00:00, 64.34s/trial, best loss: -0.893371612978803]\n"
          ]
        }
      ],
      "source": [
        "# 베이지안 서치 시행\n",
        "def get_pipe(params):\n",
        "    params[\"randomforestclassifier__max_depth\"] = int(\n",
        "        params[\"randomforestclassifier__max_depth\"]\n",
        "    )  \n",
        "    params[\"randomforestclassifier__n_estimators\"] = int(\n",
        "        params[\"randomforestclassifier__n_estimators\"]\n",
        "    )  \n",
        "    pipe = make_pipeline(\n",
        "        OrdinalEncoder(),\n",
        "        RandomForestClassifier(\n",
        "            class_weight='balanced',\n",
        "            random_state=42,\n",
        "            n_jobs=-1,\n",
        "        ),\n",
        "    )\n",
        "    pipe = pipe.set_params(**params)\n",
        "    return pipe\n",
        "\n",
        "\n",
        "def fit_and_eval(params):\n",
        "    pipe = get_pipe(params)\n",
        "    score = cross_val_score(pipe, X_train, y_train, cv=3, scoring=\"roc_auc\")\n",
        "    avg_cv_score = np.mean(score)\n",
        "    return {\"loss\": -avg_cv_score, \"status\": STATUS_OK}\n",
        "\n",
        "\n",
        "rf_trials = (\n",
        "    Trials()\n",
        ")\n",
        "\n",
        "best_params = fmin(\n",
        "    fn=fit_and_eval, trials=rf_trials, space=params, algo=tpe.suggest, max_evals=30\n",
        ")"
      ]
    },
    {
      "cell_type": "code",
      "execution_count": null,
      "metadata": {
        "id": "gW2hyHHP0xi9",
        "outputId": "0615dc90-8e7c-409d-cea7-ef091048f8af"
      },
      "outputs": [
        {
          "name": "stdout",
          "output_type": "stream",
          "text": [
            "Random Forest 최적의 하이퍼파라미터 : {'max_depth': [7], 'n_estimators': [1600.0]}\n",
            "Random Forest 최적의 AUC : 0.893371612978803\n"
          ]
        }
      ],
      "source": [
        "print(\"Random Forest 최적의 하이퍼파라미터 :\", rf_trials.best_trial[\"misc\"][\"vals\"])\n",
        "print(\"Random Forest 최적의 AUC :\", -rf_trials.best_trial[\"result\"][\"loss\"])"
      ]
    },
    {
      "cell_type": "code",
      "execution_count": null,
      "metadata": {
        "id": "Sra2yfAQ4pcc"
      },
      "outputs": [],
      "source": [
        "# 랜덤포레스트분류 모델\n",
        "rf_pipe = make_pipeline(\n",
        "            OrdinalEncoder(),\n",
        "            RandomForestClassifier(\n",
        "                class_weight='balanced',\n",
        "                random_state=42,\n",
        "                n_jobs=-1,\n",
        "                n_estimators=1600,\n",
        "                max_depth=7,\n",
        "        ),\n",
        ")\n",
        "\n",
        "rf_pipe.fit(X_train, y_train)\n",
        "    \n",
        "y_rf_pred = rf_pipe.predict(X_test)\n",
        "y_rf_pred_proba = rf_pipe.predict_proba(X_test)[:,1]\n",
        "\n",
        "rf_test_accuracy, rf_test_precision, rf_test_recall, rf_test_f1 = score(y_test, y_rf_pred)\n",
        "rf_test_auc = auc(y_test, y_rf_pred_proba)"
      ]
    },
    {
      "cell_type": "code",
      "execution_count": null,
      "metadata": {
        "id": "GUwdSdtgrgBZ",
        "outputId": "0288e0ea-cf68-4d8a-eaf5-6bf622c87b15"
      },
      "outputs": [
        {
          "name": "stdout",
          "output_type": "stream",
          "text": [
            "Random Forest Test Accuracy : 0.733\n",
            "Random Forest Test Precision Score : 0.344\n",
            "Random Forest Test Recall Score : 0.755\n",
            "Random Forest Test F1 Score : 0.473\n",
            "Random Forest Test AUC : 0.827\n"
          ]
        }
      ],
      "source": [
        "print(\"Random Forest Test Accuracy :\", rf_test_accuracy)\n",
        "print(\"Random Forest Test Precision Score :\", rf_test_precision)\n",
        "print(\"Random Forest Test Recall Score :\", rf_test_recall)\n",
        "print(\"Random Forest Test F1 Score :\", rf_test_f1)\n",
        "print(\"Random Forest Test AUC :\", rf_test_auc)"
      ]
    },
    {
      "cell_type": "markdown",
      "metadata": {
        "id": "CYf-YI0nhSM3"
      },
      "source": [
        "---"
      ]
    },
    {
      "cell_type": "markdown",
      "metadata": {
        "id": "0ZQEal3uvHGV",
        "jp-MarkdownHeadingCollapsed": true,
        "tags": []
      },
      "source": [
        "#### XGB Classifier"
      ]
    },
    {
      "cell_type": "code",
      "execution_count": null,
      "metadata": {
        "id": "DkGnwWr-rgBa"
      },
      "outputs": [],
      "source": [
        "# 하이퍼파라미터 서치에 사용할 값 범위 설정\n",
        "params = {\n",
        "    \"xgbclassifier__n_estimators\": hp.quniform(\"n_estimators\", 100, 2500, 100),\n",
        "    \"xgbclassifier__learning_rate\": hp.quniform(\"learning_rate\", 0.01, 0.06, 0.01),\n",
        "    \"xgbclassifier__colsample_bytree\": hp.quniform(\"colsample_bytree\", 0.5, 1.0, 0.1),\n",
        "    \"xgbclassifier__min_child_weight\": hp.quniform(\"min_child_weight\", 1, 21, 1),\n",
        "    \"xgbclassifier__max_depth\": hp.choice(\"max_depth\", [1, 2, 3, 4, 5, 10 ,20, 30]),\n",
        "    \"xgbclassifier__reg_lambda\": hp.choice(\"reg_lambda\", [0, 1, 10, 20, 100, 150, 200]),\n",
        "    \"xgbclassifier__reg_alpha\": hp.quniform(\"reg_alpha\", 0, 0.2, 0.1),\n",
        "    \"xgbclassifier__scale_pos_weight\": hp.uniform(\"scale_pos_weight\", 2.5, 3.5),\n",
        "         }"
      ]
    },
    {
      "cell_type": "code",
      "execution_count": null,
      "metadata": {
        "id": "CNIaIahkrgBa",
        "outputId": "c93b7be2-633e-4a56-e056-e1e41f5db9bd"
      },
      "outputs": [
        {
          "name": "stdout",
          "output_type": "stream",
          "text": [
            "100%|████████████████████████████████████████████| 30/30 [1:36:15<00:00, 192.52s/trial, best loss: -0.9116167417540769]\n"
          ]
        }
      ],
      "source": [
        "# 베이지안 서치 시행\n",
        "def get_pipe(params):\n",
        "    params[\"xgbclassifier__max_depth\"] = int(\n",
        "        params[\"xgbclassifier__max_depth\"]\n",
        "    )  \n",
        "    params[\"xgbclassifier__n_estimators\"] = int(\n",
        "        params[\"xgbclassifier__n_estimators\"]\n",
        "    )  \n",
        "    pipe = make_pipeline(\n",
        "        OrdinalEncoder(),\n",
        "        XGBClassifier(\n",
        "            objective=\"binary:logistic\",\n",
        "            eval_metric=\"error\",\n",
        "            random_state=42,\n",
        "            n_jobs=-1,\n",
        "        ),\n",
        "    )\n",
        "    pipe = pipe.set_params(**params)\n",
        "    return pipe\n",
        "\n",
        "\n",
        "def fit_and_eval(params):\n",
        "    pipe = get_pipe(params)\n",
        "    score = cross_val_score(pipe, X_train, y_train, cv=3, scoring=\"roc_auc\")\n",
        "    avg_cv_score = np.mean(score)\n",
        "    return {\"loss\": -avg_cv_score, \"status\": STATUS_OK}\n",
        "\n",
        "\n",
        "xgb_trials = (\n",
        "    Trials()\n",
        ")\n",
        "\n",
        "best_params = fmin(\n",
        "    fn=fit_and_eval, trials=xgb_trials, space=params, algo=tpe.suggest, max_evals=30\n",
        ")"
      ]
    },
    {
      "cell_type": "code",
      "execution_count": null,
      "metadata": {
        "id": "lkfs8IN9rgBa",
        "outputId": "416a584a-b4bb-4183-c373-0018e1459206"
      },
      "outputs": [
        {
          "name": "stdout",
          "output_type": "stream",
          "text": [
            "XGB 최적의 하이퍼파라미터 : {'colsample_bytree': [0.7000000000000001], 'learning_rate': [0.04], 'max_depth': [7], 'min_child_weight': [11.0], 'n_estimators': [2500.0], 'reg_alpha': [0.0], 'reg_lambda': [6], 'scale_pos_weight': [2.704585271920224]}\n",
            "XGB 최적의 AUC : 0.9116167417540769\n"
          ]
        }
      ],
      "source": [
        "print(\"XGB 최적의 하이퍼파라미터 :\", xgb_trials.best_trial[\"misc\"][\"vals\"])\n",
        "print(\"XGB 최적의 AUC :\", -xgb_trials.best_trial[\"result\"][\"loss\"])"
      ]
    },
    {
      "cell_type": "code",
      "execution_count": null,
      "metadata": {
        "id": "uOyNycfi4xwV"
      },
      "outputs": [],
      "source": [
        "# XGB분류 모델\n",
        "xgb_pipe = make_pipeline(\n",
        "            OrdinalEncoder(),\n",
        "            XGBClassifier(\n",
        "                objective=\"binary:logistic\",\n",
        "                eval_metric=\"error\",\n",
        "                random_state=42,\n",
        "                n_jobs=-1,\n",
        "                colsample_bytree=0.7000000000000001,\n",
        "                learning_rate=0.04,\n",
        "                max_depth=7,\n",
        "                min_child_weight=11,\n",
        "                n_estimators=2500,\n",
        "                reg_alpha=0,\n",
        "                reg_lambda=6,\n",
        "                scale_pos_weight=2.704585271920224,\n",
        "            ))\n",
        "\n",
        "xgb_pipe.fit(X_train, y_train)\n",
        "    \n",
        "y_xgb_pred = xgb_pipe.predict(X_test)\n",
        "y_xgb_pred_proba = xgb_pipe.predict_proba(X_test)[:,1]\n",
        "\n",
        "xgb_test_accuracy, xgb_test_precision, xgb_test_recall, xgb_test_f1 = score(y_test, y_xgb_pred)\n",
        "xgb_test_auc = auc(y_test, y_xgb_pred_proba)"
      ]
    },
    {
      "cell_type": "code",
      "execution_count": null,
      "metadata": {
        "id": "_sf8KCPbrgBa",
        "outputId": "1493ef04-f35b-40b2-b229-ce4a351c171c"
      },
      "outputs": [
        {
          "name": "stdout",
          "output_type": "stream",
          "text": [
            "XGB Test Accuracy : 0.783\n",
            "XGB Test Precision Score : 0.403\n",
            "XGB Test Recall Score : 0.767\n",
            "XGB Test F1 Score : 0.528\n",
            "XGB Test AUC : 0.865\n"
          ]
        }
      ],
      "source": [
        "print(\"XGB Test Accuracy :\", xgb_test_accuracy)\n",
        "print(\"XGB Test Precision Score :\", xgb_test_precision)\n",
        "print(\"XGB Test Recall Score :\", xgb_test_recall)\n",
        "print(\"XGB Test F1 Score :\", xgb_test_f1)\n",
        "print(\"XGB Test AUC :\", xgb_test_auc)"
      ]
    },
    {
      "cell_type": "markdown",
      "metadata": {
        "id": "4m-8GOOyhTCQ"
      },
      "source": [
        "---"
      ]
    },
    {
      "cell_type": "markdown",
      "metadata": {
        "id": "n9d4_c8WvU8-",
        "jp-MarkdownHeadingCollapsed": true,
        "tags": []
      },
      "source": [
        "#### LGBM Classifier"
      ]
    },
    {
      "cell_type": "code",
      "execution_count": null,
      "metadata": {
        "id": "p-pVw4FOrgBa"
      },
      "outputs": [],
      "source": [
        "# 하이퍼파라미터 서치에 사용할 값 범위 설정\n",
        "params = {\n",
        "    \"lgbmclassifier__n_estimators\": hp.quniform(\"n_estimators\", 100, 2500, 100),\n",
        "    \"lgbmclassifier__learning_rate\": hp.quniform(\"learning_rate\", 0.01, 0.06, 0.01),\n",
        "    \"lgbmclassifier__subsample\": hp.quniform(\"subsample\", 0.3, 1.0, 0.1),\n",
        "    \"lgbmclassifier__colsample_bytree\": hp.quniform(\"colsample_bytree\", 0.5, 1.0, 0.1),\n",
        "    \"lgbmclassifier__scale_pos_weight\": hp.uniform(\"scale_pos_weight\", 2.5, 3.5),\n",
        "         }"
      ]
    },
    {
      "cell_type": "code",
      "execution_count": null,
      "metadata": {
        "id": "OcIPu1Z6rgBb",
        "outputId": "cd9afe17-8b4f-40d8-b83e-3b0a84b5f0c7"
      },
      "outputs": [
        {
          "name": "stdout",
          "output_type": "stream",
          "text": [
            "100%|███████████████████████████████████████████████| 30/30 [40:52<00:00, 81.74s/trial, best loss: -0.8835739538897883]\n"
          ]
        }
      ],
      "source": [
        "# 베이지안 서치 시행\n",
        "def get_pipe(params):\n",
        "    params[\"lgbmclassifier__n_estimators\"] = int(\n",
        "        params[\"lgbmclassifier__n_estimators\"]\n",
        "    ) \n",
        "    pipe = make_pipeline(\n",
        "        OrdinalEncoder(),\n",
        "        LGBMClassifier(\n",
        "            max_depth=-1,\n",
        "            objective='binary', \n",
        "            boosting_type='dart',\n",
        "            random_state=42, \n",
        "            n_jobs=-1)\n",
        "            )\n",
        "    pipe = pipe.set_params(**params)\n",
        "    return pipe\n",
        "\n",
        "\n",
        "def fit_and_eval(params):\n",
        "    pipe = get_pipe(params)\n",
        "    score = cross_val_score(pipe, X_train, y_train, cv=3, scoring=\"roc_auc\")\n",
        "    avg_cv_score = np.mean(score)\n",
        "    return {\"loss\": -avg_cv_score, \"status\": STATUS_OK}\n",
        "\n",
        "\n",
        "lgbm_trials = (\n",
        "    Trials()\n",
        ")\n",
        "\n",
        "best_params = fmin(\n",
        "    fn=fit_and_eval, trials=lgbm_trials, space=params, algo=tpe.suggest, max_evals=30\n",
        ")"
      ]
    },
    {
      "cell_type": "code",
      "execution_count": null,
      "metadata": {
        "id": "VUP0gZxQrgBb",
        "outputId": "8237d588-00f8-47b5-970a-555bdc68f381"
      },
      "outputs": [
        {
          "name": "stdout",
          "output_type": "stream",
          "text": [
            "LGBM 최적의 하이퍼파라미터 : {'colsample_bytree': [0.9], 'learning_rate': [0.06], 'n_estimators': [2500.0], 'scale_pos_weight': [3.186529635416566], 'subsample': [0.7000000000000001]}\n",
            "LGBM 최적의 AUC : 0.8835739538897883\n"
          ]
        }
      ],
      "source": [
        "print(\"LGBM 최적의 하이퍼파라미터 :\", lgbm_trials.best_trial[\"misc\"][\"vals\"])\n",
        "print(\"LGBM 최적의 AUC :\", -lgbm_trials.best_trial[\"result\"][\"loss\"])"
      ]
    },
    {
      "cell_type": "code",
      "execution_count": null,
      "metadata": {
        "id": "__3S9tLCWaha"
      },
      "outputs": [],
      "source": [
        "# LGBM분류 모델\n",
        "lgbm_pipe = make_pipeline(\n",
        "            OrdinalEncoder(),\n",
        "            LGBMClassifier(\n",
        "                max_depth=-1,\n",
        "                objective='binary', \n",
        "                boosting_type='dart',\n",
        "                random_state=42, \n",
        "                n_jobs=-1,\n",
        "                n_estimators=2500,\n",
        "                learning_rate=0.05,\n",
        "                subsample=0.7000000000000001,\n",
        "                colsample_bytree=0.9,\n",
        "                scale_pos_weight=3.186529635416566,\n",
        "           ))\n",
        "\n",
        "lgbm_pipe.fit(X_train, y_train)\n",
        "    \n",
        "y_lgbm_pred = lgbm_pipe.predict(X_test)\n",
        "y_lgbm_pred_proba = lgbm_pipe.predict_proba(X_test)[:,1]\n",
        "\n",
        "lgbm_test_accuracy, lgbm_test_precision, lgbm_test_recall, lgbm_test_f1 = score(y_test, y_lgbm_pred)\n",
        "lgbm_test_auc = auc(y_test, y_lgbm_pred_proba)"
      ]
    },
    {
      "cell_type": "code",
      "execution_count": null,
      "metadata": {
        "id": "UkYMZZP5rgBb",
        "outputId": "1322fd3a-7d1e-47b8-ea2a-a83d651ca03d"
      },
      "outputs": [
        {
          "name": "stdout",
          "output_type": "stream",
          "text": [
            "LGBM Test Accuracy : 0.666\n",
            "LGBM Test Precision Score : 0.293\n",
            "LGBM Test Recall Score : 0.782\n",
            "LGBM Test F1 Score : 0.426\n",
            "LGBM Test AUC : 0.81\n"
          ]
        }
      ],
      "source": [
        "print(\"LGBM Test Accuracy :\", lgbm_test_accuracy)\n",
        "print(\"LGBM Test Precision Score :\", lgbm_test_precision)\n",
        "print(\"LGBM Test Recall Score :\", lgbm_test_recall)\n",
        "print(\"LGBM Test F1 Score :\", lgbm_test_f1)\n",
        "print(\"LGBM Test AUC :\", lgbm_test_auc)"
      ]
    },
    {
      "cell_type": "markdown",
      "metadata": {
        "id": "y9P-QIj0hF92",
        "tags": []
      },
      "source": [
        "---"
      ]
    },
    {
      "cell_type": "markdown",
      "metadata": {
        "id": "mnJvXoM_rgBb"
      },
      "source": [
        "#### 모델별 성능 비교"
      ]
    },
    {
      "cell_type": "code",
      "execution_count": null,
      "metadata": {
        "id": "ctzIgELFrgBb",
        "outputId": "698ccca1-b12f-44e7-ec23-ffa740346c06"
      },
      "outputs": [
        {
          "data": {
            "text/html": [
              "<div>\n",
              "<style scoped>\n",
              "    .dataframe tbody tr th:only-of-type {\n",
              "        vertical-align: middle;\n",
              "    }\n",
              "\n",
              "    .dataframe tbody tr th {\n",
              "        vertical-align: top;\n",
              "    }\n",
              "\n",
              "    .dataframe thead th {\n",
              "        text-align: right;\n",
              "    }\n",
              "</style>\n",
              "<table border=\"1\" class=\"dataframe\">\n",
              "  <thead>\n",
              "    <tr style=\"text-align: right;\">\n",
              "      <th></th>\n",
              "      <th>BaseLine</th>\n",
              "      <th>Logistic</th>\n",
              "      <th>RandomForest</th>\n",
              "      <th>XGB</th>\n",
              "      <th>LGBM</th>\n",
              "    </tr>\n",
              "  </thead>\n",
              "  <tbody>\n",
              "    <tr>\n",
              "      <th>Accuracy</th>\n",
              "      <td>0.801</td>\n",
              "      <td>0.822</td>\n",
              "      <td>0.733</td>\n",
              "      <td>0.783</td>\n",
              "      <td>0.666</td>\n",
              "    </tr>\n",
              "    <tr>\n",
              "      <th>Precision</th>\n",
              "      <td>0.000</td>\n",
              "      <td>0.463</td>\n",
              "      <td>0.344</td>\n",
              "      <td>0.403</td>\n",
              "      <td>0.293</td>\n",
              "    </tr>\n",
              "    <tr>\n",
              "      <th>Recall</th>\n",
              "      <td>0.000</td>\n",
              "      <td>0.744</td>\n",
              "      <td>0.755</td>\n",
              "      <td>0.767</td>\n",
              "      <td>0.782</td>\n",
              "    </tr>\n",
              "    <tr>\n",
              "      <th>F1</th>\n",
              "      <td>0.000</td>\n",
              "      <td>0.571</td>\n",
              "      <td>0.473</td>\n",
              "      <td>0.528</td>\n",
              "      <td>0.426</td>\n",
              "    </tr>\n",
              "    <tr>\n",
              "      <th>AUC</th>\n",
              "      <td>0.500</td>\n",
              "      <td>0.863</td>\n",
              "      <td>0.827</td>\n",
              "      <td>0.865</td>\n",
              "      <td>0.810</td>\n",
              "    </tr>\n",
              "  </tbody>\n",
              "</table>\n",
              "</div>"
            ],
            "text/plain": [
              "           BaseLine  Logistic  RandomForest    XGB   LGBM\n",
              "Accuracy      0.801     0.822         0.733  0.783  0.666\n",
              "Precision     0.000     0.463         0.344  0.403  0.293\n",
              "Recall        0.000     0.744         0.755  0.767  0.782\n",
              "F1            0.000     0.571         0.473  0.528  0.426\n",
              "AUC           0.500     0.863         0.827  0.865  0.810"
            ]
          },
          "execution_count": 94,
          "metadata": {},
          "output_type": "execute_result"
        }
      ],
      "source": [
        "comparison_metrics = pd.DataFrame(index=['Accuracy', 'Precision', 'Recall', 'F1', 'AUC'], columns=['BaseLine', 'Logistic','RandomForest', 'XGB', 'LGBM'])\n",
        "comparison_metrics['BaseLine'] = [baseline_accuracy, baseline_precision, baseline_recall, baseline_f1, baseline_auc]\n",
        "comparison_metrics['Logistic'] = [log_test_accuracy, log_test_precision, log_test_recall, log_test_f1, log_test_auc]\n",
        "comparison_metrics['RandomForest'] = [rf_test_accuracy, rf_test_precision, rf_test_recall, rf_test_f1, rf_test_auc]\n",
        "comparison_metrics['XGB'] = [xgb_test_accuracy, xgb_test_precision, xgb_test_recall, xgb_test_f1, xgb_test_auc]\n",
        "comparison_metrics['LGBM'] = [lgbm_test_accuracy, lgbm_test_precision, lgbm_test_recall, lgbm_test_f1, lgbm_test_auc]\n",
        "comparison_metrics"
      ]
    },
    {
      "cell_type": "code",
      "execution_count": null,
      "metadata": {
        "id": "DxoPB4-hrgBb",
        "outputId": "b0634a00-20c2-4ceb-9b42-6826692a2b07"
      },
      "outputs": [
        {
          "data": {
            "image/png": "[encoded data removed]",
            "text/plain": [
              "<Figure size 576x360 with 1 Axes>"
            ]
          },
          "metadata": {},
          "output_type": "display_data"
        }
      ],
      "source": [
        "log_fpr, log_tpr, log_ = roc_curve(y_test, y_log_pred_proba)\n",
        "rf_fpr, rf_tpr, rf_ = roc_curve(y_test, y_rf_pred_proba)\n",
        "xgb_fpr, xgb_tpr, xgb_ = roc_curve(y_test, y_xgb_pred_proba)\n",
        "lgbm_fpr, lgbm_tpr, lgbm_ = roc_curve(y_test, y_lgbm_pred_proba)\n",
        "baseline_fpr, baseline_tpr, _ = roc_curve(y_test, [0] * len(y_test))\n",
        "\n",
        "plt.style.use(\"ggplot\")\n",
        "plt.figure(figsize=(8,5))\n",
        "plt.plot(log_fpr, log_tpr, label=\"Logistic\")\n",
        "plt.plot(rf_fpr, rf_tpr, label=\"Random Forest\")\n",
        "plt.plot(xgb_fpr, xgb_tpr, label=\"XGB\")\n",
        "plt.plot(lgbm_fpr, lgbm_tpr, label=\"LGBM\")\n",
        "plt.plot(baseline_fpr, baseline_tpr, linestyle=\"--\", label=\"Baseline\")\n",
        "plt.xlabel(\"False Positive Rate\", size=12)\n",
        "plt.ylabel(\"True Positive Rate\", size=12)\n",
        "plt.title(\"ROC Curve by Models\")\n",
        "plt.legend(prop={\"size\": 12})\n",
        "plt.show()"
      ]
    },
    {
      "cell_type": "markdown",
      "metadata": {
        "tags": [],
        "id": "3PruoIUXrgBb"
      },
      "source": [
        "---"
      ]
    },
    {
      "cell_type": "markdown",
      "metadata": {
        "id": "1VNgidjErgBc"
      },
      "source": [
        "### 모델 해석"
      ]
    },
    {
      "cell_type": "markdown",
      "metadata": {
        "id": "hOM3MPddYzJY",
        "tags": []
      },
      "source": [
        "#### 문제 정의 3. 인기도에 가장 영향을 많이 주는 요소는 무엇일까요?"
      ]
    },
    {
      "cell_type": "markdown",
      "metadata": {
        "tags": [],
        "id": "boPpkBy9rgBc"
      },
      "source": [
        "##### Permutation Importance - Logistic"
      ]
    },
    {
      "cell_type": "code",
      "execution_count": null,
      "metadata": {
        "id": "Q8v7aojHrgBc",
        "outputId": "fe19c7cc-920b-4615-818c-e2ef56939c01"
      },
      "outputs": [
        {
          "data": {
            "text/plain": [
              "PermutationImportance(estimator=LogisticRegressionCV(class_weight='balanced'),\n",
              "                      n_iter=30, random_state=42, scoring='roc_auc')"
            ]
          },
          "execution_count": 98,
          "metadata": {},
          "output_type": "execute_result"
        }
      ],
      "source": [
        "# permuter 정의\n",
        "permuter = PermutationImportance(\n",
        "    logistic, # .named_steps[\"logisticregressioncv\"],  # model\n",
        "    scoring=\"roc_auc\",  # metric\n",
        "    n_iter=30,  # 다른 random seed를 사용하여 30번 반복\n",
        "    random_state=42,\n",
        ")\n",
        "\n",
        "# 스코어 다시 계산\n",
        "permuter.fit(X_test_encoded, y_test)"
      ]
    },
    {
      "cell_type": "code",
      "execution_count": null,
      "metadata": {
        "id": "wZjbhNgnrgBc",
        "outputId": "f66f122c-7ea1-4334-f02f-50e758da9cc4"
      },
      "outputs": [
        {
          "data": {
            "text/plain": [
              "Text(0.5, 1.0, 'Permutation Importance')"
            ]
          },
          "execution_count": 106,
          "metadata": {},
          "output_type": "execute_result"
        },
        {
          "data": {
            "image/png": "[encoded data removed]",
            "text/plain": [
              "<Figure size 1296x936 with 1 Axes>"
            ]
          },
          "metadata": {},
          "output_type": "display_data"
        }
      ],
      "source": [
        "feature_names = X_test_encoded.columns.tolist()\n",
        "pi = pd.Series(permuter.feature_importances_, feature_names).sort_values()\n",
        "plt.figure(figsize=(18,13))\n",
        "pi.plot.barh()\n",
        "plt.title(\"Permutation Importance\")"
      ]
    },
    {
      "cell_type": "code",
      "execution_count": null,
      "metadata": {
        "id": "p4yvnJGNrgBc",
        "outputId": "907d4790-46d0-4fe5-b72e-935bbec33ba6"
      },
      "outputs": [
        {
          "data": {
            "text/html": [
              "\n",
              "    <style>\n",
              "    table.eli5-weights tr:hover {\n",
              "        filter: brightness(85%);\n",
              "    }\n",
              "</style>\n",
              "\n",
              "\n",
              "\n",
              "    \n",
              "\n",
              "    \n",
              "\n",
              "    \n",
              "\n",
              "    \n",
              "\n",
              "    \n",
              "\n",
              "    \n",
              "\n",
              "\n",
              "    \n",
              "\n",
              "    \n",
              "\n",
              "    \n",
              "\n",
              "    \n",
              "\n",
              "    \n",
              "\n",
              "    \n",
              "\n",
              "\n",
              "    \n",
              "\n",
              "    \n",
              "\n",
              "    \n",
              "\n",
              "    \n",
              "\n",
              "    \n",
              "        <table class=\"eli5-weights eli5-feature-importances\" style=\"border-collapse: collapse; border: none; margin-top: 0em; table-layout: auto;\">\n",
              "    <thead>\n",
              "    <tr style=\"border: none;\">\n",
              "        <th style=\"padding: 0 1em 0 0.5em; text-align: right; border: none;\">Weight</th>\n",
              "        <th style=\"padding: 0 0.5em 0 0.5em; text-align: left; border: none;\">Feature</th>\n",
              "    </tr>\n",
              "    </thead>\n",
              "    <tbody>\n",
              "    \n",
              "        <tr style=\"background-color: hsl(120, 100.00%, 80.00%); border: none;\">\n",
              "            <td style=\"padding: 0 1em 0 0.5em; text-align: right; border: none;\">\n",
              "                0.0591\n",
              "                \n",
              "                    &plusmn; 0.0015\n",
              "                \n",
              "            </td>\n",
              "            <td style=\"padding: 0 0.5em 0 0.5em; text-align: left; border: none;\">\n",
              "                genre_Pop\n",
              "            </td>\n",
              "        </tr>\n",
              "    \n",
              "        <tr style=\"background-color: hsl(120, 100.00%, 82.96%); border: none;\">\n",
              "            <td style=\"padding: 0 1em 0 0.5em; text-align: right; border: none;\">\n",
              "                0.0470\n",
              "                \n",
              "                    &plusmn; 0.0024\n",
              "                \n",
              "            </td>\n",
              "            <td style=\"padding: 0 0.5em 0 0.5em; text-align: left; border: none;\">\n",
              "                loudness\n",
              "            </td>\n",
              "        </tr>\n",
              "    \n",
              "        <tr style=\"background-color: hsl(120, 100.00%, 86.74%); border: none;\">\n",
              "            <td style=\"padding: 0 1em 0 0.5em; text-align: right; border: none;\">\n",
              "                0.0328\n",
              "                \n",
              "                    &plusmn; 0.0028\n",
              "                \n",
              "            </td>\n",
              "            <td style=\"padding: 0 0.5em 0 0.5em; text-align: left; border: none;\">\n",
              "                instrumentalness\n",
              "            </td>\n",
              "        </tr>\n",
              "    \n",
              "        <tr style=\"background-color: hsl(120, 100.00%, 88.29%); border: none;\">\n",
              "            <td style=\"padding: 0 1em 0 0.5em; text-align: right; border: none;\">\n",
              "                0.0275\n",
              "                \n",
              "                    &plusmn; 0.0011\n",
              "                \n",
              "            </td>\n",
              "            <td style=\"padding: 0 0.5em 0 0.5em; text-align: left; border: none;\">\n",
              "                genre_Rock\n",
              "            </td>\n",
              "        </tr>\n",
              "    \n",
              "        <tr style=\"background-color: hsl(120, 100.00%, 92.83%); border: none;\">\n",
              "            <td style=\"padding: 0 1em 0 0.5em; text-align: right; border: none;\">\n",
              "                0.0136\n",
              "                \n",
              "                    &plusmn; 0.0009\n",
              "                \n",
              "            </td>\n",
              "            <td style=\"padding: 0 0.5em 0 0.5em; text-align: left; border: none;\">\n",
              "                genre_Rap\n",
              "            </td>\n",
              "        </tr>\n",
              "    \n",
              "        <tr style=\"background-color: hsl(120, 100.00%, 93.93%); border: none;\">\n",
              "            <td style=\"padding: 0 1em 0 0.5em; text-align: right; border: none;\">\n",
              "                0.0107\n",
              "                \n",
              "                    &plusmn; 0.0015\n",
              "                \n",
              "            </td>\n",
              "            <td style=\"padding: 0 0.5em 0 0.5em; text-align: left; border: none;\">\n",
              "                danceability\n",
              "            </td>\n",
              "        </tr>\n",
              "    \n",
              "        <tr style=\"background-color: hsl(120, 100.00%, 95.09%); border: none;\">\n",
              "            <td style=\"padding: 0 1em 0 0.5em; text-align: right; border: none;\">\n",
              "                0.0080\n",
              "                \n",
              "                    &plusmn; 0.0010\n",
              "                \n",
              "            </td>\n",
              "            <td style=\"padding: 0 0.5em 0 0.5em; text-align: left; border: none;\">\n",
              "                genre_Reggae\n",
              "            </td>\n",
              "        </tr>\n",
              "    \n",
              "        <tr style=\"background-color: hsl(120, 100.00%, 95.10%); border: none;\">\n",
              "            <td style=\"padding: 0 1em 0 0.5em; text-align: right; border: none;\">\n",
              "                0.0079\n",
              "                \n",
              "                    &plusmn; 0.0004\n",
              "                \n",
              "            </td>\n",
              "            <td style=\"padding: 0 0.5em 0 0.5em; text-align: left; border: none;\">\n",
              "                genre_Dance\n",
              "            </td>\n",
              "        </tr>\n",
              "    \n",
              "        <tr style=\"background-color: hsl(120, 100.00%, 95.55%); border: none;\">\n",
              "            <td style=\"padding: 0 1em 0 0.5em; text-align: right; border: none;\">\n",
              "                0.0069\n",
              "                \n",
              "                    &plusmn; 0.0010\n",
              "                \n",
              "            </td>\n",
              "            <td style=\"padding: 0 0.5em 0 0.5em; text-align: left; border: none;\">\n",
              "                genre_Ska\n",
              "            </td>\n",
              "        </tr>\n",
              "    \n",
              "        <tr style=\"background-color: hsl(120, 100.00%, 95.67%); border: none;\">\n",
              "            <td style=\"padding: 0 1em 0 0.5em; text-align: right; border: none;\">\n",
              "                0.0066\n",
              "                \n",
              "                    &plusmn; 0.0004\n",
              "                \n",
              "            </td>\n",
              "            <td style=\"padding: 0 0.5em 0 0.5em; text-align: left; border: none;\">\n",
              "                genre_Hip-Hop\n",
              "            </td>\n",
              "        </tr>\n",
              "    \n",
              "        <tr style=\"background-color: hsl(120, 100.00%, 95.84%); border: none;\">\n",
              "            <td style=\"padding: 0 1em 0 0.5em; text-align: right; border: none;\">\n",
              "                0.0063\n",
              "                \n",
              "                    &plusmn; 0.0012\n",
              "                \n",
              "            </td>\n",
              "            <td style=\"padding: 0 0.5em 0 0.5em; text-align: left; border: none;\">\n",
              "                energy\n",
              "            </td>\n",
              "        </tr>\n",
              "    \n",
              "        <tr style=\"background-color: hsl(120, 100.00%, 96.43%); border: none;\">\n",
              "            <td style=\"padding: 0 1em 0 0.5em; text-align: right; border: none;\">\n",
              "                0.0050\n",
              "                \n",
              "                    &plusmn; 0.0007\n",
              "                \n",
              "            </td>\n",
              "            <td style=\"padding: 0 0.5em 0 0.5em; text-align: left; border: none;\">\n",
              "                liveness\n",
              "            </td>\n",
              "        </tr>\n",
              "    \n",
              "        <tr style=\"background-color: hsl(120, 100.00%, 96.71%); border: none;\">\n",
              "            <td style=\"padding: 0 1em 0 0.5em; text-align: right; border: none;\">\n",
              "                0.0045\n",
              "                \n",
              "                    &plusmn; 0.0009\n",
              "                \n",
              "            </td>\n",
              "            <td style=\"padding: 0 0.5em 0 0.5em; text-align: left; border: none;\">\n",
              "                genre_Electronic\n",
              "            </td>\n",
              "        </tr>\n",
              "    \n",
              "        <tr style=\"background-color: hsl(120, 100.00%, 96.77%); border: none;\">\n",
              "            <td style=\"padding: 0 1em 0 0.5em; text-align: right; border: none;\">\n",
              "                0.0044\n",
              "                \n",
              "                    &plusmn; 0.0006\n",
              "                \n",
              "            </td>\n",
              "            <td style=\"padding: 0 0.5em 0 0.5em; text-align: left; border: none;\">\n",
              "                genre_Blues\n",
              "            </td>\n",
              "        </tr>\n",
              "    \n",
              "        <tr style=\"background-color: hsl(120, 100.00%, 96.80%); border: none;\">\n",
              "            <td style=\"padding: 0 1em 0 0.5em; text-align: right; border: none;\">\n",
              "                0.0043\n",
              "                \n",
              "                    &plusmn; 0.0007\n",
              "                \n",
              "            </td>\n",
              "            <td style=\"padding: 0 0.5em 0 0.5em; text-align: left; border: none;\">\n",
              "                genre_World\n",
              "            </td>\n",
              "        </tr>\n",
              "    \n",
              "        <tr style=\"background-color: hsl(120, 100.00%, 96.96%); border: none;\">\n",
              "            <td style=\"padding: 0 1em 0 0.5em; text-align: right; border: none;\">\n",
              "                0.0040\n",
              "                \n",
              "                    &plusmn; 0.0005\n",
              "                \n",
              "            </td>\n",
              "            <td style=\"padding: 0 0.5em 0 0.5em; text-align: left; border: none;\">\n",
              "                genre_Indie\n",
              "            </td>\n",
              "        </tr>\n",
              "    \n",
              "        <tr style=\"background-color: hsl(120, 100.00%, 97.06%); border: none;\">\n",
              "            <td style=\"padding: 0 1em 0 0.5em; text-align: right; border: none;\">\n",
              "                0.0038\n",
              "                \n",
              "                    &plusmn; 0.0006\n",
              "                \n",
              "            </td>\n",
              "            <td style=\"padding: 0 0.5em 0 0.5em; text-align: left; border: none;\">\n",
              "                genre_Reggaeton\n",
              "            </td>\n",
              "        </tr>\n",
              "    \n",
              "        <tr style=\"background-color: hsl(120, 100.00%, 97.69%); border: none;\">\n",
              "            <td style=\"padding: 0 1em 0 0.5em; text-align: right; border: none;\">\n",
              "                0.0027\n",
              "                \n",
              "                    &plusmn; 0.0006\n",
              "                \n",
              "            </td>\n",
              "            <td style=\"padding: 0 0.5em 0 0.5em; text-align: left; border: none;\">\n",
              "                genre_Jazz\n",
              "            </td>\n",
              "        </tr>\n",
              "    \n",
              "        <tr style=\"background-color: hsl(120, 100.00%, 98.05%); border: none;\">\n",
              "            <td style=\"padding: 0 1em 0 0.5em; text-align: right; border: none;\">\n",
              "                0.0021\n",
              "                \n",
              "                    &plusmn; 0.0006\n",
              "                \n",
              "            </td>\n",
              "            <td style=\"padding: 0 0.5em 0 0.5em; text-align: left; border: none;\">\n",
              "                valence\n",
              "            </td>\n",
              "        </tr>\n",
              "    \n",
              "        <tr style=\"background-color: hsl(120, 100.00%, 99.26%); border: none;\">\n",
              "            <td style=\"padding: 0 1em 0 0.5em; text-align: right; border: none;\">\n",
              "                0.0005\n",
              "                \n",
              "                    &plusmn; 0.0004\n",
              "                \n",
              "            </td>\n",
              "            <td style=\"padding: 0 0.5em 0 0.5em; text-align: left; border: none;\">\n",
              "                genre_Soul\n",
              "            </td>\n",
              "        </tr>\n",
              "    \n",
              "        <tr style=\"background-color: hsl(120, 100.00%, 99.30%); border: none;\">\n",
              "            <td style=\"padding: 0 1em 0 0.5em; text-align: right; border: none;\">\n",
              "                0.0005\n",
              "                \n",
              "                    &plusmn; 0.0004\n",
              "                \n",
              "            </td>\n",
              "            <td style=\"padding: 0 0.5em 0 0.5em; text-align: left; border: none;\">\n",
              "                genre_Soundtrack\n",
              "            </td>\n",
              "        </tr>\n",
              "    \n",
              "        <tr style=\"background-color: hsl(120, 100.00%, 99.44%); border: none;\">\n",
              "            <td style=\"padding: 0 1em 0 0.5em; text-align: right; border: none;\">\n",
              "                0.0004\n",
              "                \n",
              "                    &plusmn; 0.0004\n",
              "                \n",
              "            </td>\n",
              "            <td style=\"padding: 0 0.5em 0 0.5em; text-align: left; border: none;\">\n",
              "                genre_Country\n",
              "            </td>\n",
              "        </tr>\n",
              "    \n",
              "        <tr style=\"background-color: hsl(120, 100.00%, 99.46%); border: none;\">\n",
              "            <td style=\"padding: 0 1em 0 0.5em; text-align: right; border: none;\">\n",
              "                0.0003\n",
              "                \n",
              "                    &plusmn; 0.0001\n",
              "                \n",
              "            </td>\n",
              "            <td style=\"padding: 0 0.5em 0 0.5em; text-align: left; border: none;\">\n",
              "                genre_R&amp;B\n",
              "            </td>\n",
              "        </tr>\n",
              "    \n",
              "        <tr style=\"background-color: hsl(120, 100.00%, 99.59%); border: none;\">\n",
              "            <td style=\"padding: 0 1em 0 0.5em; text-align: right; border: none;\">\n",
              "                0.0002\n",
              "                \n",
              "                    &plusmn; 0.0001\n",
              "                \n",
              "            </td>\n",
              "            <td style=\"padding: 0 0.5em 0 0.5em; text-align: left; border: none;\">\n",
              "                time_signature_3/4\n",
              "            </td>\n",
              "        </tr>\n",
              "    \n",
              "        <tr style=\"background-color: hsl(120, 100.00%, 99.61%); border: none;\">\n",
              "            <td style=\"padding: 0 1em 0 0.5em; text-align: right; border: none;\">\n",
              "                0.0002\n",
              "                \n",
              "                    &plusmn; 0.0001\n",
              "                \n",
              "            </td>\n",
              "            <td style=\"padding: 0 0.5em 0 0.5em; text-align: left; border: none;\">\n",
              "                tempo\n",
              "            </td>\n",
              "        </tr>\n",
              "    \n",
              "        <tr style=\"background-color: hsl(120, 100.00%, 99.67%); border: none;\">\n",
              "            <td style=\"padding: 0 1em 0 0.5em; text-align: right; border: none;\">\n",
              "                0.0002\n",
              "                \n",
              "                    &plusmn; 0.0001\n",
              "                \n",
              "            </td>\n",
              "            <td style=\"padding: 0 0.5em 0 0.5em; text-align: left; border: none;\">\n",
              "                time_signature_4/4\n",
              "            </td>\n",
              "        </tr>\n",
              "    \n",
              "        <tr style=\"background-color: hsl(120, 100.00%, 99.84%); border: none;\">\n",
              "            <td style=\"padding: 0 1em 0 0.5em; text-align: right; border: none;\">\n",
              "                0.0001\n",
              "                \n",
              "                    &plusmn; 0.0001\n",
              "                \n",
              "            </td>\n",
              "            <td style=\"padding: 0 0.5em 0 0.5em; text-align: left; border: none;\">\n",
              "                key_A\n",
              "            </td>\n",
              "        </tr>\n",
              "    \n",
              "        <tr style=\"background-color: hsl(120, 100.00%, 99.87%); border: none;\">\n",
              "            <td style=\"padding: 0 1em 0 0.5em; text-align: right; border: none;\">\n",
              "                0.0000\n",
              "                \n",
              "                    &plusmn; 0.0001\n",
              "                \n",
              "            </td>\n",
              "            <td style=\"padding: 0 0.5em 0 0.5em; text-align: left; border: none;\">\n",
              "                key_F#\n",
              "            </td>\n",
              "        </tr>\n",
              "    \n",
              "        <tr style=\"background-color: hsl(120, 100.00%, 99.89%); border: none;\">\n",
              "            <td style=\"padding: 0 1em 0 0.5em; text-align: right; border: none;\">\n",
              "                0.0000\n",
              "                \n",
              "                    &plusmn; 0.0000\n",
              "                \n",
              "            </td>\n",
              "            <td style=\"padding: 0 0.5em 0 0.5em; text-align: left; border: none;\">\n",
              "                mode_Minor\n",
              "            </td>\n",
              "        </tr>\n",
              "    \n",
              "        <tr style=\"background-color: hsl(120, 100.00%, 99.90%); border: none;\">\n",
              "            <td style=\"padding: 0 1em 0 0.5em; text-align: right; border: none;\">\n",
              "                0.0000\n",
              "                \n",
              "                    &plusmn; 0.0000\n",
              "                \n",
              "            </td>\n",
              "            <td style=\"padding: 0 0.5em 0 0.5em; text-align: left; border: none;\">\n",
              "                mode_Major\n",
              "            </td>\n",
              "        </tr>\n",
              "    \n",
              "        <tr style=\"background-color: hsl(120, 100.00%, 99.91%); border: none;\">\n",
              "            <td style=\"padding: 0 1em 0 0.5em; text-align: right; border: none;\">\n",
              "                0.0000\n",
              "                \n",
              "                    &plusmn; 0.0000\n",
              "                \n",
              "            </td>\n",
              "            <td style=\"padding: 0 0.5em 0 0.5em; text-align: left; border: none;\">\n",
              "                key_D#\n",
              "            </td>\n",
              "        </tr>\n",
              "    \n",
              "        <tr style=\"background-color: hsl(120, 100.00%, 99.94%); border: none;\">\n",
              "            <td style=\"padding: 0 1em 0 0.5em; text-align: right; border: none;\">\n",
              "                0.0000\n",
              "                \n",
              "                    &plusmn; 0.0001\n",
              "                \n",
              "            </td>\n",
              "            <td style=\"padding: 0 0.5em 0 0.5em; text-align: left; border: none;\">\n",
              "                key_B\n",
              "            </td>\n",
              "        </tr>\n",
              "    \n",
              "        <tr style=\"background-color: hsl(120, 100.00%, 99.95%); border: none;\">\n",
              "            <td style=\"padding: 0 1em 0 0.5em; text-align: right; border: none;\">\n",
              "                0.0000\n",
              "                \n",
              "                    &plusmn; 0.0001\n",
              "                \n",
              "            </td>\n",
              "            <td style=\"padding: 0 0.5em 0 0.5em; text-align: left; border: none;\">\n",
              "                key_G\n",
              "            </td>\n",
              "        </tr>\n",
              "    \n",
              "        <tr style=\"background-color: hsl(120, 100.00%, 99.96%); border: none;\">\n",
              "            <td style=\"padding: 0 1em 0 0.5em; text-align: right; border: none;\">\n",
              "                0.0000\n",
              "                \n",
              "                    &plusmn; 0.0001\n",
              "                \n",
              "            </td>\n",
              "            <td style=\"padding: 0 0.5em 0 0.5em; text-align: left; border: none;\">\n",
              "                key_F\n",
              "            </td>\n",
              "        </tr>\n",
              "    \n",
              "        <tr style=\"background-color: hsl(120, 100.00%, 99.97%); border: none;\">\n",
              "            <td style=\"padding: 0 1em 0 0.5em; text-align: right; border: none;\">\n",
              "                0.0000\n",
              "                \n",
              "                    &plusmn; 0.0000\n",
              "                \n",
              "            </td>\n",
              "            <td style=\"padding: 0 0.5em 0 0.5em; text-align: left; border: none;\">\n",
              "                time_signature_1/4\n",
              "            </td>\n",
              "        </tr>\n",
              "    \n",
              "        <tr style=\"background-color: hsl(120, 100.00%, 99.98%); border: none;\">\n",
              "            <td style=\"padding: 0 1em 0 0.5em; text-align: right; border: none;\">\n",
              "                0.0000\n",
              "                \n",
              "                    &plusmn; 0.0000\n",
              "                \n",
              "            </td>\n",
              "            <td style=\"padding: 0 0.5em 0 0.5em; text-align: left; border: none;\">\n",
              "                key_E\n",
              "            </td>\n",
              "        </tr>\n",
              "    \n",
              "        <tr style=\"background-color: hsl(120, 100.00%, 99.99%); border: none;\">\n",
              "            <td style=\"padding: 0 1em 0 0.5em; text-align: right; border: none;\">\n",
              "                0.0000\n",
              "                \n",
              "                    &plusmn; 0.0000\n",
              "                \n",
              "            </td>\n",
              "            <td style=\"padding: 0 0.5em 0 0.5em; text-align: left; border: none;\">\n",
              "                key_D\n",
              "            </td>\n",
              "        </tr>\n",
              "    \n",
              "        <tr style=\"background-color: hsl(0, 100.00%, 100.00%); border: none;\">\n",
              "            <td style=\"padding: 0 1em 0 0.5em; text-align: right; border: none;\">\n",
              "                0\n",
              "                \n",
              "                    &plusmn; 0.0000\n",
              "                \n",
              "            </td>\n",
              "            <td style=\"padding: 0 0.5em 0 0.5em; text-align: left; border: none;\">\n",
              "                time_signature_0/4\n",
              "            </td>\n",
              "        </tr>\n",
              "    \n",
              "        <tr style=\"background-color: hsl(0, 100.00%, 99.98%); border: none;\">\n",
              "            <td style=\"padding: 0 1em 0 0.5em; text-align: right; border: none;\">\n",
              "                -0.0000\n",
              "                \n",
              "                    &plusmn; 0.0001\n",
              "                \n",
              "            </td>\n",
              "            <td style=\"padding: 0 0.5em 0 0.5em; text-align: left; border: none;\">\n",
              "                key_C\n",
              "            </td>\n",
              "        </tr>\n",
              "    \n",
              "        <tr style=\"background-color: hsl(0, 100.00%, 99.97%); border: none;\">\n",
              "            <td style=\"padding: 0 1em 0 0.5em; text-align: right; border: none;\">\n",
              "                -0.0000\n",
              "                \n",
              "                    &plusmn; 0.0000\n",
              "                \n",
              "            </td>\n",
              "            <td style=\"padding: 0 0.5em 0 0.5em; text-align: left; border: none;\">\n",
              "                key_A#\n",
              "            </td>\n",
              "        </tr>\n",
              "    \n",
              "        <tr style=\"background-color: hsl(0, 100.00%, 99.94%); border: none;\">\n",
              "            <td style=\"padding: 0 1em 0 0.5em; text-align: right; border: none;\">\n",
              "                -0.0000\n",
              "                \n",
              "                    &plusmn; 0.0000\n",
              "                \n",
              "            </td>\n",
              "            <td style=\"padding: 0 0.5em 0 0.5em; text-align: left; border: none;\">\n",
              "                acousticness\n",
              "            </td>\n",
              "        </tr>\n",
              "    \n",
              "        <tr style=\"background-color: hsl(0, 100.00%, 99.88%); border: none;\">\n",
              "            <td style=\"padding: 0 1em 0 0.5em; text-align: right; border: none;\">\n",
              "                -0.0000\n",
              "                \n",
              "                    &plusmn; 0.0000\n",
              "                \n",
              "            </td>\n",
              "            <td style=\"padding: 0 0.5em 0 0.5em; text-align: left; border: none;\">\n",
              "                time_signature_5/4\n",
              "            </td>\n",
              "        </tr>\n",
              "    \n",
              "        <tr style=\"background-color: hsl(0, 100.00%, 99.86%); border: none;\">\n",
              "            <td style=\"padding: 0 1em 0 0.5em; text-align: right; border: none;\">\n",
              "                -0.0001\n",
              "                \n",
              "                    &plusmn; 0.0001\n",
              "                \n",
              "            </td>\n",
              "            <td style=\"padding: 0 0.5em 0 0.5em; text-align: left; border: none;\">\n",
              "                key_G#\n",
              "            </td>\n",
              "        </tr>\n",
              "    \n",
              "        <tr style=\"background-color: hsl(0, 100.00%, 99.86%); border: none;\">\n",
              "            <td style=\"padding: 0 1em 0 0.5em; text-align: right; border: none;\">\n",
              "                -0.0001\n",
              "                \n",
              "                    &plusmn; 0.0000\n",
              "                \n",
              "            </td>\n",
              "            <td style=\"padding: 0 0.5em 0 0.5em; text-align: left; border: none;\">\n",
              "                genre_Folk\n",
              "            </td>\n",
              "        </tr>\n",
              "    \n",
              "        <tr style=\"background-color: hsl(0, 100.00%, 99.85%); border: none;\">\n",
              "            <td style=\"padding: 0 1em 0 0.5em; text-align: right; border: none;\">\n",
              "                -0.0001\n",
              "                \n",
              "                    &plusmn; 0.0001\n",
              "                \n",
              "            </td>\n",
              "            <td style=\"padding: 0 0.5em 0 0.5em; text-align: left; border: none;\">\n",
              "                key_C#\n",
              "            </td>\n",
              "        </tr>\n",
              "    \n",
              "        <tr style=\"background-color: hsl(0, 100.00%, 99.77%); border: none;\">\n",
              "            <td style=\"padding: 0 1em 0 0.5em; text-align: right; border: none;\">\n",
              "                -0.0001\n",
              "                \n",
              "                    &plusmn; 0.0003\n",
              "                \n",
              "            </td>\n",
              "            <td style=\"padding: 0 0.5em 0 0.5em; text-align: left; border: none;\">\n",
              "                duration_m\n",
              "            </td>\n",
              "        </tr>\n",
              "    \n",
              "        <tr style=\"background-color: hsl(0, 100.00%, 99.62%); border: none;\">\n",
              "            <td style=\"padding: 0 1em 0 0.5em; text-align: right; border: none;\">\n",
              "                -0.0002\n",
              "                \n",
              "                    &plusmn; 0.0002\n",
              "                \n",
              "            </td>\n",
              "            <td style=\"padding: 0 0.5em 0 0.5em; text-align: left; border: none;\">\n",
              "                genre_Alternative\n",
              "            </td>\n",
              "        </tr>\n",
              "    \n",
              "        <tr style=\"background-color: hsl(0, 100.00%, 98.50%); border: none;\">\n",
              "            <td style=\"padding: 0 1em 0 0.5em; text-align: right; border: none;\">\n",
              "                -0.0015\n",
              "                \n",
              "                    &plusmn; 0.0003\n",
              "                \n",
              "            </td>\n",
              "            <td style=\"padding: 0 0.5em 0 0.5em; text-align: left; border: none;\">\n",
              "                speechiness\n",
              "            </td>\n",
              "        </tr>\n",
              "    \n",
              "    \n",
              "    </tbody>\n",
              "</table>\n",
              "    \n",
              "\n",
              "    \n",
              "\n",
              "\n",
              "    \n",
              "\n",
              "    \n",
              "\n",
              "    \n",
              "\n",
              "    \n",
              "\n",
              "    \n",
              "\n",
              "    \n",
              "\n",
              "\n",
              "\n"
            ],
            "text/plain": [
              "<IPython.core.display.HTML object>"
            ]
          },
          "execution_count": 103,
          "metadata": {},
          "output_type": "execute_result"
        }
      ],
      "source": [
        "# 특성별 score을 확인\n",
        "eli5.show_weights(\n",
        "    permuter,\n",
        "    top=None,\n",
        "    feature_names=feature_names,\n",
        ")"
      ]
    },
    {
      "cell_type": "markdown",
      "metadata": {
        "id": "LqqQVXKZrgBc"
      },
      "source": [
        "---"
      ]
    },
    {
      "cell_type": "markdown",
      "metadata": {
        "id": "cjHm8FzDrgBc"
      },
      "source": [
        "#### Permutation Importance - XGB"
      ]
    },
    {
      "cell_type": "code",
      "execution_count": null,
      "metadata": {
        "id": "JvMVg60JrgBc",
        "outputId": "8e1f9fa6-889e-479d-ff52-1bdbc17ec4d4"
      },
      "outputs": [
        {
          "data": {
            "text/plain": [
              "PermutationImportance(estimator=XGBClassifier(base_score=0.5, booster='gbtree',\n",
              "                                              colsample_bylevel=1,\n",
              "                                              colsample_bynode=1,\n",
              "                                              colsample_bytree=0.7000000000000001,\n",
              "                                              enable_categorical=False,\n",
              "                                              eval_metric='error', gamma=0,\n",
              "                                              gpu_id=-1, importance_type=None,\n",
              "                                              interaction_constraints='',\n",
              "                                              learning_rate=0.04,\n",
              "                                              max_delta_step=0, max_depth=7,\n",
              "                                              min_child_weight=11, missing=nan,\n",
              "                                              monotone_constraints='()',\n",
              "                                              n_estimators=2500, n_jobs=-1,\n",
              "                                              num_parallel_tree=1,\n",
              "                                              predictor='auto', random_state=42,\n",
              "                                              reg_alpha=0, reg_lambda=6,\n",
              "                                              scale_pos_weight=2.704585271920224,\n",
              "                                              subsample=1, tree_method='exact',\n",
              "                                              validate_parameters=1,\n",
              "                                              verbosity=None),\n",
              "                      n_iter=30, random_state=42, scoring='roc_auc')"
            ]
          },
          "execution_count": 109,
          "metadata": {},
          "output_type": "execute_result"
        }
      ],
      "source": [
        "# permuter 정의\n",
        "xgb_permuter = PermutationImportance(\n",
        "    xgb_pipe.named_steps[\"xgbclassifier\"],  # model\n",
        "    scoring=\"roc_auc\",  # metric\n",
        "    n_iter=30,  # 다른 random seed를 사용하여 10번 반복\n",
        "    random_state=42,\n",
        ")\n",
        "\n",
        "# 스코어를 다시 계산합니다.\n",
        "xgb_X_test_preprocessed = xgb_pipe[0].transform(X_test)\n",
        "xgb_permuter.fit(xgb_X_test_preprocessed, y_test)"
      ]
    },
    {
      "cell_type": "code",
      "execution_count": null,
      "metadata": {
        "id": "ShCX8WOergBc",
        "outputId": "ba33cc9b-967d-475f-d910-984427159335"
      },
      "outputs": [
        {
          "data": {
            "text/plain": [
              "Text(0.5, 1.0, 'Permutation Importance')"
            ]
          },
          "execution_count": 114,
          "metadata": {},
          "output_type": "execute_result"
        },
        {
          "data": {
            "image/png": "[encoded data removed]",
            "text/plain": [
              "<Figure size 720x576 with 1 Axes>"
            ]
          },
          "metadata": {},
          "output_type": "display_data"
        }
      ],
      "source": [
        "xgb_feature_names = X_test.columns.tolist()\n",
        "xgb_pi = pd.Series(xgb_permuter.feature_importances_, xgb_feature_names).sort_values()\n",
        "\n",
        "plt.figure(figsize=(10,8))\n",
        "xgb_pi.plot.barh()\n",
        "plt.title(\"Permutation Importance\")"
      ]
    },
    {
      "cell_type": "code",
      "execution_count": null,
      "metadata": {
        "id": "oB5tOlWcrgBd",
        "outputId": "043a9d42-0e30-46c6-8806-531afa709f72"
      },
      "outputs": [
        {
          "data": {
            "text/html": [
              "\n",
              "    <style>\n",
              "    table.eli5-weights tr:hover {\n",
              "        filter: brightness(85%);\n",
              "    }\n",
              "</style>\n",
              "\n",
              "\n",
              "\n",
              "    \n",
              "\n",
              "    \n",
              "\n",
              "    \n",
              "\n",
              "    \n",
              "\n",
              "    \n",
              "\n",
              "    \n",
              "\n",
              "\n",
              "    \n",
              "\n",
              "    \n",
              "\n",
              "    \n",
              "\n",
              "    \n",
              "\n",
              "    \n",
              "\n",
              "    \n",
              "\n",
              "\n",
              "    \n",
              "\n",
              "    \n",
              "\n",
              "    \n",
              "\n",
              "    \n",
              "\n",
              "    \n",
              "        <table class=\"eli5-weights eli5-feature-importances\" style=\"border-collapse: collapse; border: none; margin-top: 0em; table-layout: auto;\">\n",
              "    <thead>\n",
              "    <tr style=\"border: none;\">\n",
              "        <th style=\"padding: 0 1em 0 0.5em; text-align: right; border: none;\">Weight</th>\n",
              "        <th style=\"padding: 0 0.5em 0 0.5em; text-align: left; border: none;\">Feature</th>\n",
              "    </tr>\n",
              "    </thead>\n",
              "    <tbody>\n",
              "    \n",
              "        <tr style=\"background-color: hsl(120, 100.00%, 80.00%); border: none;\">\n",
              "            <td style=\"padding: 0 1em 0 0.5em; text-align: right; border: none;\">\n",
              "                0.1903\n",
              "                \n",
              "                    &plusmn; 0.0053\n",
              "                \n",
              "            </td>\n",
              "            <td style=\"padding: 0 0.5em 0 0.5em; text-align: left; border: none;\">\n",
              "                genre\n",
              "            </td>\n",
              "        </tr>\n",
              "    \n",
              "        <tr style=\"background-color: hsl(120, 100.00%, 94.30%); border: none;\">\n",
              "            <td style=\"padding: 0 1em 0 0.5em; text-align: right; border: none;\">\n",
              "                0.0317\n",
              "                \n",
              "                    &plusmn; 0.0021\n",
              "                \n",
              "            </td>\n",
              "            <td style=\"padding: 0 0.5em 0 0.5em; text-align: left; border: none;\">\n",
              "                loudness\n",
              "            </td>\n",
              "        </tr>\n",
              "    \n",
              "        <tr style=\"background-color: hsl(120, 100.00%, 95.16%); border: none;\">\n",
              "            <td style=\"padding: 0 1em 0 0.5em; text-align: right; border: none;\">\n",
              "                0.0251\n",
              "                \n",
              "                    &plusmn; 0.0016\n",
              "                \n",
              "            </td>\n",
              "            <td style=\"padding: 0 0.5em 0 0.5em; text-align: left; border: none;\">\n",
              "                speechiness\n",
              "            </td>\n",
              "        </tr>\n",
              "    \n",
              "        <tr style=\"background-color: hsl(120, 100.00%, 95.17%); border: none;\">\n",
              "            <td style=\"padding: 0 1em 0 0.5em; text-align: right; border: none;\">\n",
              "                0.0250\n",
              "                \n",
              "                    &plusmn; 0.0015\n",
              "                \n",
              "            </td>\n",
              "            <td style=\"padding: 0 0.5em 0 0.5em; text-align: left; border: none;\">\n",
              "                instrumentalness\n",
              "            </td>\n",
              "        </tr>\n",
              "    \n",
              "        <tr style=\"background-color: hsl(120, 100.00%, 95.60%); border: none;\">\n",
              "            <td style=\"padding: 0 1em 0 0.5em; text-align: right; border: none;\">\n",
              "                0.0219\n",
              "                \n",
              "                    &plusmn; 0.0010\n",
              "                \n",
              "            </td>\n",
              "            <td style=\"padding: 0 0.5em 0 0.5em; text-align: left; border: none;\">\n",
              "                duration_m\n",
              "            </td>\n",
              "        </tr>\n",
              "    \n",
              "        <tr style=\"background-color: hsl(120, 100.00%, 95.64%); border: none;\">\n",
              "            <td style=\"padding: 0 1em 0 0.5em; text-align: right; border: none;\">\n",
              "                0.0216\n",
              "                \n",
              "                    &plusmn; 0.0012\n",
              "                \n",
              "            </td>\n",
              "            <td style=\"padding: 0 0.5em 0 0.5em; text-align: left; border: none;\">\n",
              "                danceability\n",
              "            </td>\n",
              "        </tr>\n",
              "    \n",
              "        <tr style=\"background-color: hsl(120, 100.00%, 95.81%); border: none;\">\n",
              "            <td style=\"padding: 0 1em 0 0.5em; text-align: right; border: none;\">\n",
              "                0.0204\n",
              "                \n",
              "                    &plusmn; 0.0012\n",
              "                \n",
              "            </td>\n",
              "            <td style=\"padding: 0 0.5em 0 0.5em; text-align: left; border: none;\">\n",
              "                tempo\n",
              "            </td>\n",
              "        </tr>\n",
              "    \n",
              "        <tr style=\"background-color: hsl(120, 100.00%, 95.86%); border: none;\">\n",
              "            <td style=\"padding: 0 1em 0 0.5em; text-align: right; border: none;\">\n",
              "                0.0201\n",
              "                \n",
              "                    &plusmn; 0.0017\n",
              "                \n",
              "            </td>\n",
              "            <td style=\"padding: 0 0.5em 0 0.5em; text-align: left; border: none;\">\n",
              "                acousticness\n",
              "            </td>\n",
              "        </tr>\n",
              "    \n",
              "        <tr style=\"background-color: hsl(120, 100.00%, 96.01%); border: none;\">\n",
              "            <td style=\"padding: 0 1em 0 0.5em; text-align: right; border: none;\">\n",
              "                0.0190\n",
              "                \n",
              "                    &plusmn; 0.0010\n",
              "                \n",
              "            </td>\n",
              "            <td style=\"padding: 0 0.5em 0 0.5em; text-align: left; border: none;\">\n",
              "                liveness\n",
              "            </td>\n",
              "        </tr>\n",
              "    \n",
              "        <tr style=\"background-color: hsl(120, 100.00%, 96.97%); border: none;\">\n",
              "            <td style=\"padding: 0 1em 0 0.5em; text-align: right; border: none;\">\n",
              "                0.0129\n",
              "                \n",
              "                    &plusmn; 0.0012\n",
              "                \n",
              "            </td>\n",
              "            <td style=\"padding: 0 0.5em 0 0.5em; text-align: left; border: none;\">\n",
              "                valence\n",
              "            </td>\n",
              "        </tr>\n",
              "    \n",
              "        <tr style=\"background-color: hsl(120, 100.00%, 97.37%); border: none;\">\n",
              "            <td style=\"padding: 0 1em 0 0.5em; text-align: right; border: none;\">\n",
              "                0.0105\n",
              "                \n",
              "                    &plusmn; 0.0014\n",
              "                \n",
              "            </td>\n",
              "            <td style=\"padding: 0 0.5em 0 0.5em; text-align: left; border: none;\">\n",
              "                energy\n",
              "            </td>\n",
              "        </tr>\n",
              "    \n",
              "        <tr style=\"background-color: hsl(120, 100.00%, 98.47%); border: none;\">\n",
              "            <td style=\"padding: 0 1em 0 0.5em; text-align: right; border: none;\">\n",
              "                0.0048\n",
              "                \n",
              "                    &plusmn; 0.0005\n",
              "                \n",
              "            </td>\n",
              "            <td style=\"padding: 0 0.5em 0 0.5em; text-align: left; border: none;\">\n",
              "                key\n",
              "            </td>\n",
              "        </tr>\n",
              "    \n",
              "        <tr style=\"background-color: hsl(120, 100.00%, 99.47%); border: none;\">\n",
              "            <td style=\"padding: 0 1em 0 0.5em; text-align: right; border: none;\">\n",
              "                0.0011\n",
              "                \n",
              "                    &plusmn; 0.0002\n",
              "                \n",
              "            </td>\n",
              "            <td style=\"padding: 0 0.5em 0 0.5em; text-align: left; border: none;\">\n",
              "                mode\n",
              "            </td>\n",
              "        </tr>\n",
              "    \n",
              "        <tr style=\"background-color: hsl(120, 100.00%, 99.56%); border: none;\">\n",
              "            <td style=\"padding: 0 1em 0 0.5em; text-align: right; border: none;\">\n",
              "                0.0008\n",
              "                \n",
              "                    &plusmn; 0.0003\n",
              "                \n",
              "            </td>\n",
              "            <td style=\"padding: 0 0.5em 0 0.5em; text-align: left; border: none;\">\n",
              "                time_signature\n",
              "            </td>\n",
              "        </tr>\n",
              "    \n",
              "    \n",
              "    </tbody>\n",
              "</table>\n",
              "    \n",
              "\n",
              "    \n",
              "\n",
              "\n",
              "    \n",
              "\n",
              "    \n",
              "\n",
              "    \n",
              "\n",
              "    \n",
              "\n",
              "    \n",
              "\n",
              "    \n",
              "\n",
              "\n",
              "\n"
            ],
            "text/plain": [
              "<IPython.core.display.HTML object>"
            ]
          },
          "execution_count": 115,
          "metadata": {},
          "output_type": "execute_result"
        }
      ],
      "source": [
        "eli5.show_weights(\n",
        "    xgb_permuter,\n",
        "    top=None,\n",
        "    feature_names=xgb_feature_names,\n",
        ")"
      ]
    },
    {
      "cell_type": "markdown",
      "metadata": {
        "id": "Jmfo2gPGUX-h",
        "tags": []
      },
      "source": [
        "> - 가설 3. 인기도에 가장 영향을 많이 주는 특성은 energy일 것이다. == False  \n",
        "    - 영향을 가장 많이 주는 특성은 Genre다."
      ]
    },
    {
      "cell_type": "markdown",
      "metadata": {
        "id": "XHbjOMJ-rgBd"
      },
      "source": [
        "---"
      ]
    },
    {
      "cell_type": "markdown",
      "metadata": {
        "id": "Wajg_Ex9rgBd"
      },
      "source": [
        "#### PDP Plot"
      ]
    },
    {
      "cell_type": "code",
      "execution_count": null,
      "metadata": {
        "id": "gAebtQo_rgBd"
      },
      "outputs": [],
      "source": [
        "target_feature_1 = \"\"\n",
        "\n",
        "isolated_1 = pdp_isolate(\n",
        "    model=,\n",
        "    dataset=X_test,\n",
        "    model_features=X_test.columns,\n",
        "    feature=target_feature_1,\n",
        "    grid_type=\"percentile\",  # default = 'percentile', or 'equal'\n",
        "    num_grid_points=10,  # default = 10\n",
        ")\n",
        "\n",
        "pdp_plot(\n",
        "    isolated_1,\n",
        "    feature_name=\"\",\n",
        "    plot_lines=True,\n",
        "    frac_to_plot=50,\n",
        "    plot_pts_dist=True,\n",
        ")"
      ]
    },
    {
      "cell_type": "markdown",
      "metadata": {
        "id": "y1GU7GturgBd"
      },
      "source": [
        "---"
      ]
    },
    {
      "cell_type": "markdown",
      "metadata": {
        "id": "n6HV3JlXrgBd"
      },
      "source": [
        "#### 문제 정의 4. Genre에 따라 Danceability가 예측에 영향을 주는 정도가 다를까요?"
      ]
    },
    {
      "cell_type": "markdown",
      "metadata": {
        "tags": [],
        "id": "19R2vz-BrgBd"
      },
      "source": [
        "##### 2변수 PDP Plot"
      ]
    },
    {
      "cell_type": "code",
      "execution_count": null,
      "metadata": {
        "id": "w0uETSiArgBd"
      },
      "outputs": [],
      "source": [
        "target_features = [\"\", \"\"]\n",
        "\n",
        "interaction = pdp_interact(\n",
        "    model=,\n",
        "    dataset=X_test,\n",
        "    model_features=X_test.columns,\n",
        "    features=[\"\", \"\"],\n",
        ")"
      ]
    },
    {
      "cell_type": "markdown",
      "metadata": {
        "id": "tBP9EBDErgBd"
      },
      "source": [
        "> 가설 4. Genre에 따라 Danceability가 예측에 영향을 주는 정도가 다를 것이다.  "
      ]
    }
  ],
  "metadata": {
    "colab": {
      "collapsed_sections": [
        "NRinK3ASs6dp",
        "EtlQhC3lzvX7",
        "QiG7PfrkzmaT",
        "jszBrTik_RMu",
        "hOM3MPddYzJY"
      ],
      "provenance": [],
      "include_colab_link": true
    },
    "kernelspec": {
      "display_name": "Python3.6",
      "language": "python",
      "name": "python3.6"
    },
    "language_info": {
      "codemirror_mode": {
        "name": "ipython",
        "version": 3
      },
      "file_extension": ".py",
      "mimetype": "text/x-python",
      "name": "python",
      "nbconvert_exporter": "python",
      "pygments_lexer": "ipython3",
      "version": "3.6.13"
    }
  },
  "nbformat": 4,
  "nbformat_minor": 0
}