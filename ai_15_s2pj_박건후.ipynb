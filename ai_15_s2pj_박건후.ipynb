{
  "nbformat": 4,
  "nbformat_minor": 0,
  "metadata": {
    "colab": {
      "provenance": [],
      "collapsed_sections": [
        "NRinK3ASs6dp",
        "EtlQhC3lzvX7",
        "QiG7PfrkzmaT",
        "jszBrTik_RMu",
        "4PoDAkhHtGbt",
        "IxstOcX3Y51e",
        "o07582y5Ypt3",
        "vexLdfJcYwy2",
        "uzXfXmDO7aKR",
        "hOM3MPddYzJY"
      ],
      "authorship_tag": "ABX9TyPHh5tOm9m5pm+740zKrP8s",
      "include_colab_link": true
    },
    "kernelspec": {
      "name": "python3",
      "display_name": "Python 3"
    },
    "language_info": {
      "name": "python"
    }
  },
  "cells": [
    {
      "cell_type": "markdown",
      "metadata": {
        "id": "view-in-github",
        "colab_type": "text"
      },
      "source": [
        "<a href=\"https://colab.research.google.com/github/sbzkdl/AIB-Section2-Project/blob/main/ai_15_s2pj_%EB%B0%95%EA%B1%B4%ED%9B%84.ipynb\" target=\"_parent\"><img src=\"https://colab.research.google.com/assets/colab-badge.svg\" alt=\"Open In Colab\"/></a>"
      ]
    },
    {
      "cell_type": "code",
      "execution_count": 1,
      "metadata": {
        "id": "sXdoQ6egrqYg"
      },
      "outputs": [],
      "source": [
        "import pandas as pd\n",
        "import numpy as np\n",
        "import matplotlib.pyplot as plt\n",
        "import seaborn as sns"
      ]
    },
    {
      "cell_type": "code",
      "source": [
        "# 구글 드라이브와 연동\n",
        "import sys\n",
        "\n",
        "if \"google.colab\" in sys.modules:\n",
        "    from google.colab import drive\n",
        "    drive.mount('/content/drive')"
      ],
      "metadata": {
        "colab": {
          "base_uri": "https://localhost:8080/"
        },
        "id": "bZAmwWyV0U0R",
        "outputId": "620a2841-15be-4ce7-9299-cd3c438f8d92"
      },
      "execution_count": 2,
      "outputs": [
        {
          "output_type": "stream",
          "name": "stdout",
          "text": [
            "Drive already mounted at /content/drive; to attempt to forcibly remount, call drive.mount(\"/content/drive\", force_remount=True).\n"
          ]
        }
      ]
    },
    {
      "cell_type": "markdown",
      "source": [
        "### 1. 데이터 선정 이유 및 문제 정의"
      ],
      "metadata": {
        "id": "NRinK3ASs6dp"
      }
    },
    {
      "cell_type": "markdown",
      "source": [
        "#### 1. 문제 정의"
      ],
      "metadata": {
        "id": "EtlQhC3lzvX7"
      }
    },
    {
      "cell_type": "markdown",
      "source": [
        "한국 음악 시장이 글로벌해짐에 따라 의뢰인은 어떤 음악이 세계적으로 성공할 수 있는지 분석을 의뢰하였습니다. 대중적으로 성공적인 음악(인기도가 높은 음악)을 출시하기 위해서는 어떤 특성을 가져야할까요?\n",
        "\n",
        "\n",
        "1. 가장 인기 있는 장르는 어떤 것일까요?\n",
        "2. 재생시간은 어느 정도가 적당할까요? 재생시간이 인기도에 영향을 줄까요?\n",
        "3. 인기도에 가장 영향을 많이 주는 요소는 무엇일까요?\n",
        "\n"
      ],
      "metadata": {
        "id": "olJxtmswVdK4"
      }
    },
    {
      "cell_type": "markdown",
      "source": [
        "#### 2. 데이터 설명"
      ],
      "metadata": {
        "id": "QiG7PfrkzmaT"
      }
    },
    {
      "cell_type": "markdown",
      "source": [
        "※ 데이터셋 특성 설명  \n",
        "https://developer.spotify.com/documentation/web-api/reference/#/operations/get-several-audio-features"
      ],
      "metadata": {
        "id": "yXH72JnJAuuz"
      }
    },
    {
      "cell_type": "markdown",
      "source": [
        "\n",
        "Features\n",
        "- genre : 음악 장르\n",
        "- artist_name : 아티스트 이름\n",
        "- track_name : 트랙 이름\n",
        "- track_id : 트랙에 대한 데이터 출처 사이트(Spotify)의 ID\n",
        "- popularity : 트랙이 인기가 있는지에 대한 0 ~ 100까지의 수치이며, 값이 클수록 인기가 많은 트랙이다.\n",
        "- acousticness : 트랙이 어쿠스틱한지에 대한 0.0 ~ 1.0의 측정 값이며, 값이 클수록 어쿠스틱하다.\n",
        "- danceability : 템포, 리듬 안정성, 박자의 힘, 전체적인 규칙성을 포함한 음악적 요소들의 조합에 기초하여 트랙이 얼마나 춤에 적합한지를 설명. 값이 클수록 춤을 추기에 적합하다.\n",
        "- duration_ms : million seconds 단위의 재생시간\n",
        "- energy : 트랙의 강도와 액티비티함에 대한 0.0 ~ 1.0의 측정 값이며, 값이 클수록 빠르고 시끄럽다.\n",
        "- instrumentalness - 트랙에 보컬이 없는지에 대한 예측 값이며, 값이 클수록 트랙에 보컬이 없을 가능성이 커진다. \n",
        "- key : 트랙의 키; 음의 높낮이.\n",
        "- liveness : 청중의 존재를 탐지한다. 값이 클수록 라이브 확률이 높아집니다. 특히, 0.8보다 클 때 라이브일 가능성이 더 높습니다.\n",
        "- loudness : 트랙의 전체 음량(dB). 음량 값은 전체 트랙에서 평균화되어 트랙의 상대적 음량을 비교하는 데 유용하다. 일반적으로 값은 -60에서 0db 사이다.\n",
        "- mode : 트랙의 형식(Major 또는 Minor)을 나타낸다.\n",
        "- speechiness : 트랙에서 음성 단어의 존재를 감지한다. 녹음(예: 토크쇼, 오디오북, 시)과 같은 음성 전용일수록 속성 값은 1.0에 가깝다. 0.66 이상의 값은 전적으로 음성 단어로 구성된 트랙일 가능성이 높다. 0.33 미만의 값은 음악 및 기타 비음성 트랙을 나타낼 가능성이 높습니다.\n",
        "- tempo : 트랙의 전체 추정 속도(분당 비트 수)입니다. 음악 용어에서 템포(tempo)는 주어진 곡의 속도 또는 속도를 말하며 평균 박자 지속 시간에서 직접 파생된다.\n",
        "- time_signature : 트랙의 박자; 각 막대(또는 측정값)에 얼마나 많은 박자가 있는지 지정하는 표기법.\n",
        "- valence : 트랙에 의해 전달되는 음악적 긍정성을 설명하는 0.0 ~ 1.0의 측정값. 값이 높은 트랙은 더 긍정적으로 들리고(예: 행복, 쾌활, 행복), 낮은 트랙은 더 부정적으로 들린다(예: 슬픔, 우울, 화)."
      ],
      "metadata": {
        "id": "VH8MTZjbz2QG"
      }
    },
    {
      "cell_type": "markdown",
      "source": [
        "#### 3. 가설"
      ],
      "metadata": {
        "id": "jszBrTik_RMu"
      }
    },
    {
      "cell_type": "markdown",
      "source": [
        "\n",
        "\n",
        "가설 1. 가장 인기 있는 장르는 Pop일 것이다.  \n",
        "가설 2. 재생시간은 인기도에 영향을 주지 않을 것이다.  \n",
        "가설 3. 인기도에 가장 영향을 많이 주는 요소는 energy일 것이다.\n",
        "\n"
      ],
      "metadata": {
        "id": "OtFiPCqp_dCo"
      }
    },
    {
      "cell_type": "markdown",
      "source": [
        "### 2. 데이터 전처리, EDA, 시각화"
      ],
      "metadata": {
        "id": "4PoDAkhHtGbt"
      }
    },
    {
      "cell_type": "markdown",
      "source": [
        "#### 데이터 전처리 및 EDA"
      ],
      "metadata": {
        "id": "IxstOcX3Y51e"
      }
    },
    {
      "cell_type": "code",
      "source": [
        "# 드라이브에 있는 데이터 가져오기 및 데이터 형태 확인\n",
        "origin_df = pd.read_csv('/content/drive/MyDrive/데이터/s2pj/Spotify Tracks DB/SpotifyFeatures.csv')\n",
        "df = origin_df.copy()\n",
        "df.head()"
      ],
      "metadata": {
        "colab": {
          "base_uri": "https://localhost:8080/",
          "height": 0
        },
        "id": "v6NQj_9fykKM",
        "outputId": "9be7bbd3-3d58-4ead-b6df-f37d52dad8cc"
      },
      "execution_count": 3,
      "outputs": [
        {
          "output_type": "execute_result",
          "data": {
            "text/plain": [
              "   genre        artist_name                        track_name  \\\n",
              "0  Movie     Henri Salvador       C'est beau de faire un Show   \n",
              "1  Movie  Martin & les fées  Perdu d'avance (par Gad Elmaleh)   \n",
              "2  Movie    Joseph Williams    Don't Let Me Be Lonely Tonight   \n",
              "3  Movie     Henri Salvador    Dis-moi Monsieur Gordon Cooper   \n",
              "4  Movie       Fabien Nataf                         Ouverture   \n",
              "\n",
              "                 track_id  popularity  acousticness  danceability  \\\n",
              "0  0BRjO6ga9RKCKjfDqeFgWV           0         0.611         0.389   \n",
              "1  0BjC1NfoEOOusryehmNudP           1         0.246         0.590   \n",
              "2  0CoSDzoNIKCRs124s9uTVy           3         0.952         0.663   \n",
              "3  0Gc6TVm52BwZD07Ki6tIvf           0         0.703         0.240   \n",
              "4  0IuslXpMROHdEPvSl1fTQK           4         0.950         0.331   \n",
              "\n",
              "   duration_ms  energy  instrumentalness key  liveness  loudness   mode  \\\n",
              "0        99373   0.910             0.000  C#    0.3460    -1.828  Major   \n",
              "1       137373   0.737             0.000  F#    0.1510    -5.559  Minor   \n",
              "2       170267   0.131             0.000   C    0.1030   -13.879  Minor   \n",
              "3       152427   0.326             0.000  C#    0.0985   -12.178  Major   \n",
              "4        82625   0.225             0.123   F    0.2020   -21.150  Major   \n",
              "\n",
              "   speechiness    tempo time_signature  valence  \n",
              "0       0.0525  166.969            4/4    0.814  \n",
              "1       0.0868  174.003            4/4    0.816  \n",
              "2       0.0362   99.488            5/4    0.368  \n",
              "3       0.0395  171.758            4/4    0.227  \n",
              "4       0.0456  140.576            4/4    0.390  "
            ],
            "text/html": [
              "\n",
              "  <div id=\"df-810734d6-9ada-4965-883b-11be669dd5f5\">\n",
              "    <div class=\"colab-df-container\">\n",
              "      <div>\n",
              "<style scoped>\n",
              "    .dataframe tbody tr th:only-of-type {\n",
              "        vertical-align: middle;\n",
              "    }\n",
              "\n",
              "    .dataframe tbody tr th {\n",
              "        vertical-align: top;\n",
              "    }\n",
              "\n",
              "    .dataframe thead th {\n",
              "        text-align: right;\n",
              "    }\n",
              "</style>\n",
              "<table border=\"1\" class=\"dataframe\">\n",
              "  <thead>\n",
              "    <tr style=\"text-align: right;\">\n",
              "      <th></th>\n",
              "      <th>genre</th>\n",
              "      <th>artist_name</th>\n",
              "      <th>track_name</th>\n",
              "      <th>track_id</th>\n",
              "      <th>popularity</th>\n",
              "      <th>acousticness</th>\n",
              "      <th>danceability</th>\n",
              "      <th>duration_ms</th>\n",
              "      <th>energy</th>\n",
              "      <th>instrumentalness</th>\n",
              "      <th>key</th>\n",
              "      <th>liveness</th>\n",
              "      <th>loudness</th>\n",
              "      <th>mode</th>\n",
              "      <th>speechiness</th>\n",
              "      <th>tempo</th>\n",
              "      <th>time_signature</th>\n",
              "      <th>valence</th>\n",
              "    </tr>\n",
              "  </thead>\n",
              "  <tbody>\n",
              "    <tr>\n",
              "      <th>0</th>\n",
              "      <td>Movie</td>\n",
              "      <td>Henri Salvador</td>\n",
              "      <td>C'est beau de faire un Show</td>\n",
              "      <td>0BRjO6ga9RKCKjfDqeFgWV</td>\n",
              "      <td>0</td>\n",
              "      <td>0.611</td>\n",
              "      <td>0.389</td>\n",
              "      <td>99373</td>\n",
              "      <td>0.910</td>\n",
              "      <td>0.000</td>\n",
              "      <td>C#</td>\n",
              "      <td>0.3460</td>\n",
              "      <td>-1.828</td>\n",
              "      <td>Major</td>\n",
              "      <td>0.0525</td>\n",
              "      <td>166.969</td>\n",
              "      <td>4/4</td>\n",
              "      <td>0.814</td>\n",
              "    </tr>\n",
              "    <tr>\n",
              "      <th>1</th>\n",
              "      <td>Movie</td>\n",
              "      <td>Martin &amp; les fées</td>\n",
              "      <td>Perdu d'avance (par Gad Elmaleh)</td>\n",
              "      <td>0BjC1NfoEOOusryehmNudP</td>\n",
              "      <td>1</td>\n",
              "      <td>0.246</td>\n",
              "      <td>0.590</td>\n",
              "      <td>137373</td>\n",
              "      <td>0.737</td>\n",
              "      <td>0.000</td>\n",
              "      <td>F#</td>\n",
              "      <td>0.1510</td>\n",
              "      <td>-5.559</td>\n",
              "      <td>Minor</td>\n",
              "      <td>0.0868</td>\n",
              "      <td>174.003</td>\n",
              "      <td>4/4</td>\n",
              "      <td>0.816</td>\n",
              "    </tr>\n",
              "    <tr>\n",
              "      <th>2</th>\n",
              "      <td>Movie</td>\n",
              "      <td>Joseph Williams</td>\n",
              "      <td>Don't Let Me Be Lonely Tonight</td>\n",
              "      <td>0CoSDzoNIKCRs124s9uTVy</td>\n",
              "      <td>3</td>\n",
              "      <td>0.952</td>\n",
              "      <td>0.663</td>\n",
              "      <td>170267</td>\n",
              "      <td>0.131</td>\n",
              "      <td>0.000</td>\n",
              "      <td>C</td>\n",
              "      <td>0.1030</td>\n",
              "      <td>-13.879</td>\n",
              "      <td>Minor</td>\n",
              "      <td>0.0362</td>\n",
              "      <td>99.488</td>\n",
              "      <td>5/4</td>\n",
              "      <td>0.368</td>\n",
              "    </tr>\n",
              "    <tr>\n",
              "      <th>3</th>\n",
              "      <td>Movie</td>\n",
              "      <td>Henri Salvador</td>\n",
              "      <td>Dis-moi Monsieur Gordon Cooper</td>\n",
              "      <td>0Gc6TVm52BwZD07Ki6tIvf</td>\n",
              "      <td>0</td>\n",
              "      <td>0.703</td>\n",
              "      <td>0.240</td>\n",
              "      <td>152427</td>\n",
              "      <td>0.326</td>\n",
              "      <td>0.000</td>\n",
              "      <td>C#</td>\n",
              "      <td>0.0985</td>\n",
              "      <td>-12.178</td>\n",
              "      <td>Major</td>\n",
              "      <td>0.0395</td>\n",
              "      <td>171.758</td>\n",
              "      <td>4/4</td>\n",
              "      <td>0.227</td>\n",
              "    </tr>\n",
              "    <tr>\n",
              "      <th>4</th>\n",
              "      <td>Movie</td>\n",
              "      <td>Fabien Nataf</td>\n",
              "      <td>Ouverture</td>\n",
              "      <td>0IuslXpMROHdEPvSl1fTQK</td>\n",
              "      <td>4</td>\n",
              "      <td>0.950</td>\n",
              "      <td>0.331</td>\n",
              "      <td>82625</td>\n",
              "      <td>0.225</td>\n",
              "      <td>0.123</td>\n",
              "      <td>F</td>\n",
              "      <td>0.2020</td>\n",
              "      <td>-21.150</td>\n",
              "      <td>Major</td>\n",
              "      <td>0.0456</td>\n",
              "      <td>140.576</td>\n",
              "      <td>4/4</td>\n",
              "      <td>0.390</td>\n",
              "    </tr>\n",
              "  </tbody>\n",
              "</table>\n",
              "</div>\n",
              "      <button class=\"colab-df-convert\" onclick=\"convertToInteractive('df-810734d6-9ada-4965-883b-11be669dd5f5')\"\n",
              "              title=\"Convert this dataframe to an interactive table.\"\n",
              "              style=\"display:none;\">\n",
              "        \n",
              "  <svg xmlns=\"http://www.w3.org/2000/svg\" height=\"24px\"viewBox=\"0 0 24 24\"\n",
              "       width=\"24px\">\n",
              "    <path d=\"M0 0h24v24H0V0z\" fill=\"none\"/>\n",
              "    <path d=\"M18.56 5.44l.94 2.06.94-2.06 2.06-.94-2.06-.94-.94-2.06-.94 2.06-2.06.94zm-11 1L8.5 8.5l.94-2.06 2.06-.94-2.06-.94L8.5 2.5l-.94 2.06-2.06.94zm10 10l.94 2.06.94-2.06 2.06-.94-2.06-.94-.94-2.06-.94 2.06-2.06.94z\"/><path d=\"M17.41 7.96l-1.37-1.37c-.4-.4-.92-.59-1.43-.59-.52 0-1.04.2-1.43.59L10.3 9.45l-7.72 7.72c-.78.78-.78 2.05 0 2.83L4 21.41c.39.39.9.59 1.41.59.51 0 1.02-.2 1.41-.59l7.78-7.78 2.81-2.81c.8-.78.8-2.07 0-2.86zM5.41 20L4 18.59l7.72-7.72 1.47 1.35L5.41 20z\"/>\n",
              "  </svg>\n",
              "      </button>\n",
              "      \n",
              "  <style>\n",
              "    .colab-df-container {\n",
              "      display:flex;\n",
              "      flex-wrap:wrap;\n",
              "      gap: 12px;\n",
              "    }\n",
              "\n",
              "    .colab-df-convert {\n",
              "      background-color: #E8F0FE;\n",
              "      border: none;\n",
              "      border-radius: 50%;\n",
              "      cursor: pointer;\n",
              "      display: none;\n",
              "      fill: #1967D2;\n",
              "      height: 32px;\n",
              "      padding: 0 0 0 0;\n",
              "      width: 32px;\n",
              "    }\n",
              "\n",
              "    .colab-df-convert:hover {\n",
              "      background-color: #E2EBFA;\n",
              "      box-shadow: 0px 1px 2px rgba(60, 64, 67, 0.3), 0px 1px 3px 1px rgba(60, 64, 67, 0.15);\n",
              "      fill: #174EA6;\n",
              "    }\n",
              "\n",
              "    [theme=dark] .colab-df-convert {\n",
              "      background-color: #3B4455;\n",
              "      fill: #D2E3FC;\n",
              "    }\n",
              "\n",
              "    [theme=dark] .colab-df-convert:hover {\n",
              "      background-color: #434B5C;\n",
              "      box-shadow: 0px 1px 3px 1px rgba(0, 0, 0, 0.15);\n",
              "      filter: drop-shadow(0px 1px 2px rgba(0, 0, 0, 0.3));\n",
              "      fill: #FFFFFF;\n",
              "    }\n",
              "  </style>\n",
              "\n",
              "      <script>\n",
              "        const buttonEl =\n",
              "          document.querySelector('#df-810734d6-9ada-4965-883b-11be669dd5f5 button.colab-df-convert');\n",
              "        buttonEl.style.display =\n",
              "          google.colab.kernel.accessAllowed ? 'block' : 'none';\n",
              "\n",
              "        async function convertToInteractive(key) {\n",
              "          const element = document.querySelector('#df-810734d6-9ada-4965-883b-11be669dd5f5');\n",
              "          const dataTable =\n",
              "            await google.colab.kernel.invokeFunction('convertToInteractive',\n",
              "                                                     [key], {});\n",
              "          if (!dataTable) return;\n",
              "\n",
              "          const docLinkHtml = 'Like what you see? Visit the ' +\n",
              "            '<a target=\"_blank\" href=https://colab.research.google.com/notebooks/data_table.ipynb>data table notebook</a>'\n",
              "            + ' to learn more about interactive tables.';\n",
              "          element.innerHTML = '';\n",
              "          dataTable['output_type'] = 'display_data';\n",
              "          await google.colab.output.renderOutput(dataTable, element);\n",
              "          const docLink = document.createElement('div');\n",
              "          docLink.innerHTML = docLinkHtml;\n",
              "          element.appendChild(docLink);\n",
              "        }\n",
              "      </script>\n",
              "    </div>\n",
              "  </div>\n",
              "  "
            ]
          },
          "metadata": {},
          "execution_count": 3
        }
      ]
    },
    {
      "cell_type": "code",
      "source": [
        "# 데이터 정보 확인\n",
        "df.info()"
      ],
      "metadata": {
        "colab": {
          "base_uri": "https://localhost:8080/"
        },
        "id": "EDZrrzmuCFZy",
        "outputId": "419e99d2-55ff-4554-f3e7-74269e44d65f"
      },
      "execution_count": 4,
      "outputs": [
        {
          "output_type": "stream",
          "name": "stdout",
          "text": [
            "<class 'pandas.core.frame.DataFrame'>\n",
            "RangeIndex: 232725 entries, 0 to 232724\n",
            "Data columns (total 18 columns):\n",
            " #   Column            Non-Null Count   Dtype  \n",
            "---  ------            --------------   -----  \n",
            " 0   genre             232725 non-null  object \n",
            " 1   artist_name       232725 non-null  object \n",
            " 2   track_name        232725 non-null  object \n",
            " 3   track_id          232725 non-null  object \n",
            " 4   popularity        232725 non-null  int64  \n",
            " 5   acousticness      232725 non-null  float64\n",
            " 6   danceability      232725 non-null  float64\n",
            " 7   duration_ms       232725 non-null  int64  \n",
            " 8   energy            232725 non-null  float64\n",
            " 9   instrumentalness  232725 non-null  float64\n",
            " 10  key               232725 non-null  object \n",
            " 11  liveness          232725 non-null  float64\n",
            " 12  loudness          232725 non-null  float64\n",
            " 13  mode              232725 non-null  object \n",
            " 14  speechiness       232725 non-null  float64\n",
            " 15  tempo             232725 non-null  float64\n",
            " 16  time_signature    232725 non-null  object \n",
            " 17  valence           232725 non-null  float64\n",
            "dtypes: float64(9), int64(2), object(7)\n",
            "memory usage: 32.0+ MB\n"
          ]
        }
      ]
    },
    {
      "cell_type": "code",
      "source": [
        "# 결측치 확인\n",
        "df.isna().sum()"
      ],
      "metadata": {
        "colab": {
          "base_uri": "https://localhost:8080/"
        },
        "id": "rrxElW6tCJM0",
        "outputId": "14c63997-a954-4388-9d84-0e2b8745f18a"
      },
      "execution_count": 5,
      "outputs": [
        {
          "output_type": "execute_result",
          "data": {
            "text/plain": [
              "genre               0\n",
              "artist_name         0\n",
              "track_name          0\n",
              "track_id            0\n",
              "popularity          0\n",
              "acousticness        0\n",
              "danceability        0\n",
              "duration_ms         0\n",
              "energy              0\n",
              "instrumentalness    0\n",
              "key                 0\n",
              "liveness            0\n",
              "loudness            0\n",
              "mode                0\n",
              "speechiness         0\n",
              "tempo               0\n",
              "time_signature      0\n",
              "valence             0\n",
              "dtype: int64"
            ]
          },
          "metadata": {},
          "execution_count": 5
        }
      ]
    },
    {
      "cell_type": "markdown",
      "source": [
        "> 확인 결과, 결측치 없음"
      ],
      "metadata": {
        "id": "kfZYadcm_5HR"
      }
    },
    {
      "cell_type": "code",
      "source": [
        "# 문자형 칼럼 카디널리티 확인\n",
        "obj = df.dtypes[df.dtypes == 'object'].index\n",
        "df[obj].nunique().sort_values(ascending=False)"
      ],
      "metadata": {
        "colab": {
          "base_uri": "https://localhost:8080/"
        },
        "id": "DUhcY7DjH-CO",
        "outputId": "092a9545-aea9-4398-b7d8-8326b86ef3c1"
      },
      "execution_count": 6,
      "outputs": [
        {
          "output_type": "execute_result",
          "data": {
            "text/plain": [
              "track_id          176774\n",
              "track_name        148615\n",
              "artist_name        14564\n",
              "genre                 27\n",
              "key                   12\n",
              "time_signature         5\n",
              "mode                   2\n",
              "dtype: int64"
            ]
          },
          "metadata": {},
          "execution_count": 6
        }
      ]
    },
    {
      "cell_type": "markdown",
      "source": [
        "> 확인 결과, id와 name이 들어간 칼럼이 카디널리티가 높은 것을 확인. 또한, 모델이 학습할 때 필요없는 private한 데이터이므로 데이터 정보를 더 수집 후 삭제."
      ],
      "metadata": {
        "id": "GFQvDHKt__0b"
      }
    },
    {
      "cell_type": "code",
      "source": [
        "# 문자형 칼럼 데이터 상세 확인\n",
        "df.genre.unique()"
      ],
      "metadata": {
        "colab": {
          "base_uri": "https://localhost:8080/"
        },
        "id": "yDd40ipQJGyu",
        "outputId": "a2a9f30a-6636-4f75-beb0-ea27331be3b5"
      },
      "execution_count": 7,
      "outputs": [
        {
          "output_type": "execute_result",
          "data": {
            "text/plain": [
              "array(['Movie', 'R&B', 'A Capella', 'Alternative', 'Country', 'Dance',\n",
              "       'Electronic', 'Anime', 'Folk', 'Blues', 'Opera', 'Hip-Hop',\n",
              "       \"Children's Music\", 'Children’s Music', 'Rap', 'Indie',\n",
              "       'Classical', 'Pop', 'Reggae', 'Reggaeton', 'Jazz', 'Rock', 'Ska',\n",
              "       'Comedy', 'Soul', 'Soundtrack', 'World'], dtype=object)"
            ]
          },
          "metadata": {},
          "execution_count": 7
        }
      ]
    },
    {
      "cell_type": "markdown",
      "source": [
        "> * 확인 결과, \"Children's Music\", 'Children’s Music'를 동일한 문자로 통일해야함을 확인.\n",
        "* 다른 문자형 칼럼은 문제 없음을 확인."
      ],
      "metadata": {
        "id": "hFPY44mlJXz5"
      }
    },
    {
      "cell_type": "code",
      "source": [
        "# 'Children’s Music'를 \"Children's Music\"로 교체\n",
        "df['genre'] = df['genre'].replace(\"Children’s Music\", \"Children's Music\")"
      ],
      "metadata": {
        "id": "qadzxma5TB4V"
      },
      "execution_count": 8,
      "outputs": []
    },
    {
      "cell_type": "code",
      "source": [
        "# 잘 바뀌었나 확인 결과, 바뀌었음을 확인.\n",
        "df.genre.unique()"
      ],
      "metadata": {
        "colab": {
          "base_uri": "https://localhost:8080/"
        },
        "id": "5arWc0egTYSt",
        "outputId": "67e30403-f23e-416a-f702-c786032c4ab9"
      },
      "execution_count": 9,
      "outputs": [
        {
          "output_type": "execute_result",
          "data": {
            "text/plain": [
              "array(['Movie', 'R&B', 'A Capella', 'Alternative', 'Country', 'Dance',\n",
              "       'Electronic', 'Anime', 'Folk', 'Blues', 'Opera', 'Hip-Hop',\n",
              "       \"Children's Music\", 'Rap', 'Indie', 'Classical', 'Pop', 'Reggae',\n",
              "       'Reggaeton', 'Jazz', 'Rock', 'Ska', 'Comedy', 'Soul', 'Soundtrack',\n",
              "       'World'], dtype=object)"
            ]
          },
          "metadata": {},
          "execution_count": 9
        }
      ]
    },
    {
      "cell_type": "code",
      "source": [
        "# 'duration_ms' 칼럼 단위 변경\n",
        "df['duration_ms'] = round(df['duration_ms'] / 1000 / 60, 2)\n",
        "df.rename(columns={'duration_ms' : 'duration_m'}, inplace=True)"
      ],
      "metadata": {
        "id": "2ZGF2jFbXMQ-"
      },
      "execution_count": 10,
      "outputs": []
    },
    {
      "cell_type": "markdown",
      "source": [
        "> 재생시간 단위가 micro seconds임을 확인하고, 편하게 보고자 minutes 단위로 변경."
      ],
      "metadata": {
        "id": "nDnWAVHpAew4"
      }
    },
    {
      "cell_type": "code",
      "source": [
        "# 수치형 데이터 이상치 확인\n",
        "import matplotlib.pyplot as plt\n",
        "import seaborn as sns\n",
        "\n",
        "num = df.dtypes[df.dtypes != 'object'].index\n",
        "fig = plt.figure(figsize=(16, 32))\n",
        "i = 1\n",
        "for f in num :\n",
        "    plt.subplot(9,3,i)\n",
        "    sns.boxplot(data=df, x=f,palette='muted')\n",
        "    i += 1"
      ],
      "metadata": {
        "colab": {
          "base_uri": "https://localhost:8080/",
          "height": 0
        },
        "id": "D1cPO0ZZOEXa",
        "outputId": "44163714-2c15-4854-ab40-02c386839691"
      },
      "execution_count": 11,
      "outputs": [
        {
          "output_type": "display_data",
          "data": {
            "text/plain": [
              "<Figure size 1152x2304 with 11 Axes>"
            ],
            "image/png": "[encoded data removed]"
          },
          "metadata": {
            "needs_background": "light"
          }
        }
      ]
    },
    {
      "cell_type": "markdown",
      "source": [
        "> * 확인 결과, 'duration_m'이 이상하다는 것을 확인.  \n",
        "* 다른 이상치가 있어보이는 칼럼('instrumentalness', 'liveness')은 원래 0~1.0까지 분포.  \n",
        "* 'tempo' 같은 경우 200이상의 장르도 존재 ex) 하드코어 테크노, 스피드코어 등"
      ],
      "metadata": {
        "id": "-vbAyDCGAoLJ"
      }
    },
    {
      "cell_type": "code",
      "source": [
        "# 'duration_m' 특성 더 자세히 확인\n",
        "df.duration_m.describe()"
      ],
      "metadata": {
        "colab": {
          "base_uri": "https://localhost:8080/"
        },
        "id": "wJlUxfMaZNrB",
        "outputId": "26796508-1a67-41d0-cb01-43bc90218f90"
      },
      "execution_count": 12,
      "outputs": [
        {
          "output_type": "execute_result",
          "data": {
            "text/plain": [
              "count    232725.000000\n",
              "mean          3.918707\n",
              "std           1.982264\n",
              "min           0.260000\n",
              "25%           3.050000\n",
              "50%           3.670000\n",
              "75%           4.430000\n",
              "max          92.550000\n",
              "Name: duration_m, dtype: float64"
            ]
          },
          "metadata": {},
          "execution_count": 12
        }
      ]
    },
    {
      "cell_type": "markdown",
      "source": [
        "> 확인 결과, 75%이상의 수치에서 이상치가 있음을 확인."
      ],
      "metadata": {
        "id": "nlaukWcWBkNL"
      }
    },
    {
      "cell_type": "code",
      "source": [
        "# 재생시간이 6분이 넘어가는 데이터 추출 후 확인\n",
        "df.query('duration_m>6').sort_values(by='duration_m', ascending=False)"
      ],
      "metadata": {
        "colab": {
          "base_uri": "https://localhost:8080/",
          "height": 0
        },
        "id": "MuO5El0BZxQM",
        "outputId": "e6bbc54c-8039-4b1e-b642-280f727c6833"
      },
      "execution_count": 13,
      "outputs": [
        {
          "output_type": "execute_result",
          "data": {
            "text/plain": [
              "             genre                                artist_name  \\\n",
              "212083      Comedy                             La Mesa Reñoña   \n",
              "162671   Reggaeton                                   DJ Luigi   \n",
              "211969      Comedy                             La Mesa Reñoña   \n",
              "23593   Electronic                                   Excision   \n",
              "219057       World                            Jamie Llewellyn   \n",
              "...            ...                                        ...   \n",
              "223974        Rock                                     Boston   \n",
              "35157        Anime                                      Aimer   \n",
              "207479       World                                Trygve Seim   \n",
              "48873        Blues                                  Graveyard   \n",
              "204924  Soundtrack  The City of Prague Philharmonic Orchestra   \n",
              "\n",
              "                                               track_name  \\\n",
              "212083  Episodio 15 (Lady Orinoco, Políticas De Youtub...   \n",
              "162671                                          6 : 00 Am   \n",
              "211969       Episodio 14 (Machismo, Juanga, Bebé a Bordo)   \n",
              "23593                                 Lost Lands 2017 Mix   \n",
              "219057  Nature Sounds for Sleep: Crackling Log Fire wi...   \n",
              "...                                                   ...   \n",
              "223974                                    Don't Look Back   \n",
              "35157                                     Fuyu No Diamond   \n",
              "207479                                Ciaccona per Embrik   \n",
              "48873                                           The Siren   \n",
              "204924                       Suite (From \"Jurassic Park\")   \n",
              "\n",
              "                      track_id  popularity  acousticness  danceability  \\\n",
              "212083  76vVk4HCOLP5r7hA53SyXg          22       0.84600         0.468   \n",
              "162671  5p44BE1eYof6B2HSj3LTfQ          44       0.07840         0.513   \n",
              "211969  3Y800wAK7yLS2vckDD4WCz          21       0.85000         0.392   \n",
              "23593   40lBktIvVS4tBpGHm8W44C          41       0.00164         0.467   \n",
              "219057  40duG6erWyOVizxE9P8KqV          22       0.15000         0.316   \n",
              "...                        ...         ...           ...           ...   \n",
              "223974  4QySZtWymRGNgrwxZOODKF          57       0.01500         0.359   \n",
              "35157   0MqvvUNqrOmHizqPNvc11K          20       0.64200         0.501   \n",
              "207479  4rznhkoOr1AYneKuWBef4V          60       0.97400         0.302   \n",
              "48873   02Jh0orUaFfiVEDt01BolR          46       0.27300         0.408   \n",
              "204924  3JlVZURC2GBxNl6VeG25KD          24       0.82400         0.146   \n",
              "\n",
              "        duration_m  energy  instrumentalness key  liveness  loudness   mode  \\\n",
              "212083       92.55  0.5800           0.00000   C    0.1380   -11.615  Major   \n",
              "162671       91.47  0.8510           0.00000   B    0.2210    -3.982  Minor   \n",
              "211969       80.51  0.6220           0.00000   A    0.3520   -10.526  Major   \n",
              "23593        80.51  0.9480           0.01030  C#    0.4050    -1.929  Major   \n",
              "219057       80.07  0.2390           0.93700   B    0.1450   -23.395  Minor   \n",
              "...            ...     ...               ...  ..       ...       ...    ...   \n",
              "223974        6.01  0.7170           0.00365   D    0.3600   -10.309  Major   \n",
              "35157         6.01  0.5570           0.00000  F#    0.0868    -4.804  Major   \n",
              "207479        6.01  0.0166           0.07140   G    0.0737   -23.504  Major   \n",
              "48873         6.01  0.4710           0.00119   G    0.1370    -6.969  Minor   \n",
              "204924        6.01  0.2530           0.48500  A#    0.1360   -11.588  Major   \n",
              "\n",
              "        speechiness    tempo time_signature  valence  \n",
              "212083       0.4120   72.690            3/4   0.8010  \n",
              "162671       0.0803  100.503            4/4   0.7020  \n",
              "211969       0.3660   58.163            4/4   0.7750  \n",
              "23593        0.2990  148.898            4/4   0.3170  \n",
              "219057       0.0600  126.988            1/4   0.3210  \n",
              "...             ...      ...            ...      ...  \n",
              "223974       0.0405  121.878            4/4   0.4700  \n",
              "35157        0.0258   75.989            4/4   0.4020  \n",
              "207479       0.0475   69.904            3/4   0.2350  \n",
              "48873        0.0446  122.537            3/4   0.3020  \n",
              "204924       0.0342   78.647            4/4   0.0909  \n",
              "\n",
              "[16453 rows x 18 columns]"
            ],
            "text/html": [
              "\n",
              "  <div id=\"df-b121dc60-71de-4eaa-a73e-36ef0c8793c8\">\n",
              "    <div class=\"colab-df-container\">\n",
              "      <div>\n",
              "<style scoped>\n",
              "    .dataframe tbody tr th:only-of-type {\n",
              "        vertical-align: middle;\n",
              "    }\n",
              "\n",
              "    .dataframe tbody tr th {\n",
              "        vertical-align: top;\n",
              "    }\n",
              "\n",
              "    .dataframe thead th {\n",
              "        text-align: right;\n",
              "    }\n",
              "</style>\n",
              "<table border=\"1\" class=\"dataframe\">\n",
              "  <thead>\n",
              "    <tr style=\"text-align: right;\">\n",
              "      <th></th>\n",
              "      <th>genre</th>\n",
              "      <th>artist_name</th>\n",
              "      <th>track_name</th>\n",
              "      <th>track_id</th>\n",
              "      <th>popularity</th>\n",
              "      <th>acousticness</th>\n",
              "      <th>danceability</th>\n",
              "      <th>duration_m</th>\n",
              "      <th>energy</th>\n",
              "      <th>instrumentalness</th>\n",
              "      <th>key</th>\n",
              "      <th>liveness</th>\n",
              "      <th>loudness</th>\n",
              "      <th>mode</th>\n",
              "      <th>speechiness</th>\n",
              "      <th>tempo</th>\n",
              "      <th>time_signature</th>\n",
              "      <th>valence</th>\n",
              "    </tr>\n",
              "  </thead>\n",
              "  <tbody>\n",
              "    <tr>\n",
              "      <th>212083</th>\n",
              "      <td>Comedy</td>\n",
              "      <td>La Mesa Reñoña</td>\n",
              "      <td>Episodio 15 (Lady Orinoco, Políticas De Youtub...</td>\n",
              "      <td>76vVk4HCOLP5r7hA53SyXg</td>\n",
              "      <td>22</td>\n",
              "      <td>0.84600</td>\n",
              "      <td>0.468</td>\n",
              "      <td>92.55</td>\n",
              "      <td>0.5800</td>\n",
              "      <td>0.00000</td>\n",
              "      <td>C</td>\n",
              "      <td>0.1380</td>\n",
              "      <td>-11.615</td>\n",
              "      <td>Major</td>\n",
              "      <td>0.4120</td>\n",
              "      <td>72.690</td>\n",
              "      <td>3/4</td>\n",
              "      <td>0.8010</td>\n",
              "    </tr>\n",
              "    <tr>\n",
              "      <th>162671</th>\n",
              "      <td>Reggaeton</td>\n",
              "      <td>DJ Luigi</td>\n",
              "      <td>6 : 00 Am</td>\n",
              "      <td>5p44BE1eYof6B2HSj3LTfQ</td>\n",
              "      <td>44</td>\n",
              "      <td>0.07840</td>\n",
              "      <td>0.513</td>\n",
              "      <td>91.47</td>\n",
              "      <td>0.8510</td>\n",
              "      <td>0.00000</td>\n",
              "      <td>B</td>\n",
              "      <td>0.2210</td>\n",
              "      <td>-3.982</td>\n",
              "      <td>Minor</td>\n",
              "      <td>0.0803</td>\n",
              "      <td>100.503</td>\n",
              "      <td>4/4</td>\n",
              "      <td>0.7020</td>\n",
              "    </tr>\n",
              "    <tr>\n",
              "      <th>211969</th>\n",
              "      <td>Comedy</td>\n",
              "      <td>La Mesa Reñoña</td>\n",
              "      <td>Episodio 14 (Machismo, Juanga, Bebé a Bordo)</td>\n",
              "      <td>3Y800wAK7yLS2vckDD4WCz</td>\n",
              "      <td>21</td>\n",
              "      <td>0.85000</td>\n",
              "      <td>0.392</td>\n",
              "      <td>80.51</td>\n",
              "      <td>0.6220</td>\n",
              "      <td>0.00000</td>\n",
              "      <td>A</td>\n",
              "      <td>0.3520</td>\n",
              "      <td>-10.526</td>\n",
              "      <td>Major</td>\n",
              "      <td>0.3660</td>\n",
              "      <td>58.163</td>\n",
              "      <td>4/4</td>\n",
              "      <td>0.7750</td>\n",
              "    </tr>\n",
              "    <tr>\n",
              "      <th>23593</th>\n",
              "      <td>Electronic</td>\n",
              "      <td>Excision</td>\n",
              "      <td>Lost Lands 2017 Mix</td>\n",
              "      <td>40lBktIvVS4tBpGHm8W44C</td>\n",
              "      <td>41</td>\n",
              "      <td>0.00164</td>\n",
              "      <td>0.467</td>\n",
              "      <td>80.51</td>\n",
              "      <td>0.9480</td>\n",
              "      <td>0.01030</td>\n",
              "      <td>C#</td>\n",
              "      <td>0.4050</td>\n",
              "      <td>-1.929</td>\n",
              "      <td>Major</td>\n",
              "      <td>0.2990</td>\n",
              "      <td>148.898</td>\n",
              "      <td>4/4</td>\n",
              "      <td>0.3170</td>\n",
              "    </tr>\n",
              "    <tr>\n",
              "      <th>219057</th>\n",
              "      <td>World</td>\n",
              "      <td>Jamie Llewellyn</td>\n",
              "      <td>Nature Sounds for Sleep: Crackling Log Fire wi...</td>\n",
              "      <td>40duG6erWyOVizxE9P8KqV</td>\n",
              "      <td>22</td>\n",
              "      <td>0.15000</td>\n",
              "      <td>0.316</td>\n",
              "      <td>80.07</td>\n",
              "      <td>0.2390</td>\n",
              "      <td>0.93700</td>\n",
              "      <td>B</td>\n",
              "      <td>0.1450</td>\n",
              "      <td>-23.395</td>\n",
              "      <td>Minor</td>\n",
              "      <td>0.0600</td>\n",
              "      <td>126.988</td>\n",
              "      <td>1/4</td>\n",
              "      <td>0.3210</td>\n",
              "    </tr>\n",
              "    <tr>\n",
              "      <th>...</th>\n",
              "      <td>...</td>\n",
              "      <td>...</td>\n",
              "      <td>...</td>\n",
              "      <td>...</td>\n",
              "      <td>...</td>\n",
              "      <td>...</td>\n",
              "      <td>...</td>\n",
              "      <td>...</td>\n",
              "      <td>...</td>\n",
              "      <td>...</td>\n",
              "      <td>...</td>\n",
              "      <td>...</td>\n",
              "      <td>...</td>\n",
              "      <td>...</td>\n",
              "      <td>...</td>\n",
              "      <td>...</td>\n",
              "      <td>...</td>\n",
              "      <td>...</td>\n",
              "    </tr>\n",
              "    <tr>\n",
              "      <th>223974</th>\n",
              "      <td>Rock</td>\n",
              "      <td>Boston</td>\n",
              "      <td>Don't Look Back</td>\n",
              "      <td>4QySZtWymRGNgrwxZOODKF</td>\n",
              "      <td>57</td>\n",
              "      <td>0.01500</td>\n",
              "      <td>0.359</td>\n",
              "      <td>6.01</td>\n",
              "      <td>0.7170</td>\n",
              "      <td>0.00365</td>\n",
              "      <td>D</td>\n",
              "      <td>0.3600</td>\n",
              "      <td>-10.309</td>\n",
              "      <td>Major</td>\n",
              "      <td>0.0405</td>\n",
              "      <td>121.878</td>\n",
              "      <td>4/4</td>\n",
              "      <td>0.4700</td>\n",
              "    </tr>\n",
              "    <tr>\n",
              "      <th>35157</th>\n",
              "      <td>Anime</td>\n",
              "      <td>Aimer</td>\n",
              "      <td>Fuyu No Diamond</td>\n",
              "      <td>0MqvvUNqrOmHizqPNvc11K</td>\n",
              "      <td>20</td>\n",
              "      <td>0.64200</td>\n",
              "      <td>0.501</td>\n",
              "      <td>6.01</td>\n",
              "      <td>0.5570</td>\n",
              "      <td>0.00000</td>\n",
              "      <td>F#</td>\n",
              "      <td>0.0868</td>\n",
              "      <td>-4.804</td>\n",
              "      <td>Major</td>\n",
              "      <td>0.0258</td>\n",
              "      <td>75.989</td>\n",
              "      <td>4/4</td>\n",
              "      <td>0.4020</td>\n",
              "    </tr>\n",
              "    <tr>\n",
              "      <th>207479</th>\n",
              "      <td>World</td>\n",
              "      <td>Trygve Seim</td>\n",
              "      <td>Ciaccona per Embrik</td>\n",
              "      <td>4rznhkoOr1AYneKuWBef4V</td>\n",
              "      <td>60</td>\n",
              "      <td>0.97400</td>\n",
              "      <td>0.302</td>\n",
              "      <td>6.01</td>\n",
              "      <td>0.0166</td>\n",
              "      <td>0.07140</td>\n",
              "      <td>G</td>\n",
              "      <td>0.0737</td>\n",
              "      <td>-23.504</td>\n",
              "      <td>Major</td>\n",
              "      <td>0.0475</td>\n",
              "      <td>69.904</td>\n",
              "      <td>3/4</td>\n",
              "      <td>0.2350</td>\n",
              "    </tr>\n",
              "    <tr>\n",
              "      <th>48873</th>\n",
              "      <td>Blues</td>\n",
              "      <td>Graveyard</td>\n",
              "      <td>The Siren</td>\n",
              "      <td>02Jh0orUaFfiVEDt01BolR</td>\n",
              "      <td>46</td>\n",
              "      <td>0.27300</td>\n",
              "      <td>0.408</td>\n",
              "      <td>6.01</td>\n",
              "      <td>0.4710</td>\n",
              "      <td>0.00119</td>\n",
              "      <td>G</td>\n",
              "      <td>0.1370</td>\n",
              "      <td>-6.969</td>\n",
              "      <td>Minor</td>\n",
              "      <td>0.0446</td>\n",
              "      <td>122.537</td>\n",
              "      <td>3/4</td>\n",
              "      <td>0.3020</td>\n",
              "    </tr>\n",
              "    <tr>\n",
              "      <th>204924</th>\n",
              "      <td>Soundtrack</td>\n",
              "      <td>The City of Prague Philharmonic Orchestra</td>\n",
              "      <td>Suite (From \"Jurassic Park\")</td>\n",
              "      <td>3JlVZURC2GBxNl6VeG25KD</td>\n",
              "      <td>24</td>\n",
              "      <td>0.82400</td>\n",
              "      <td>0.146</td>\n",
              "      <td>6.01</td>\n",
              "      <td>0.2530</td>\n",
              "      <td>0.48500</td>\n",
              "      <td>A#</td>\n",
              "      <td>0.1360</td>\n",
              "      <td>-11.588</td>\n",
              "      <td>Major</td>\n",
              "      <td>0.0342</td>\n",
              "      <td>78.647</td>\n",
              "      <td>4/4</td>\n",
              "      <td>0.0909</td>\n",
              "    </tr>\n",
              "  </tbody>\n",
              "</table>\n",
              "<p>16453 rows × 18 columns</p>\n",
              "</div>\n",
              "      <button class=\"colab-df-convert\" onclick=\"convertToInteractive('df-b121dc60-71de-4eaa-a73e-36ef0c8793c8')\"\n",
              "              title=\"Convert this dataframe to an interactive table.\"\n",
              "              style=\"display:none;\">\n",
              "        \n",
              "  <svg xmlns=\"http://www.w3.org/2000/svg\" height=\"24px\"viewBox=\"0 0 24 24\"\n",
              "       width=\"24px\">\n",
              "    <path d=\"M0 0h24v24H0V0z\" fill=\"none\"/>\n",
              "    <path d=\"M18.56 5.44l.94 2.06.94-2.06 2.06-.94-2.06-.94-.94-2.06-.94 2.06-2.06.94zm-11 1L8.5 8.5l.94-2.06 2.06-.94-2.06-.94L8.5 2.5l-.94 2.06-2.06.94zm10 10l.94 2.06.94-2.06 2.06-.94-2.06-.94-.94-2.06-.94 2.06-2.06.94z\"/><path d=\"M17.41 7.96l-1.37-1.37c-.4-.4-.92-.59-1.43-.59-.52 0-1.04.2-1.43.59L10.3 9.45l-7.72 7.72c-.78.78-.78 2.05 0 2.83L4 21.41c.39.39.9.59 1.41.59.51 0 1.02-.2 1.41-.59l7.78-7.78 2.81-2.81c.8-.78.8-2.07 0-2.86zM5.41 20L4 18.59l7.72-7.72 1.47 1.35L5.41 20z\"/>\n",
              "  </svg>\n",
              "      </button>\n",
              "      \n",
              "  <style>\n",
              "    .colab-df-container {\n",
              "      display:flex;\n",
              "      flex-wrap:wrap;\n",
              "      gap: 12px;\n",
              "    }\n",
              "\n",
              "    .colab-df-convert {\n",
              "      background-color: #E8F0FE;\n",
              "      border: none;\n",
              "      border-radius: 50%;\n",
              "      cursor: pointer;\n",
              "      display: none;\n",
              "      fill: #1967D2;\n",
              "      height: 32px;\n",
              "      padding: 0 0 0 0;\n",
              "      width: 32px;\n",
              "    }\n",
              "\n",
              "    .colab-df-convert:hover {\n",
              "      background-color: #E2EBFA;\n",
              "      box-shadow: 0px 1px 2px rgba(60, 64, 67, 0.3), 0px 1px 3px 1px rgba(60, 64, 67, 0.15);\n",
              "      fill: #174EA6;\n",
              "    }\n",
              "\n",
              "    [theme=dark] .colab-df-convert {\n",
              "      background-color: #3B4455;\n",
              "      fill: #D2E3FC;\n",
              "    }\n",
              "\n",
              "    [theme=dark] .colab-df-convert:hover {\n",
              "      background-color: #434B5C;\n",
              "      box-shadow: 0px 1px 3px 1px rgba(0, 0, 0, 0.15);\n",
              "      filter: drop-shadow(0px 1px 2px rgba(0, 0, 0, 0.3));\n",
              "      fill: #FFFFFF;\n",
              "    }\n",
              "  </style>\n",
              "\n",
              "      <script>\n",
              "        const buttonEl =\n",
              "          document.querySelector('#df-b121dc60-71de-4eaa-a73e-36ef0c8793c8 button.colab-df-convert');\n",
              "        buttonEl.style.display =\n",
              "          google.colab.kernel.accessAllowed ? 'block' : 'none';\n",
              "\n",
              "        async function convertToInteractive(key) {\n",
              "          const element = document.querySelector('#df-b121dc60-71de-4eaa-a73e-36ef0c8793c8');\n",
              "          const dataTable =\n",
              "            await google.colab.kernel.invokeFunction('convertToInteractive',\n",
              "                                                     [key], {});\n",
              "          if (!dataTable) return;\n",
              "\n",
              "          const docLinkHtml = 'Like what you see? Visit the ' +\n",
              "            '<a target=\"_blank\" href=https://colab.research.google.com/notebooks/data_table.ipynb>data table notebook</a>'\n",
              "            + ' to learn more about interactive tables.';\n",
              "          element.innerHTML = '';\n",
              "          dataTable['output_type'] = 'display_data';\n",
              "          await google.colab.output.renderOutput(dataTable, element);\n",
              "          const docLink = document.createElement('div');\n",
              "          docLink.innerHTML = docLinkHtml;\n",
              "          element.appendChild(docLink);\n",
              "        }\n",
              "      </script>\n",
              "    </div>\n",
              "  </div>\n",
              "  "
            ]
          },
          "metadata": {},
          "execution_count": 13
        }
      ]
    },
    {
      "cell_type": "markdown",
      "source": [
        "> * 보통 노래 재생시간이 3~4분이고, 최대 5분임. 그리고 그 중 필자가 아는 노래 중에 가장 긴 노래(Queen - Bohemian Rhapsody)가 6분이므로 기준점을 6분으로 잡았다.\n",
        "* 40분, 80분, 90분 등등 노래 서칭 결과, 실제로 재생시간이 그러함을 확인."
      ],
      "metadata": {
        "id": "jp7S3N1PCB27"
      }
    },
    {
      "cell_type": "markdown",
      "source": [
        "중간 점검 : 아래 사항은 train set과 test set을 나눈 후에 train set에만 적용한다.\n",
        "\n",
        "1. 필자가 원하는 음악은 6분 이하의 음원이므로 넉넉히 7분 이상의 음원은 삭제한다.\n",
        "2.  또한, 'Movie', 'Comedy'와 같은 장르는 음악이 아닌 음원이 추출된 형식이 존재한다. 그 중에서도 'speechiness가 0.66 이상인 값은 전적으로 음성으로 만들어진 트랙을 나타내므로(데이터 특성 설명 페이지 참고) 필자가 원하는 데이터가 아니므로 삭제해야한다.\n",
        "3. 그러나, 위 두 장르는 대중적인 음악과 방향이 먼 삭제해야할 장르에 포함되므로, 한 번에 삭제한다.\n",
        " - 'Anime', 'Comedy', 'Opera', 'Movie', 'A Capella', 'Classical', \"Children's Music\"\n",
        "- 즉, 1번과 3번만 시행하도록 한다.\n"
      ],
      "metadata": {
        "id": "sZfvmNz6bZX8"
      }
    },
    {
      "cell_type": "code",
      "source": [
        "# 모델 학습에 필요없는 특성 삭제\n",
        "delete = ['artist_name', 'track_name', 'track_id']\n",
        "df = df.drop(delete, axis=1)"
      ],
      "metadata": {
        "id": "hGk49dPPDgxD"
      },
      "execution_count": 14,
      "outputs": []
    },
    {
      "cell_type": "code",
      "source": [
        "# 중복값 확인\n",
        "df.duplicated().sum()"
      ],
      "metadata": {
        "colab": {
          "base_uri": "https://localhost:8080/"
        },
        "id": "fct71awwlVUR",
        "outputId": "c11eb206-a595-4ac0-e6a2-03c6e6f96588"
      },
      "execution_count": 15,
      "outputs": [
        {
          "output_type": "execute_result",
          "data": {
            "text/plain": [
              "84"
            ]
          },
          "metadata": {},
          "execution_count": 15
        }
      ]
    },
    {
      "cell_type": "code",
      "source": [
        "# 중복값 삭제 및 인덱스 재정렬\n",
        "df = df.drop_duplicates()\n",
        "df = df.reset_index(drop=True)"
      ],
      "metadata": {
        "id": "QcqNcP2ilgZi"
      },
      "execution_count": 16,
      "outputs": []
    },
    {
      "cell_type": "code",
      "source": [
        "# 전처리 확인\n",
        "df"
      ],
      "metadata": {
        "colab": {
          "base_uri": "https://localhost:8080/",
          "height": 0
        },
        "id": "nzHegMClmVZP",
        "outputId": "a7530184-d5ea-4a47-f53a-4ceeac9e74f7"
      },
      "execution_count": 17,
      "outputs": [
        {
          "output_type": "execute_result",
          "data": {
            "text/plain": [
              "        genre  popularity  acousticness  danceability  duration_m  energy  \\\n",
              "0       Movie           0       0.61100         0.389        1.66   0.910   \n",
              "1       Movie           1       0.24600         0.590        2.29   0.737   \n",
              "2       Movie           3       0.95200         0.663        2.84   0.131   \n",
              "3       Movie           0       0.70300         0.240        2.54   0.326   \n",
              "4       Movie           4       0.95000         0.331        1.38   0.225   \n",
              "...       ...         ...           ...           ...         ...     ...   \n",
              "232636   Soul          39       0.00384         0.687        5.44   0.714   \n",
              "232637   Soul          38       0.03290         0.785        4.71   0.683   \n",
              "232638   Soul          47       0.90100         0.517        2.78   0.419   \n",
              "232639   Soul          44       0.26200         0.745        3.71   0.704   \n",
              "232640   Soul          35       0.09730         0.758        5.38   0.470   \n",
              "\n",
              "        instrumentalness key  liveness  loudness   mode  speechiness    tempo  \\\n",
              "0               0.000000  C#    0.3460    -1.828  Major       0.0525  166.969   \n",
              "1               0.000000  F#    0.1510    -5.559  Minor       0.0868  174.003   \n",
              "2               0.000000   C    0.1030   -13.879  Minor       0.0362   99.488   \n",
              "3               0.000000  C#    0.0985   -12.178  Major       0.0395  171.758   \n",
              "4               0.123000   F    0.2020   -21.150  Major       0.0456  140.576   \n",
              "...                  ...  ..       ...       ...    ...          ...      ...   \n",
              "232636          0.544000   D    0.0845   -10.626  Major       0.0316  115.542   \n",
              "232637          0.000880   E    0.2370    -6.944  Minor       0.0337  113.830   \n",
              "232638          0.000000   D    0.0945    -8.282  Major       0.1480   84.135   \n",
              "232639          0.000000   A    0.3330    -7.137  Major       0.1460  100.031   \n",
              "232640          0.000049  G#    0.0836    -6.708  Minor       0.0287  113.897   \n",
              "\n",
              "       time_signature  valence  \n",
              "0                 4/4    0.814  \n",
              "1                 4/4    0.816  \n",
              "2                 5/4    0.368  \n",
              "3                 4/4    0.227  \n",
              "4                 4/4    0.390  \n",
              "...               ...      ...  \n",
              "232636            4/4    0.962  \n",
              "232637            4/4    0.969  \n",
              "232638            4/4    0.813  \n",
              "232639            4/4    0.489  \n",
              "232640            4/4    0.479  \n",
              "\n",
              "[232641 rows x 15 columns]"
            ],
            "text/html": [
              "\n",
              "  <div id=\"df-c4339b1c-4069-499c-934d-cf779e2da8ad\">\n",
              "    <div class=\"colab-df-container\">\n",
              "      <div>\n",
              "<style scoped>\n",
              "    .dataframe tbody tr th:only-of-type {\n",
              "        vertical-align: middle;\n",
              "    }\n",
              "\n",
              "    .dataframe tbody tr th {\n",
              "        vertical-align: top;\n",
              "    }\n",
              "\n",
              "    .dataframe thead th {\n",
              "        text-align: right;\n",
              "    }\n",
              "</style>\n",
              "<table border=\"1\" class=\"dataframe\">\n",
              "  <thead>\n",
              "    <tr style=\"text-align: right;\">\n",
              "      <th></th>\n",
              "      <th>genre</th>\n",
              "      <th>popularity</th>\n",
              "      <th>acousticness</th>\n",
              "      <th>danceability</th>\n",
              "      <th>duration_m</th>\n",
              "      <th>energy</th>\n",
              "      <th>instrumentalness</th>\n",
              "      <th>key</th>\n",
              "      <th>liveness</th>\n",
              "      <th>loudness</th>\n",
              "      <th>mode</th>\n",
              "      <th>speechiness</th>\n",
              "      <th>tempo</th>\n",
              "      <th>time_signature</th>\n",
              "      <th>valence</th>\n",
              "    </tr>\n",
              "  </thead>\n",
              "  <tbody>\n",
              "    <tr>\n",
              "      <th>0</th>\n",
              "      <td>Movie</td>\n",
              "      <td>0</td>\n",
              "      <td>0.61100</td>\n",
              "      <td>0.389</td>\n",
              "      <td>1.66</td>\n",
              "      <td>0.910</td>\n",
              "      <td>0.000000</td>\n",
              "      <td>C#</td>\n",
              "      <td>0.3460</td>\n",
              "      <td>-1.828</td>\n",
              "      <td>Major</td>\n",
              "      <td>0.0525</td>\n",
              "      <td>166.969</td>\n",
              "      <td>4/4</td>\n",
              "      <td>0.814</td>\n",
              "    </tr>\n",
              "    <tr>\n",
              "      <th>1</th>\n",
              "      <td>Movie</td>\n",
              "      <td>1</td>\n",
              "      <td>0.24600</td>\n",
              "      <td>0.590</td>\n",
              "      <td>2.29</td>\n",
              "      <td>0.737</td>\n",
              "      <td>0.000000</td>\n",
              "      <td>F#</td>\n",
              "      <td>0.1510</td>\n",
              "      <td>-5.559</td>\n",
              "      <td>Minor</td>\n",
              "      <td>0.0868</td>\n",
              "      <td>174.003</td>\n",
              "      <td>4/4</td>\n",
              "      <td>0.816</td>\n",
              "    </tr>\n",
              "    <tr>\n",
              "      <th>2</th>\n",
              "      <td>Movie</td>\n",
              "      <td>3</td>\n",
              "      <td>0.95200</td>\n",
              "      <td>0.663</td>\n",
              "      <td>2.84</td>\n",
              "      <td>0.131</td>\n",
              "      <td>0.000000</td>\n",
              "      <td>C</td>\n",
              "      <td>0.1030</td>\n",
              "      <td>-13.879</td>\n",
              "      <td>Minor</td>\n",
              "      <td>0.0362</td>\n",
              "      <td>99.488</td>\n",
              "      <td>5/4</td>\n",
              "      <td>0.368</td>\n",
              "    </tr>\n",
              "    <tr>\n",
              "      <th>3</th>\n",
              "      <td>Movie</td>\n",
              "      <td>0</td>\n",
              "      <td>0.70300</td>\n",
              "      <td>0.240</td>\n",
              "      <td>2.54</td>\n",
              "      <td>0.326</td>\n",
              "      <td>0.000000</td>\n",
              "      <td>C#</td>\n",
              "      <td>0.0985</td>\n",
              "      <td>-12.178</td>\n",
              "      <td>Major</td>\n",
              "      <td>0.0395</td>\n",
              "      <td>171.758</td>\n",
              "      <td>4/4</td>\n",
              "      <td>0.227</td>\n",
              "    </tr>\n",
              "    <tr>\n",
              "      <th>4</th>\n",
              "      <td>Movie</td>\n",
              "      <td>4</td>\n",
              "      <td>0.95000</td>\n",
              "      <td>0.331</td>\n",
              "      <td>1.38</td>\n",
              "      <td>0.225</td>\n",
              "      <td>0.123000</td>\n",
              "      <td>F</td>\n",
              "      <td>0.2020</td>\n",
              "      <td>-21.150</td>\n",
              "      <td>Major</td>\n",
              "      <td>0.0456</td>\n",
              "      <td>140.576</td>\n",
              "      <td>4/4</td>\n",
              "      <td>0.390</td>\n",
              "    </tr>\n",
              "    <tr>\n",
              "      <th>...</th>\n",
              "      <td>...</td>\n",
              "      <td>...</td>\n",
              "      <td>...</td>\n",
              "      <td>...</td>\n",
              "      <td>...</td>\n",
              "      <td>...</td>\n",
              "      <td>...</td>\n",
              "      <td>...</td>\n",
              "      <td>...</td>\n",
              "      <td>...</td>\n",
              "      <td>...</td>\n",
              "      <td>...</td>\n",
              "      <td>...</td>\n",
              "      <td>...</td>\n",
              "      <td>...</td>\n",
              "    </tr>\n",
              "    <tr>\n",
              "      <th>232636</th>\n",
              "      <td>Soul</td>\n",
              "      <td>39</td>\n",
              "      <td>0.00384</td>\n",
              "      <td>0.687</td>\n",
              "      <td>5.44</td>\n",
              "      <td>0.714</td>\n",
              "      <td>0.544000</td>\n",
              "      <td>D</td>\n",
              "      <td>0.0845</td>\n",
              "      <td>-10.626</td>\n",
              "      <td>Major</td>\n",
              "      <td>0.0316</td>\n",
              "      <td>115.542</td>\n",
              "      <td>4/4</td>\n",
              "      <td>0.962</td>\n",
              "    </tr>\n",
              "    <tr>\n",
              "      <th>232637</th>\n",
              "      <td>Soul</td>\n",
              "      <td>38</td>\n",
              "      <td>0.03290</td>\n",
              "      <td>0.785</td>\n",
              "      <td>4.71</td>\n",
              "      <td>0.683</td>\n",
              "      <td>0.000880</td>\n",
              "      <td>E</td>\n",
              "      <td>0.2370</td>\n",
              "      <td>-6.944</td>\n",
              "      <td>Minor</td>\n",
              "      <td>0.0337</td>\n",
              "      <td>113.830</td>\n",
              "      <td>4/4</td>\n",
              "      <td>0.969</td>\n",
              "    </tr>\n",
              "    <tr>\n",
              "      <th>232638</th>\n",
              "      <td>Soul</td>\n",
              "      <td>47</td>\n",
              "      <td>0.90100</td>\n",
              "      <td>0.517</td>\n",
              "      <td>2.78</td>\n",
              "      <td>0.419</td>\n",
              "      <td>0.000000</td>\n",
              "      <td>D</td>\n",
              "      <td>0.0945</td>\n",
              "      <td>-8.282</td>\n",
              "      <td>Major</td>\n",
              "      <td>0.1480</td>\n",
              "      <td>84.135</td>\n",
              "      <td>4/4</td>\n",
              "      <td>0.813</td>\n",
              "    </tr>\n",
              "    <tr>\n",
              "      <th>232639</th>\n",
              "      <td>Soul</td>\n",
              "      <td>44</td>\n",
              "      <td>0.26200</td>\n",
              "      <td>0.745</td>\n",
              "      <td>3.71</td>\n",
              "      <td>0.704</td>\n",
              "      <td>0.000000</td>\n",
              "      <td>A</td>\n",
              "      <td>0.3330</td>\n",
              "      <td>-7.137</td>\n",
              "      <td>Major</td>\n",
              "      <td>0.1460</td>\n",
              "      <td>100.031</td>\n",
              "      <td>4/4</td>\n",
              "      <td>0.489</td>\n",
              "    </tr>\n",
              "    <tr>\n",
              "      <th>232640</th>\n",
              "      <td>Soul</td>\n",
              "      <td>35</td>\n",
              "      <td>0.09730</td>\n",
              "      <td>0.758</td>\n",
              "      <td>5.38</td>\n",
              "      <td>0.470</td>\n",
              "      <td>0.000049</td>\n",
              "      <td>G#</td>\n",
              "      <td>0.0836</td>\n",
              "      <td>-6.708</td>\n",
              "      <td>Minor</td>\n",
              "      <td>0.0287</td>\n",
              "      <td>113.897</td>\n",
              "      <td>4/4</td>\n",
              "      <td>0.479</td>\n",
              "    </tr>\n",
              "  </tbody>\n",
              "</table>\n",
              "<p>232641 rows × 15 columns</p>\n",
              "</div>\n",
              "      <button class=\"colab-df-convert\" onclick=\"convertToInteractive('df-c4339b1c-4069-499c-934d-cf779e2da8ad')\"\n",
              "              title=\"Convert this dataframe to an interactive table.\"\n",
              "              style=\"display:none;\">\n",
              "        \n",
              "  <svg xmlns=\"http://www.w3.org/2000/svg\" height=\"24px\"viewBox=\"0 0 24 24\"\n",
              "       width=\"24px\">\n",
              "    <path d=\"M0 0h24v24H0V0z\" fill=\"none\"/>\n",
              "    <path d=\"M18.56 5.44l.94 2.06.94-2.06 2.06-.94-2.06-.94-.94-2.06-.94 2.06-2.06.94zm-11 1L8.5 8.5l.94-2.06 2.06-.94-2.06-.94L8.5 2.5l-.94 2.06-2.06.94zm10 10l.94 2.06.94-2.06 2.06-.94-2.06-.94-.94-2.06-.94 2.06-2.06.94z\"/><path d=\"M17.41 7.96l-1.37-1.37c-.4-.4-.92-.59-1.43-.59-.52 0-1.04.2-1.43.59L10.3 9.45l-7.72 7.72c-.78.78-.78 2.05 0 2.83L4 21.41c.39.39.9.59 1.41.59.51 0 1.02-.2 1.41-.59l7.78-7.78 2.81-2.81c.8-.78.8-2.07 0-2.86zM5.41 20L4 18.59l7.72-7.72 1.47 1.35L5.41 20z\"/>\n",
              "  </svg>\n",
              "      </button>\n",
              "      \n",
              "  <style>\n",
              "    .colab-df-container {\n",
              "      display:flex;\n",
              "      flex-wrap:wrap;\n",
              "      gap: 12px;\n",
              "    }\n",
              "\n",
              "    .colab-df-convert {\n",
              "      background-color: #E8F0FE;\n",
              "      border: none;\n",
              "      border-radius: 50%;\n",
              "      cursor: pointer;\n",
              "      display: none;\n",
              "      fill: #1967D2;\n",
              "      height: 32px;\n",
              "      padding: 0 0 0 0;\n",
              "      width: 32px;\n",
              "    }\n",
              "\n",
              "    .colab-df-convert:hover {\n",
              "      background-color: #E2EBFA;\n",
              "      box-shadow: 0px 1px 2px rgba(60, 64, 67, 0.3), 0px 1px 3px 1px rgba(60, 64, 67, 0.15);\n",
              "      fill: #174EA6;\n",
              "    }\n",
              "\n",
              "    [theme=dark] .colab-df-convert {\n",
              "      background-color: #3B4455;\n",
              "      fill: #D2E3FC;\n",
              "    }\n",
              "\n",
              "    [theme=dark] .colab-df-convert:hover {\n",
              "      background-color: #434B5C;\n",
              "      box-shadow: 0px 1px 3px 1px rgba(0, 0, 0, 0.15);\n",
              "      filter: drop-shadow(0px 1px 2px rgba(0, 0, 0, 0.3));\n",
              "      fill: #FFFFFF;\n",
              "    }\n",
              "  </style>\n",
              "\n",
              "      <script>\n",
              "        const buttonEl =\n",
              "          document.querySelector('#df-c4339b1c-4069-499c-934d-cf779e2da8ad button.colab-df-convert');\n",
              "        buttonEl.style.display =\n",
              "          google.colab.kernel.accessAllowed ? 'block' : 'none';\n",
              "\n",
              "        async function convertToInteractive(key) {\n",
              "          const element = document.querySelector('#df-c4339b1c-4069-499c-934d-cf779e2da8ad');\n",
              "          const dataTable =\n",
              "            await google.colab.kernel.invokeFunction('convertToInteractive',\n",
              "                                                     [key], {});\n",
              "          if (!dataTable) return;\n",
              "\n",
              "          const docLinkHtml = 'Like what you see? Visit the ' +\n",
              "            '<a target=\"_blank\" href=https://colab.research.google.com/notebooks/data_table.ipynb>data table notebook</a>'\n",
              "            + ' to learn more about interactive tables.';\n",
              "          element.innerHTML = '';\n",
              "          dataTable['output_type'] = 'display_data';\n",
              "          await google.colab.output.renderOutput(dataTable, element);\n",
              "          const docLink = document.createElement('div');\n",
              "          docLink.innerHTML = docLinkHtml;\n",
              "          element.appendChild(docLink);\n",
              "        }\n",
              "      </script>\n",
              "    </div>\n",
              "  </div>\n",
              "  "
            ]
          },
          "metadata": {},
          "execution_count": 17
        }
      ]
    },
    {
      "cell_type": "markdown",
      "source": [
        "#### 문제 정의 1. 가장 인기 있는 장르는 어떤 것일까요?"
      ],
      "metadata": {
        "id": "o07582y5Ypt3"
      }
    },
    {
      "cell_type": "code",
      "source": [
        "# 출시된 장르의 수를 확인\n",
        "count_top10_genre = df.genre.value_counts().to_frame().head(10).T\n",
        "\n",
        "plt.figure(figsize=(8,5))\n",
        "sns.barplot(data=count_top10_genre, palette=\"hls\")\n",
        "plt.title('Counts by Genre', fontsize=20, pad=15)\n",
        "plt.xlabel('Genre', fontsize=15)\n",
        "plt.ylabel('Counts', fontsize=15)\n",
        "plt.xticks(fontsize=12,  rotation=60)\n",
        "plt.yticks(fontsize=12)\n",
        "plt.show()"
      ],
      "metadata": {
        "colab": {
          "base_uri": "https://localhost:8080/",
          "height": 0
        },
        "id": "wNn9W7X0S2Bp",
        "outputId": "0e9ef66d-83c8-4ab7-ea81-cb3ee8dafad9"
      },
      "execution_count": 18,
      "outputs": [
        {
          "output_type": "display_data",
          "data": {
            "text/plain": [
              "<Figure size 576x360 with 1 Axes>"
            ],
            "image/png": "[encoded data removed]"
          },
          "metadata": {
            "needs_background": "light"
          }
        }
      ]
    },
    {
      "cell_type": "code",
      "source": [
        "# 인기도가 높은 Top 10 장르를 확인\n",
        "top10_genre = df.groupby('genre')['popularity'].mean().sort_values(ascending=False).to_frame().head(10).T\n",
        "\n",
        "plt.figure(figsize=(8,5))\n",
        "sns.barplot(data=top10_genre, palette=\"husl\")\n",
        "plt.title('Popularity by Genre', fontsize=20, pad=15)\n",
        "plt.xlabel('Genre', fontsize=15)\n",
        "plt.ylabel('Popularity', fontsize=15)\n",
        "plt.xticks(fontsize=12, rotation=45)\n",
        "plt.yticks(fontsize=12)\n",
        "plt.show()"
      ],
      "metadata": {
        "colab": {
          "base_uri": "https://localhost:8080/",
          "height": 0
        },
        "id": "Hni78HYrKSlE",
        "outputId": "95513e4f-9d9b-43d2-f9a5-b666d82e2f4d"
      },
      "execution_count": 19,
      "outputs": [
        {
          "output_type": "display_data",
          "data": {
            "text/plain": [
              "<Figure size 576x360 with 1 Axes>"
            ],
            "image/png": "[encoded data removed]"
          },
          "metadata": {
            "needs_background": "light"
          }
        }
      ]
    },
    {
      "cell_type": "markdown",
      "source": [
        "> - 가설 1. 가장 인기 있는 장르는 Pop일 것이다. == True\n",
        "    - 또한, 출시되는 갯수가 많다고 인기를 차지하는 비중이 높지 않다는 것을 알 수 있다.\n",
        "\n"
      ],
      "metadata": {
        "id": "QqoHogkePJXM"
      }
    },
    {
      "cell_type": "markdown",
      "source": [
        "#### 문제 정의 2. 재생시간은 어느 정도가 적당할까요? 재생시간이 인기도에 영향을 줄까요?"
      ],
      "metadata": {
        "id": "vexLdfJcYwy2"
      }
    },
    {
      "cell_type": "code",
      "source": [
        "# 분포 확인\n",
        "sns.jointplot(data=df, x='duration_m', y='popularity', kind='hex', height=8)\n",
        "plt.show()"
      ],
      "metadata": {
        "colab": {
          "base_uri": "https://localhost:8080/",
          "height": 0
        },
        "id": "Z19AnbNkqhfa",
        "outputId": "6c26246c-a4c8-4f0c-aadf-b2fa0ecc60f4"
      },
      "execution_count": 20,
      "outputs": [
        {
          "output_type": "display_data",
          "data": {
            "text/plain": [
              "<Figure size 576x576 with 3 Axes>"
            ],
            "image/png": "[encoded data removed]"
          },
          "metadata": {
            "needs_background": "light"
          }
        }
      ]
    },
    {
      "cell_type": "markdown",
      "source": [
        "> 확인 결과, 데이터가 몰려있음을 볼 수 있다."
      ],
      "metadata": {
        "id": "cfz9ElsGxf8i"
      }
    },
    {
      "cell_type": "code",
      "source": [
        "# 재생시간이 7분을 초과하는 데이터를 삭제 후 확인\n",
        "long_dur_df = df.query(\"duration_m>7\").index\n",
        "droped_df = df.drop(long_dur_df)\n",
        "\n",
        "sns.jointplot(data=droped_df, x='duration_m', y='popularity', kind='hex', height=8)\n",
        "plt.show()"
      ],
      "metadata": {
        "colab": {
          "base_uri": "https://localhost:8080/",
          "height": 0
        },
        "id": "KsarB-sjvtnM",
        "outputId": "c61995bd-74f9-4dfc-cfc7-1d4145c21222"
      },
      "execution_count": 21,
      "outputs": [
        {
          "output_type": "display_data",
          "data": {
            "text/plain": [
              "<Figure size 576x576 with 3 Axes>"
            ],
            "image/png": "[encoded data removed]"
          },
          "metadata": {
            "needs_background": "light"
          }
        }
      ]
    },
    {
      "cell_type": "markdown",
      "source": [
        "> 3~4분 사이의 음원에서 인기도가 높음을 알 수 있다."
      ],
      "metadata": {
        "id": "4EscyDFXyNwP"
      }
    },
    {
      "cell_type": "code",
      "source": [
        "# 더 확실히 보기위해 선 그래프로 확인\n",
        "plt.figure(figsize=(10,8))\n",
        "sns.lineplot(data=droped_df, x='duration_m', y='popularity')\n",
        "plt.show()"
      ],
      "metadata": {
        "colab": {
          "base_uri": "https://localhost:8080/",
          "height": 0
        },
        "id": "qhIN5IBnwj42",
        "outputId": "c7644ea7-f7fd-407f-fbbf-7fd798a8ffe6"
      },
      "execution_count": 22,
      "outputs": [
        {
          "output_type": "display_data",
          "data": {
            "text/plain": [
              "<Figure size 720x576 with 1 Axes>"
            ],
            "image/png": "[encoded data removed]"
          },
          "metadata": {
            "needs_background": "light"
          }
        }
      ]
    },
    {
      "cell_type": "markdown",
      "source": [
        "> 확인 결과, 특정 구간의 재생시간이 넘어가면 재생시간이 길어질수록 인기도는 하락한다."
      ],
      "metadata": {
        "id": "IxcDtVHKy8GV"
      }
    },
    {
      "cell_type": "markdown",
      "source": [
        "> 가설 2. 재생시간은 인기도에 영향을 주지 않을 것이다. == False"
      ],
      "metadata": {
        "id": "wYOLO5KsUVeh"
      }
    },
    {
      "cell_type": "markdown",
      "source": [
        "### 3. 모델링 및 모델 해석"
      ],
      "metadata": {
        "id": "9WreoBpFtKBH"
      }
    },
    {
      "cell_type": "markdown",
      "source": [
        "#### Install & Import"
      ],
      "metadata": {
        "id": "uzXfXmDO7aKR"
      }
    },
    {
      "cell_type": "code",
      "source": [
        "!pip install category_encoders\n",
        "!pip install xgboost --upgrade\n",
        "!pip3 install hyperopt\n",
        "!pip3 install eli5\n",
        "!pip3 install pdpbox\n",
        "\n",
        "import warnings\n",
        "\n",
        "warnings.filterwarnings(\"ignore\")"
      ],
      "metadata": {
        "colab": {
          "base_uri": "https://localhost:8080/"
        },
        "id": "2tPojhaV3Py-",
        "outputId": "5d786bee-facb-468a-fac9-3ebfc0b7d39d"
      },
      "execution_count": 23,
      "outputs": [
        {
          "output_type": "stream",
          "name": "stdout",
          "text": [
            "Looking in indexes: https://pypi.org/simple, https://us-python.pkg.dev/colab-wheels/public/simple/\n",
            "Requirement already satisfied: category_encoders in /usr/local/lib/python3.7/dist-packages (2.5.0)\n",
            "Requirement already satisfied: scipy>=1.0.0 in /usr/local/lib/python3.7/dist-packages (from category_encoders) (1.7.3)\n",
            "Requirement already satisfied: numpy>=1.14.0 in /usr/local/lib/python3.7/dist-packages (from category_encoders) (1.21.6)\n",
            "Requirement already satisfied: pandas>=1.0.5 in /usr/local/lib/python3.7/dist-packages (from category_encoders) (1.3.5)\n",
            "Requirement already satisfied: scikit-learn>=0.20.0 in /usr/local/lib/python3.7/dist-packages (from category_encoders) (1.0.2)\n",
            "Requirement already satisfied: patsy>=0.5.1 in /usr/local/lib/python3.7/dist-packages (from category_encoders) (0.5.2)\n",
            "Requirement already satisfied: statsmodels>=0.9.0 in /usr/local/lib/python3.7/dist-packages (from category_encoders) (0.12.2)\n",
            "Requirement already satisfied: pytz>=2017.3 in /usr/local/lib/python3.7/dist-packages (from pandas>=1.0.5->category_encoders) (2022.2.1)\n",
            "Requirement already satisfied: python-dateutil>=2.7.3 in /usr/local/lib/python3.7/dist-packages (from pandas>=1.0.5->category_encoders) (2.8.2)\n",
            "Requirement already satisfied: six in /usr/local/lib/python3.7/dist-packages (from patsy>=0.5.1->category_encoders) (1.15.0)\n",
            "Requirement already satisfied: threadpoolctl>=2.0.0 in /usr/local/lib/python3.7/dist-packages (from scikit-learn>=0.20.0->category_encoders) (3.1.0)\n",
            "Requirement already satisfied: joblib>=0.11 in /usr/local/lib/python3.7/dist-packages (from scikit-learn>=0.20.0->category_encoders) (1.1.0)\n",
            "Looking in indexes: https://pypi.org/simple, https://us-python.pkg.dev/colab-wheels/public/simple/\n",
            "Requirement already satisfied: xgboost in /usr/local/lib/python3.7/dist-packages (1.6.2)\n",
            "Requirement already satisfied: numpy in /usr/local/lib/python3.7/dist-packages (from xgboost) (1.21.6)\n",
            "Requirement already satisfied: scipy in /usr/local/lib/python3.7/dist-packages (from xgboost) (1.7.3)\n",
            "Looking in indexes: https://pypi.org/simple, https://us-python.pkg.dev/colab-wheels/public/simple/\n",
            "Requirement already satisfied: hyperopt in /usr/local/lib/python3.7/dist-packages (0.1.2)\n",
            "Requirement already satisfied: scipy in /usr/local/lib/python3.7/dist-packages (from hyperopt) (1.7.3)\n",
            "Requirement already satisfied: six in /usr/local/lib/python3.7/dist-packages (from hyperopt) (1.15.0)\n",
            "Requirement already satisfied: networkx in /usr/local/lib/python3.7/dist-packages (from hyperopt) (2.6.3)\n",
            "Requirement already satisfied: future in /usr/local/lib/python3.7/dist-packages (from hyperopt) (0.16.0)\n",
            "Requirement already satisfied: numpy in /usr/local/lib/python3.7/dist-packages (from hyperopt) (1.21.6)\n",
            "Requirement already satisfied: pymongo in /usr/local/lib/python3.7/dist-packages (from hyperopt) (4.2.0)\n",
            "Requirement already satisfied: tqdm in /usr/local/lib/python3.7/dist-packages (from hyperopt) (4.64.1)\n",
            "Looking in indexes: https://pypi.org/simple, https://us-python.pkg.dev/colab-wheels/public/simple/\n",
            "Requirement already satisfied: eli5 in /usr/local/lib/python3.7/dist-packages (0.13.0)\n",
            "Requirement already satisfied: six in /usr/local/lib/python3.7/dist-packages (from eli5) (1.15.0)\n",
            "Requirement already satisfied: numpy>=1.9.0 in /usr/local/lib/python3.7/dist-packages (from eli5) (1.21.6)\n",
            "Requirement already satisfied: tabulate>=0.7.7 in /usr/local/lib/python3.7/dist-packages (from eli5) (0.8.10)\n",
            "Requirement already satisfied: jinja2>=3.0.0 in /usr/local/lib/python3.7/dist-packages (from eli5) (3.1.2)\n",
            "Requirement already satisfied: scikit-learn>=0.20 in /usr/local/lib/python3.7/dist-packages (from eli5) (1.0.2)\n",
            "Requirement already satisfied: attrs>17.1.0 in /usr/local/lib/python3.7/dist-packages (from eli5) (22.1.0)\n",
            "Requirement already satisfied: graphviz in /usr/local/lib/python3.7/dist-packages (from eli5) (0.10.1)\n",
            "Requirement already satisfied: scipy in /usr/local/lib/python3.7/dist-packages (from eli5) (1.7.3)\n",
            "Requirement already satisfied: MarkupSafe>=2.0 in /usr/local/lib/python3.7/dist-packages (from jinja2>=3.0.0->eli5) (2.0.1)\n",
            "Requirement already satisfied: joblib>=0.11 in /usr/local/lib/python3.7/dist-packages (from scikit-learn>=0.20->eli5) (1.1.0)\n",
            "Requirement already satisfied: threadpoolctl>=2.0.0 in /usr/local/lib/python3.7/dist-packages (from scikit-learn>=0.20->eli5) (3.1.0)\n",
            "Looking in indexes: https://pypi.org/simple, https://us-python.pkg.dev/colab-wheels/public/simple/\n",
            "Requirement already satisfied: pdpbox in /usr/local/lib/python3.7/dist-packages (0.2.1)\n",
            "Requirement already satisfied: pandas in /usr/local/lib/python3.7/dist-packages (from pdpbox) (1.3.5)\n",
            "Requirement already satisfied: sklearn in /usr/local/lib/python3.7/dist-packages (from pdpbox) (0.0)\n",
            "Requirement already satisfied: scipy in /usr/local/lib/python3.7/dist-packages (from pdpbox) (1.7.3)\n",
            "Requirement already satisfied: joblib in /usr/local/lib/python3.7/dist-packages (from pdpbox) (1.1.0)\n",
            "Requirement already satisfied: matplotlib==3.1.1 in /usr/local/lib/python3.7/dist-packages (from pdpbox) (3.1.1)\n",
            "Requirement already satisfied: psutil in /usr/local/lib/python3.7/dist-packages (from pdpbox) (5.4.8)\n",
            "Requirement already satisfied: numpy in /usr/local/lib/python3.7/dist-packages (from pdpbox) (1.21.6)\n",
            "Requirement already satisfied: pyparsing!=2.0.4,!=2.1.2,!=2.1.6,>=2.0.1 in /usr/local/lib/python3.7/dist-packages (from matplotlib==3.1.1->pdpbox) (3.0.9)\n",
            "Requirement already satisfied: python-dateutil>=2.1 in /usr/local/lib/python3.7/dist-packages (from matplotlib==3.1.1->pdpbox) (2.8.2)\n",
            "Requirement already satisfied: kiwisolver>=1.0.1 in /usr/local/lib/python3.7/dist-packages (from matplotlib==3.1.1->pdpbox) (1.4.4)\n",
            "Requirement already satisfied: cycler>=0.10 in /usr/local/lib/python3.7/dist-packages (from matplotlib==3.1.1->pdpbox) (0.11.0)\n",
            "Requirement already satisfied: typing-extensions in /usr/local/lib/python3.7/dist-packages (from kiwisolver>=1.0.1->matplotlib==3.1.1->pdpbox) (4.1.1)\n",
            "Requirement already satisfied: six>=1.5 in /usr/local/lib/python3.7/dist-packages (from python-dateutil>=2.1->matplotlib==3.1.1->pdpbox) (1.15.0)\n",
            "Requirement already satisfied: pytz>=2017.3 in /usr/local/lib/python3.7/dist-packages (from pandas->pdpbox) (2022.2.1)\n",
            "Requirement already satisfied: scikit-learn in /usr/local/lib/python3.7/dist-packages (from sklearn->pdpbox) (1.0.2)\n",
            "Requirement already satisfied: threadpoolctl>=2.0.0 in /usr/local/lib/python3.7/dist-packages (from scikit-learn->sklearn->pdpbox) (3.1.0)\n"
          ]
        }
      ]
    },
    {
      "cell_type": "code",
      "source": [
        "from sklearn.model_selection import train_test_split\n",
        "from sklearn.model_selection import cross_val_score\n",
        "from sklearn.preprocessing import StandardScaler\n",
        "from sklearn.preprocessing import PolynomialFeatures\n",
        "from sklearn.linear_model import LinearRegression\n",
        "from sklearn.linear_model import LogisticRegression, LogisticRegressionCV\n",
        "from sklearn.linear_model import Ridge, Lasso, ElasticNet\n",
        "from sklearn.linear_model import RidgeCV, LassoCV, ElasticNetCV\n",
        "from sklearn.model_selection import RandomizedSearchCV\n",
        "from sklearn.metrics import mean_absolute_error, mean_squared_error, r2_score\n",
        "from sklearn.preprocessing import LabelEncoder\n",
        "from category_encoders import OneHotEncoder\n",
        "from sklearn.pipeline import make_pipeline\n",
        "import xgboost as xgb\n",
        "from xgboost import XGBRegressor\n",
        "from hyperopt import hp\n",
        "from hyperopt import fmin, tpe, Trials, STATUS_OK\n",
        "from eli5.sklearn import PermutationImportance\n",
        "from pdpbox.pdp import pdp_isolate, pdp_plot\n",
        "from pdpbox.pdp import pdp_interact, pdp_interact_plot"
      ],
      "metadata": {
        "id": "vC0VgqvA3o8_"
      },
      "execution_count": 24,
      "outputs": []
    },
    {
      "cell_type": "markdown",
      "source": [
        "중간 점검 때 체크했던 사항을 시행한다.  \n",
        "1. 재생시간이 7분 초과의 트랙을 삭제한다.\n",
        "2. 대중 음악과 동떨어지는 장르를 삭제한다.\n",
        " - 'Anime', 'Comedy', 'Opera', 'Movie', 'A Capella', 'Classical', \"Children's Music\""
      ],
      "metadata": {
        "id": "72tdFQuXcdBW"
      }
    },
    {
      "cell_type": "code",
      "source": [
        "# # 재생시간이 7분 초과인 트랙 삭제\n",
        "# long_dur = train.query(\"duration_m>7\").index\n",
        "# train = train.drop(long_dur)"
      ],
      "metadata": {
        "id": "FCmHpZeshtOB"
      },
      "execution_count": 25,
      "outputs": []
    },
    {
      "cell_type": "markdown",
      "source": [
        "#### 문제 정의 3. 인기도에 가장 영향을 많이 주는 요소는 무엇일까요?"
      ],
      "metadata": {
        "id": "hOM3MPddYzJY"
      }
    },
    {
      "cell_type": "markdown",
      "source": [
        "> 가설 3. 인기도에 가장 영향을 많이 주는 요소는 energy일 것이다."
      ],
      "metadata": {
        "id": "Jmfo2gPGUX-h"
      }
    }
  ]
}